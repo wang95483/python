{
 "cells": [
  {
   "cell_type": "markdown",
   "id": "7f4a6c63-21a9-433f-b6b1-d8278db0ded3",
   "metadata": {},
   "source": [
    "# PYTHON REVIEW"
   ]
  },
  {
   "cell_type": "markdown",
   "id": "122ffbec-6396-4cdc-8791-2721b6e1be46",
   "metadata": {
    "jp-MarkdownHeadingCollapsed": true
   },
   "source": [
    "## Basic Trial"
   ]
  },
  {
   "cell_type": "code",
   "execution_count": null,
   "id": "d312fd4a-bbf5-4486-91c2-06a2618f9ddc",
   "metadata": {},
   "outputs": [],
   "source": [
    "import os\n",
    "print(os.getcwd())"
   ]
  },
  {
   "cell_type": "code",
   "execution_count": 157,
   "id": "e73bd82f-0e51-4178-8d4e-7cac921feb59",
   "metadata": {},
   "outputs": [
    {
     "name": "stdout",
     "output_type": "stream",
     "text": [
      "/Users/wanghaoling/Documents\n"
     ]
    }
   ],
   "source": [
    "cd /Users/wanghaoling/Documents"
   ]
  },
  {
   "cell_type": "code",
   "execution_count": null,
   "id": "76541c32-1a0c-4bbb-9566-6a5391b48b83",
   "metadata": {},
   "outputs": [
    {
     "name": "stdout",
     "output_type": "stream",
     "text": [
      "\u001b[32m[I 2025-02-10 16:30:48.865 ServerApp]\u001b[m Extension package aext_assistant took 0.1697s to import\n",
      "\u001b[33m[W 2025-02-10 16:30:48.875 ServerApp]\u001b[m aext_panels | error adding extension (enabled: True): The module 'aext_panels' could not be found (cannot import name 'AuthConfig' from 'anaconda_cloud_auth.client' (/opt/anaconda3/lib/python3.12/site-packages/anaconda_cloud_auth/client.py)). Are you sure the extension is installed?\n",
      "    Traceback (most recent call last):\n",
      "      File \"/opt/anaconda3/lib/python3.12/site-packages/jupyter_server/extension/manager.py\", line 323, in add_extension\n",
      "        extpkg = ExtensionPackage(name=extension_name, enabled=enabled)\n",
      "                 ^^^^^^^^^^^^^^^^^^^^^^^^^^^^^^^^^^^^^^^^^^^^^^^^^^^^^^\n",
      "      File \"/opt/anaconda3/lib/python3.12/site-packages/jupyter_server/extension/manager.py\", line 187, in __init__\n",
      "        self._load_metadata()\n",
      "      File \"/opt/anaconda3/lib/python3.12/site-packages/jupyter_server/extension/manager.py\", line 202, in _load_metadata\n",
      "        raise ExtensionModuleNotFound(msg) from None\n",
      "    jupyter_server.extension.utils.ExtensionModuleNotFound: The module 'aext_panels' could not be found (cannot import name 'AuthConfig' from 'anaconda_cloud_auth.client' (/opt/anaconda3/lib/python3.12/site-packages/anaconda_cloud_auth/client.py)). Are you sure the extension is installed?\n",
      "\u001b[33m[W 2025-02-10 16:30:48.891 ServerApp]\u001b[m A `_jupyter_server_extension_points` function was not found in jupyter_lsp. Instead, a `_jupyter_server_extension_paths` function was found and will be used for now. This function name will be deprecated in future releases of Jupyter Server.\n",
      "\u001b[33m[W 2025-02-10 16:30:48.935 ServerApp]\u001b[m A `_jupyter_server_extension_points` function was not found in notebook_shim. Instead, a `_jupyter_server_extension_paths` function was found and will be used for now. This function name will be deprecated in future releases of Jupyter Server.\n",
      "\u001b[32m[I 2025-02-10 16:30:49.654 ServerApp]\u001b[m Extension package panel.io.jupyter_server_extension took 0.7179s to import\n",
      "\u001b[32m[I 2025-02-10 16:30:49.654 ServerApp]\u001b[m aext_assistant | extension was successfully linked.\n",
      "\u001b[32m[I 2025-02-10 16:30:49.654 ServerApp]\u001b[m aext_core | extension was successfully linked.\n",
      "\u001b[32m[I 2025-02-10 16:30:49.654 ServerApp]\u001b[m aext_share_notebook | extension was successfully linked.\n",
      "\u001b[32m[I 2025-02-10 16:30:49.654 ServerApp]\u001b[m jupyter_lsp | extension was successfully linked.\n",
      "\u001b[32m[I 2025-02-10 16:30:49.655 ServerApp]\u001b[m jupyter_server_terminals | extension was successfully linked.\n",
      "\u001b[32m[I 2025-02-10 16:30:49.657 ServerApp]\u001b[m jupyterlab | extension was successfully linked.\n",
      "\u001b[32m[I 2025-02-10 16:30:49.658 ServerApp]\u001b[m notebook | extension was successfully linked.\n",
      "\u001b[32m[I 2025-02-10 16:30:49.852 ServerApp]\u001b[m notebook_shim | extension was successfully linked.\n",
      "\u001b[32m[I 2025-02-10 16:30:49.852 ServerApp]\u001b[m panel.io.jupyter_server_extension | extension was successfully linked.\n",
      "\u001b[32m[I 2025-02-10 16:30:49.872 ServerApp]\u001b[m notebook_shim | extension was successfully loaded.\n",
      "\u001b[32m[I 2025-02-10 16:30:49.873 ServerApp]\u001b[m Registered aext_assistant server extension\n",
      "\u001b[32m[I 2025-02-10 16:30:49.873 ServerApp]\u001b[m aext_assistant | extension was successfully loaded.\n",
      "\u001b[32m[I 2025-02-10 16:30:49.873 ServerApp]\u001b[m Registered aext_core server extension\n",
      "\u001b[32m[I 2025-02-10 16:30:49.873 ServerApp]\u001b[m aext_core | extension was successfully loaded.\n",
      "\u001b[32m[I 2025-02-10 16:30:49.873 ServerApp]\u001b[m Registered aext_share_notebook_server server extension\n",
      "\u001b[32m[I 2025-02-10 16:30:49.873 ServerApp]\u001b[m aext_share_notebook | extension was successfully loaded.\n",
      "\u001b[32m[I 2025-02-10 16:30:49.874 ServerApp]\u001b[m jupyter_lsp | extension was successfully loaded.\n",
      "\u001b[32m[I 2025-02-10 16:30:49.875 ServerApp]\u001b[m jupyter_server_terminals | extension was successfully loaded.\n",
      "\u001b[32m[I 2025-02-10 16:30:49.877 LabApp]\u001b[m JupyterLab extension loaded from /opt/anaconda3/lib/python3.12/site-packages/jupyterlab\n",
      "\u001b[32m[I 2025-02-10 16:30:49.877 LabApp]\u001b[m JupyterLab application directory is /opt/anaconda3/share/jupyter/lab\n",
      "\u001b[32m[I 2025-02-10 16:30:49.878 LabApp]\u001b[m Extension Manager is 'pypi'.\n",
      "\u001b[32m[I 2025-02-10 16:30:49.879 ServerApp]\u001b[m jupyterlab | extension was successfully loaded.\n",
      "\u001b[32m[I 2025-02-10 16:30:49.880 ServerApp]\u001b[m notebook | extension was successfully loaded.\n",
      "\u001b[32m[I 2025-02-10 16:30:49.880 ServerApp]\u001b[m panel.io.jupyter_server_extension | extension was successfully loaded.\n",
      "\u001b[32m[I 2025-02-10 16:30:49.881 ServerApp]\u001b[m The port 8888 is already in use, trying another port.\n",
      "\u001b[32m[I 2025-02-10 16:30:49.881 ServerApp]\u001b[m Serving notebooks from local directory: /Users/wanghaoling/Documents\n",
      "\u001b[32m[I 2025-02-10 16:30:49.881 ServerApp]\u001b[m Jupyter Server 2.14.1 is running at:\n",
      "\u001b[32m[I 2025-02-10 16:30:49.881 ServerApp]\u001b[m http://localhost:8889/tree?token=f848f65837a005302cc3b43c6cb761121d359a6384734fd4\n",
      "\u001b[32m[I 2025-02-10 16:30:49.881 ServerApp]\u001b[m     http://127.0.0.1:8889/tree?token=f848f65837a005302cc3b43c6cb761121d359a6384734fd4\n",
      "\u001b[32m[I 2025-02-10 16:30:49.881 ServerApp]\u001b[m Use Control-C to stop this server and shut down all kernels (twice to skip confirmation).\n",
      "\u001b[35m[C 2025-02-10 16:30:49.886 ServerApp]\u001b[m \n",
      "    \n",
      "    To access the server, open this file in a browser:\n",
      "        file:///Users/wanghaoling/Library/Jupyter/runtime/jpserver-48290-open.html\n",
      "    Or copy and paste one of these URLs:\n",
      "        http://localhost:8889/tree?token=f848f65837a005302cc3b43c6cb761121d359a6384734fd4\n",
      "        http://127.0.0.1:8889/tree?token=f848f65837a005302cc3b43c6cb761121d359a6384734fd4\n",
      "0.00s - Debugger warning: It seems that frozen modules are being used, which may\n",
      "0.00s - make the debugger miss breakpoints. Please pass -Xfrozen_modules=off\n",
      "0.00s - to python to disable frozen modules.\n",
      "0.00s - Note: Debugging will proceed. Set PYDEVD_DISABLE_FILE_VALIDATION=1 to disable this validation.\n",
      "\u001b[33m[W 2025-02-10 16:30:53.502 ServerApp]\u001b[m wrote error: 'Forbidden'\n",
      "    Traceback (most recent call last):\n",
      "      File \"/opt/anaconda3/lib/python3.12/site-packages/tornado/web.py\", line 1790, in _execute\n",
      "        result = await result\n",
      "                 ^^^^^^^^^^^^\n",
      "      File \"/opt/anaconda3/lib/python3.12/site-packages/aext_assistant_server/handlers.py\", line 117, in get\n",
      "        raise HTTPError(403, reason=\"missing nucleus_token\")\n",
      "    tornado.web.HTTPError: HTTP 403: missing nucleus_token\n",
      "\u001b[33m[W 2025-02-10 16:30:53.504 ServerApp]\u001b[m 403 GET /aext_assistant_server/nucleus_token?1739176253417 (6a1dec43a233467aae0f5367b6284ba8@::1) 1.94ms referer=http://localhost:8889/tree\n",
      "\u001b[32m[I 2025-02-10 16:31:00.665 ServerApp]\u001b[m Skipped non-installed server(s): bash-language-server, dockerfile-language-server-nodejs, javascript-typescript-langserver, jedi-language-server, julia-language-server, pyright, python-language-server, r-languageserver, sql-language-server, texlab, typescript-language-server, unified-language-server, vscode-css-languageserver-bin, vscode-html-languageserver-bin, vscode-json-languageserver-bin, yaml-language-server\n"
     ]
    }
   ],
   "source": [
    "!jupyter notebook\n"
   ]
  },
  {
   "cell_type": "code",
   "execution_count": null,
   "id": "ff2daa72-20d8-41a4-b12d-df2a6713621d",
   "metadata": {},
   "outputs": [],
   "source": [
    "import shutil\n",
    "shutil.move(\"ReviewL1-L5.ipynb\", \"/Users/wanghaoling/Desktop/pythonr/ReviewL1-L5.ipynb\")"
   ]
  },
  {
   "cell_type": "code",
   "execution_count": null,
   "id": "96c55a4a-cf9c-445c-b5df-b24d5a18998d",
   "metadata": {},
   "outputs": [],
   "source": [
    "import os\n",
    "print(os.getcwd())"
   ]
  },
  {
   "cell_type": "markdown",
   "id": "9795fe64-757d-4e69-bc91-6721b2b5c402",
   "metadata": {
    "jp-MarkdownHeadingCollapsed": true
   },
   "source": [
    "## L1 ESSENTIAL"
   ]
  },
  {
   "cell_type": "markdown",
   "id": "5388a14c-88f0-4474-828f-c75c917919ce",
   "metadata": {
    "jp-MarkdownHeadingCollapsed": true
   },
   "source": [
    "### Interaction"
   ]
  },
  {
   "cell_type": "code",
   "execution_count": 11,
   "id": "82ee1757-4696-4e20-ad10-bc69b61aecec",
   "metadata": {},
   "outputs": [
    {
     "name": "stdin",
     "output_type": "stream",
     "text": [
      "Enter your name:  JENNY\n"
     ]
    }
   ],
   "source": [
    "name = input('Enter your name: ') "
   ]
  },
  {
   "cell_type": "code",
   "execution_count": 13,
   "id": "e7057d79-8316-4227-bb50-e3179a1c56dc",
   "metadata": {},
   "outputs": [
    {
     "data": {
      "text/plain": [
       "str"
      ]
     },
     "execution_count": 13,
     "metadata": {},
     "output_type": "execute_result"
    }
   ],
   "source": [
    "type(name)"
   ]
  },
  {
   "cell_type": "code",
   "execution_count": 15,
   "id": "14be90bb-be0e-4575-bcf5-a6b7888e9c55",
   "metadata": {},
   "outputs": [
    {
     "name": "stdout",
     "output_type": "stream",
     "text": [
      "<class 'str'>\n"
     ]
    }
   ],
   "source": [
    "print (type(name))"
   ]
  },
  {
   "cell_type": "markdown",
   "id": "685aefc6-9ad0-44d9-967a-df118d9c9efe",
   "metadata": {},
   "source": [
    "### Variable"
   ]
  },
  {
   "cell_type": "code",
   "execution_count": 33,
   "id": "df617082-cc59-446e-8314-6af4f3e82ff4",
   "metadata": {},
   "outputs": [
    {
     "ename": "TypeError",
     "evalue": "'str' object does not support item assignment",
     "output_type": "error",
     "traceback": [
      "\u001b[0;31m---------------------------------------------------------------------------\u001b[0m",
      "\u001b[0;31mTypeError\u001b[0m                                 Traceback (most recent call last)",
      "Cell \u001b[0;32mIn[33], line 8\u001b[0m\n\u001b[1;32m      5\u001b[0m my_variable[\u001b[38;5;241m0\u001b[39m]\n\u001b[1;32m      7\u001b[0m \u001b[38;5;66;03m#Re-assign the first character?\u001b[39;00m\n\u001b[0;32m----> 8\u001b[0m my_variable[\u001b[38;5;241m0\u001b[39m] \u001b[38;5;241m=\u001b[39m \u001b[38;5;124m\"\u001b[39m\u001b[38;5;124mH\u001b[39m\u001b[38;5;124m\"\u001b[39m\n",
      "\u001b[0;31mTypeError\u001b[0m: 'str' object does not support item assignment"
     ]
    }
   ],
   "source": [
    "#Define the new variable\n",
    "my_variable = 'Bob'\n",
    "\n",
    "#Read the first character\n",
    "my_variable[0]\n",
    "\n",
    "#Re-assign the first character?\n",
    "my_variable[0] = \"H\""
   ]
  },
  {
   "cell_type": "markdown",
   "id": "5ee15a8a-5d22-41c2-b22f-78e10cbf5cd2",
   "metadata": {},
   "source": [
    "### String"
   ]
  },
  {
   "cell_type": "code",
   "execution_count": 35,
   "id": "1723792a-059d-4689-9d8d-dbbf79463399",
   "metadata": {},
   "outputs": [
    {
     "name": "stdout",
     "output_type": "stream",
     "text": [
      "Good day\n",
      "Hello World\n"
     ]
    }
   ],
   "source": [
    "string_1 = 'Good'\n",
    "string_2 = \" day\"\n",
    "string_3 = string_1 + string_2\n",
    "print(string_3)\n",
    "print('Hello ' + 'World')"
   ]
  },
  {
   "cell_type": "code",
   "execution_count": 37,
   "id": "e78ea70a-10ec-49b6-9639-96b91707ab76",
   "metadata": {},
   "outputs": [
    {
     "name": "stdout",
     "output_type": "stream",
     "text": [
      "8\n"
     ]
    }
   ],
   "source": [
    "string_1 = 'Good'\n",
    "string_2 = \" day\"\n",
    "string_3 = string_1 + string_2\n",
    "print(len(string_3))"
   ]
  },
  {
   "cell_type": "code",
   "execution_count": 39,
   "id": "8e49271c-a9a5-4f12-bc85-ec4cf5566a58",
   "metadata": {},
   "outputs": [
    {
     "name": "stdout",
     "output_type": "stream",
     "text": [
      "o\n"
     ]
    }
   ],
   "source": [
    "my_string = 'Hello World'\n",
    "print(my_string[4])"
   ]
  },
  {
   "cell_type": "code",
   "execution_count": 41,
   "id": "db4da508-5cfa-49e4-8a93-dcb176b0da7c",
   "metadata": {},
   "outputs": [
    {
     "name": "stdout",
     "output_type": "stream",
     "text": [
      "o\n",
      "Hello\n",
      "llo World\n"
     ]
    }
   ],
   "source": [
    "#Subset of Characters\n",
    "my_string = 'Hello World'\n",
    "print(my_string[4]) #characters at position 4\n",
    "print(my_string[0:5]) #from start to position 5\n",
    "print(my_string[2:len(my_string)]) #from position 2 to the end"
   ]
  },
  {
   "cell_type": "code",
   "execution_count": 43,
   "id": "21111a68-ce07-4c59-a5f3-b4947231b2b2",
   "metadata": {},
   "outputs": [
    {
     "name": "stdout",
     "output_type": "stream",
     "text": [
      "**********\n",
      "HiHiHiHiHiHiHiHiHiHi\n"
     ]
    }
   ],
   "source": [
    "#Repeating Strings\n",
    "print('*' * 10)\n",
    "print('Hi' * 10)"
   ]
  },
  {
   "cell_type": "markdown",
   "id": "f35846fb-1cce-471a-b63e-8b25dddc4e74",
   "metadata": {},
   "source": [
    "* string.split()"
   ]
  },
  {
   "cell_type": "code",
   "execution_count": 50,
   "id": "fd8cbbfe-a0d5-463c-8ecc-22b3cf707241",
   "metadata": {},
   "outputs": [
    {
     "name": "stdout",
     "output_type": "stream",
     "text": [
      "Source string: The Good, The Bad, and the Ugly\n",
      "Split using a space\n",
      "['The', 'Good,', 'The', 'Bad,', 'and', 'the', 'Ugly']\n",
      "Split using a comma\n",
      "['The Good', ' The Bad', ' and the Ugly']\n"
     ]
    }
   ],
   "source": [
    "#Splitting Strings\n",
    "title = 'The Good, The Bad, and the Ugly'\n",
    "print('Source string:', title)\n",
    "print('Split using a space')\n",
    "print(title.split(' '))\n",
    "print('Split using a comma')\n",
    "print(title.split(','))"
   ]
  },
  {
   "cell_type": "markdown",
   "id": "ce4e4d77-8dcf-4b19-82d6-dfd98b3b0ad2",
   "metadata": {},
   "source": [
    "* string.count()"
   ]
  },
  {
   "cell_type": "code",
   "execution_count": 53,
   "id": "914a0f47-af0d-4dc7-b907-ee73bb2ad611",
   "metadata": {},
   "outputs": [
    {
     "name": "stdout",
     "output_type": "stream",
     "text": [
      "my_string.count(' '): 4\n"
     ]
    }
   ],
   "source": [
    "my_string = 'Count, the number of spaces'\n",
    "print(\"my_string.count(' '):\", my_string.count(' '))"
   ]
  },
  {
   "cell_type": "code",
   "execution_count": 57,
   "id": "ef3b1e16-589d-4ff2-88fb-fe60d52afdc9",
   "metadata": {},
   "outputs": [
    {
     "name": "stdout",
     "output_type": "stream",
     "text": [
      "my_string.count('c'): 1\n"
     ]
    }
   ],
   "source": [
    "my_string = 'Count, the number of spaces'\n",
    "print(\"my_string.count('c'):\", my_string.count('c'))"
   ]
  },
  {
   "cell_type": "markdown",
   "id": "bd5ccfd8-cf34-4e7f-ad4e-56988aac097c",
   "metadata": {},
   "source": [
    "* string.replace()"
   ]
  },
  {
   "cell_type": "code",
   "execution_count": 60,
   "id": "41309997-b4b3-4658-934e-ecb96bb75ac0",
   "metadata": {},
   "outputs": [
    {
     "name": "stdout",
     "output_type": "stream",
     "text": [
      "Goodbye World!\n"
     ]
    }
   ],
   "source": [
    "welcome_message = 'Hello World!'\n",
    "print(welcome_message.replace(\"Hello\", \"Goodbye\"))"
   ]
  },
  {
   "cell_type": "markdown",
   "id": "aa73eae1-a851-47c6-8d7d-f1671f83f549",
   "metadata": {},
   "source": [
    "* str()"
   ]
  },
  {
   "cell_type": "code",
   "execution_count": 65,
   "id": "543c2903-0829-4e5f-be29-6a65869f2bb9",
   "metadata": {},
   "outputs": [
    {
     "name": "stdout",
     "output_type": "stream",
     "text": [
      "Hello Lloyd you are 21\n"
     ]
    }
   ],
   "source": [
    "#Converting Other Types into Strings\n",
    "msg = 'Hello Lloyd you are ' + str(21)\n",
    "print(msg)"
   ]
  },
  {
   "cell_type": "markdown",
   "id": "4692f00f-f0df-4836-b631-971e3716a50f",
   "metadata": {},
   "source": [
    "* == and !="
   ]
  },
  {
   "cell_type": "code",
   "execution_count": 70,
   "id": "8ee2dd85-ccdb-4cc5-997d-0b7f3b613831",
   "metadata": {},
   "outputs": [
    {
     "name": "stdout",
     "output_type": "stream",
     "text": [
      "True\n",
      "False\n",
      "True\n"
     ]
    }
   ],
   "source": [
    "print('James' == 'James') \n",
    "print('James' == 'John') \n",
    "print('James' != 'John') "
   ]
  },
  {
   "cell_type": "markdown",
   "id": "2cb3fe77-5947-4b81-b6e0-806f840e2994",
   "metadata": {},
   "source": [
    "* string.format(v1, v2,...)\n",
    "* or use index\n",
    "* or use named values"
   ]
  },
  {
   "cell_type": "code",
   "execution_count": 74,
   "id": "6a68f17b-51bc-4812-b6dd-d668ca67e7f8",
   "metadata": {},
   "outputs": [
    {
     "name": "stdout",
     "output_type": "stream",
     "text": [
      "JENNY is 20 years old\n"
     ]
    }
   ],
   "source": [
    "age = 20 \n",
    "print(\"{} is {} years old\".format(name, age))"
   ]
  },
  {
   "cell_type": "code",
   "execution_count": 79,
   "id": "2a1fa61c-d2b7-468e-ac7a-d06e931daa8c",
   "metadata": {},
   "outputs": [
    {
     "name": "stdout",
     "output_type": "stream",
     "text": [
      "JENNY is 20 years old living in USA\n"
     ]
    }
   ],
   "source": [
    "state = \"USA\"\n",
    "print(\"{} is {} years old living in {}\".format(name, age, state))"
   ]
  },
  {
   "cell_type": "code",
   "execution_count": 82,
   "id": "f54857e3-dbc2-4e61-a5e3-eec2d8d4af72",
   "metadata": {},
   "outputs": [
    {
     "name": "stdout",
     "output_type": "stream",
     "text": [
      "Hello Carol Smith, you got 75%\n"
     ]
    }
   ],
   "source": [
    "# Can specify an index for the substitution\n",
    "format_string = \"Hello {1} {0}, you got {2}%\"\n",
    "print(format_string.format('Smith', 'Carol', 75))"
   ]
  },
  {
   "cell_type": "code",
   "execution_count": 86,
   "id": "4d69ef68-b011-471f-b8ed-4588fcc771f0",
   "metadata": {},
   "outputs": [
    {
     "name": "stdout",
     "output_type": "stream",
     "text": [
      "Paloma Faith sang Guilty in 2017\n"
     ]
    }
   ],
   "source": [
    "# Can use named substitutions, order is not significant\n",
    "format_string = \"{artist} sang {song} in {year}\"\n",
    "print(format_string.format(artist='Paloma Faith', song='Guilty', year=2017))"
   ]
  },
  {
   "cell_type": "markdown",
   "id": "35c53fb1-656e-4289-b172-23dbe7446acc",
   "metadata": {},
   "source": [
    "### Numbers, Booleans, None"
   ]
  },
  {
   "cell_type": "markdown",
   "id": "e8bbccfc-6278-4992-aee3-cba8fd91a0b3",
   "metadata": {},
   "source": [
    "### Numbers"
   ]
  },
  {
   "cell_type": "markdown",
   "id": "4bd0dc46-9824-4b54-a2db-7fc21ac89266",
   "metadata": {},
   "source": [
    "* Types of numbers\n",
    "    * integers\n",
    "    * floating point numebrs\n",
    "    * complex numbers"
   ]
  },
  {
   "cell_type": "markdown",
   "id": "9e4af9c7-9b3c-4b8c-a199-f768a6eed8f8",
   "metadata": {},
   "source": [
    "Converting between types"
   ]
  },
  {
   "cell_type": "markdown",
   "id": "0b430d36-b659-4180-adb6-38891ffe991e",
   "metadata": {},
   "source": [
    "* int()\n",
    "convert a floating point number into an int"
   ]
  },
  {
   "cell_type": "code",
   "execution_count": 95,
   "id": "3868f8ec-7b1a-4ea9-9f33-c4fcb7faf92a",
   "metadata": {},
   "outputs": [
    {
     "data": {
      "text/plain": [
       "1"
      ]
     },
     "execution_count": 95,
     "metadata": {},
     "output_type": "execute_result"
    }
   ],
   "source": [
    "i = int(1.0)\n",
    "i"
   ]
  },
  {
   "cell_type": "markdown",
   "id": "26b6783f-ea8e-4a45-b8c9-a8c033ef306d",
   "metadata": {},
   "source": [
    "* float() convert an integer into a float"
   ]
  },
  {
   "cell_type": "code",
   "execution_count": 105,
   "id": "0ca14dcb-671b-4a21-9be1-0aa2e20e6385",
   "metadata": {},
   "outputs": [
    {
     "name": "stdout",
     "output_type": "stream",
     "text": [
      "int value as a float: 1.0\n",
      "<class 'float'>\n",
      "string value as a float: 1.5\n",
      "<class 'str'>\n"
     ]
    }
   ],
   "source": [
    "int_value = 1\n",
    "string_value = '1.5'\n",
    "float_value = float(int_value)\n",
    "print('int value as a float:', float_value)\n",
    "print(type(float_value))\n",
    "float_value = float(string_value)\n",
    "print('string value as a float:', float_value)\n",
    "print(type(string_value))"
   ]
  },
  {
   "cell_type": "markdown",
   "id": "8be9abc9-236d-4b3c-891b-0f72d241eb9d",
   "metadata": {},
   "source": [
    "### Boolean"
   ]
  },
  {
   "cell_type": "code",
   "execution_count": 109,
   "id": "08e560fe-de44-4aaf-84af-b4abb35d9add",
   "metadata": {},
   "outputs": [
    {
     "name": "stdout",
     "output_type": "stream",
     "text": [
      "True\n",
      "False\n",
      "<class 'bool'>\n"
     ]
    }
   ],
   "source": [
    "all_ok = True\n",
    "print(all_ok)\n",
    "all_ok = False\n",
    "print(all_ok)\n",
    "print(type(all_ok))"
   ]
  },
  {
   "cell_type": "markdown",
   "id": "6f586db1-2b07-40c4-a923-cf1e811bc022",
   "metadata": {},
   "source": [
    "* bool()  (&int()) translate between integer and boolean"
   ]
  },
  {
   "cell_type": "code",
   "execution_count": 114,
   "id": "50689322-b182-460d-a404-f0218fc4043f",
   "metadata": {},
   "outputs": [
    {
     "name": "stdout",
     "output_type": "stream",
     "text": [
      "1\n",
      "0\n",
      "True\n",
      "False\n"
     ]
    }
   ],
   "source": [
    "print(int(True))\n",
    "print(int(False))\n",
    "print(bool(1))\n",
    "print(bool(0))"
   ]
  },
  {
   "cell_type": "markdown",
   "id": "b03904a2-cd83-4e26-b981-e564aee56ebf",
   "metadata": {},
   "source": [
    "### None"
   ]
  },
  {
   "cell_type": "code",
   "execution_count": 119,
   "id": "6bd71755-a1bf-4fbd-b73a-027d32c6fac3",
   "metadata": {},
   "outputs": [
    {
     "name": "stdout",
     "output_type": "stream",
     "text": [
      "winner: None\n",
      "winner is None: True\n",
      "winner is not None: False\n",
      "<class 'NoneType'>\n"
     ]
    }
   ],
   "source": [
    "winner = None\n",
    "print('winner:', winner)\n",
    "print('winner is None:', winner is None)\n",
    "print('winner is not None:', winner is not None)\n",
    "print(type(winner))"
   ]
  },
  {
   "cell_type": "code",
   "execution_count": 121,
   "id": "5000f289-9ece-4bbe-bed0-81c0ee8d95b1",
   "metadata": {},
   "outputs": [
    {
     "name": "stdout",
     "output_type": "stream",
     "text": [
      "winner: True\n",
      "winner is None: False\n",
      "winner is not None: True\n",
      "<class 'bool'>\n"
     ]
    }
   ],
   "source": [
    "winner = True\n",
    "print('winner:', winner)\n",
    "print('winner is None:', winner is None)\n",
    "print('winner is not None:', winner is not None)\n",
    "print(type(winner))"
   ]
  },
  {
   "cell_type": "markdown",
   "id": "6cad2601-5b09-42d7-94f2-b55db15a24a0",
   "metadata": {},
   "source": [
    "### Arithmetic operators"
   ]
  },
  {
   "cell_type": "markdown",
   "id": "7443c0d6-2e40-4aad-b953-e225c8401cad",
   "metadata": {},
   "source": [
    "// integer division (ignore any remainder)"
   ]
  },
  {
   "cell_type": "markdown",
   "id": "c5a32d28-51f5-4bd3-a9a3-8eb3cd29494d",
   "metadata": {},
   "source": [
    "% Modulus only return any remainder"
   ]
  },
  {
   "cell_type": "markdown",
   "id": "0f0a86b1-d2f1-4078-98aa-c9332182721c",
   "metadata": {},
   "source": [
    "** exponent"
   ]
  },
  {
   "cell_type": "markdown",
   "id": "7010c70b-8a8a-4f66-90f7-746e6befaf2d",
   "metadata": {},
   "source": [
    "others see the note and ppt"
   ]
  },
  {
   "cell_type": "code",
   "execution_count": 134,
   "id": "89ab5323-cc66-4420-a68c-0575cd0829f5",
   "metadata": {},
   "outputs": [
    {
     "name": "stdout",
     "output_type": "stream",
     "text": [
      "1\n"
     ]
    }
   ],
   "source": [
    "x = 0\n",
    "x+=1 #x=x+1\n",
    "print(x)"
   ]
  },
  {
   "cell_type": "markdown",
   "id": "283f3c78-e606-4b78-a20a-f5c576e72c0b",
   "metadata": {
    "jp-MarkdownHeadingCollapsed": true
   },
   "source": [
    "## L2 Flow of Control"
   ]
  },
  {
   "cell_type": "markdown",
   "id": "286177a0-0cb2-4919-9fb8-68d4ff77c274",
   "metadata": {
    "jp-MarkdownHeadingCollapsed": true
   },
   "source": [
    "### if statement"
   ]
  },
  {
   "cell_type": "markdown",
   "id": "fb93c388-9762-4552-a727-31de9d509589",
   "metadata": {},
   "source": [
    "### basic if "
   ]
  },
  {
   "cell_type": "code",
   "execution_count": 141,
   "id": "2b671087-6728-4b53-817c-f9256d893de3",
   "metadata": {},
   "outputs": [
    {
     "name": "stdin",
     "output_type": "stream",
     "text": [
      "Enter a number:  -9\n"
     ]
    },
    {
     "name": "stdout",
     "output_type": "stream",
     "text": [
      "-9 is negative\n"
     ]
    }
   ],
   "source": [
    "#A basic IF statement\n",
    "num = int(input('Enter a number: '))\n",
    "if num < 0:\n",
    "    print(num, 'is negative')"
   ]
  },
  {
   "cell_type": "markdown",
   "id": "049b66b1-96d3-4e08-a3e4-a34196013806",
   "metadata": {},
   "source": [
    "### if else"
   ]
  },
  {
   "cell_type": "code",
   "execution_count": 4,
   "id": "8bcf55c3-795f-468f-9e94-0e1420aed2be",
   "metadata": {},
   "outputs": [
    {
     "name": "stdin",
     "output_type": "stream",
     "text": [
      "Enter yet another number:  10\n"
     ]
    },
    {
     "name": "stdout",
     "output_type": "stream",
     "text": [
      "Its not negative\n"
     ]
    }
   ],
   "source": [
    "#A basic if-else statement\n",
    "num = int(input('Enter yet another number: '))\n",
    "if num < 0:\n",
    "    print('Its negative')\n",
    "else:\n",
    "    print('Its not negative')"
   ]
  },
  {
   "cell_type": "markdown",
   "id": "2e830651-75a9-433e-bf78-fca1da1cb534",
   "metadata": {},
   "source": [
    "### if-elif-else"
   ]
  },
  {
   "cell_type": "code",
   "execution_count": 14,
   "id": "b5f5be22-c537-4ca8-8aef-8860c9396d06",
   "metadata": {},
   "outputs": [
    {
     "name": "stdin",
     "output_type": "stream",
     "text": [
      "Enter how much you have in savings:  30000\n"
     ]
    },
    {
     "name": "stdout",
     "output_type": "stream",
     "text": [
      "Brilliant!\n"
     ]
    }
   ],
   "source": [
    "#A basic if-elif-else statement\n",
    "savings = float(input(\"Enter how much you have in savings: \"))\n",
    "if savings == 0:\n",
    "    print(\"Sorry no savings\")\n",
    "elif savings < 0:\n",
    "    print(\"You are joking\")\n",
    "elif savings < 500:\n",
    "    print('Well done')\n",
    "elif savings < 1000:\n",
    "    print('Thats a tidy sum')\n",
    "elif savings < 10000:\n",
    "    print('Welcome Sir!')\n",
    "elif savings > 10000:\n",
    "    print(\"Brilliant!\")\n",
    "else:\n",
    "    print('Thank you')"
   ]
  },
  {
   "cell_type": "markdown",
   "id": "e4ef39c4-5370-4328-976a-6cee84ea4ea9",
   "metadata": {},
   "source": [
    "### if expression"
   ]
  },
  {
   "cell_type": "code",
   "execution_count": 1,
   "id": "e209358e-3af5-4406-acb4-6b40f0d5e7b2",
   "metadata": {},
   "outputs": [
    {
     "name": "stdin",
     "output_type": "stream",
     "text": [
      "Enter your age: 20\n"
     ]
    },
    {
     "name": "stdout",
     "output_type": "stream",
     "text": [
      "not teenager\n"
     ]
    }
   ],
   "source": [
    "#A basic IF expression\n",
    "age = input('Enter your age:')\n",
    "status = None\n",
    "if (int(age) > 12) and int(age) < 20:\n",
    "    status = 'teenager'\n",
    "else:\n",
    "    status = 'not teenager'\n",
    "print(status)"
   ]
  },
  {
   "cell_type": "markdown",
   "id": "784f6336-e6ff-43e3-a3e1-0514ee3e80be",
   "metadata": {
    "jp-MarkdownHeadingCollapsed": true
   },
   "source": [
    "### Iteration and Looping"
   ]
  },
  {
   "cell_type": "markdown",
   "id": "fbb40b69-2143-4b08-b988-7d73fa536e32",
   "metadata": {},
   "source": [
    "### while loop"
   ]
  },
  {
   "cell_type": "markdown",
   "id": "8ad33488-68f3-4b6a-9d7f-bd2689c4f0ff",
   "metadata": {},
   "source": [
    "usually used when the number of $\\Large{\\textbf{times}}$ we need to repeat the block of code to execute is $\\Large{\\textbf{not known}}$"
   ]
  },
  {
   "cell_type": "code",
   "execution_count": 3,
   "id": "843798be-6575-4132-a49d-a9d9f8d01b51",
   "metadata": {},
   "outputs": [
    {
     "name": "stdout",
     "output_type": "stream",
     "text": [
      "Starting\n",
      "0  ,1  ,2  ,3  ,4  ,5  ,6  ,7  ,8  ,9  ,10  ,11  ,12  ,13  ,14  ,15  ,16  ,17  ,18  ,19  ,20  ,21  ,22  ,23  ,24  ,25  ,26  ,27  ,28  ,29  ,30  ,31  ,32  ,33  ,34  ,35  ,36  ,37  ,38  ,39  ,40  ,41  ,42  ,43  ,44  ,45  ,46  ,47  ,48  ,49  ,50  ,51  ,52  ,53  ,54  ,55  ,56  ,57  ,58  ,59  ,60  ,61  ,62  ,63  ,64  ,65  ,66  ,67  ,68  ,69  ,70  ,71  ,72  ,73  ,74  ,75  ,76  ,77  ,78  ,79  ,80  ,81  ,82  ,83  ,84  ,85  ,86  ,87  ,88  ,89  ,90  ,91  ,92  ,93  ,94  ,95  ,96  ,97  ,98  ,99  ,Done\n"
     ]
    }
   ],
   "source": [
    "#A basic WHILE loop\n",
    "count = 0\n",
    "print('Starting')\n",
    "while count < 100:\n",
    "    print(count,' ',end=',') \n",
    "    count += 1 \n",
    "print(\"Done\") "
   ]
  },
  {
   "cell_type": "markdown",
   "id": "50958013-7e06-4029-b570-5af8282c81be",
   "metadata": {},
   "source": [
    "### for loop"
   ]
  },
  {
   "cell_type": "markdown",
   "id": "f332f0e2-5fd5-4f7a-8306-6befd5a0ed0b",
   "metadata": {},
   "source": [
    "step a variable through a series of values until a given test is met"
   ]
  },
  {
   "cell_type": "code",
   "execution_count": 9,
   "id": "1b6d0153-1bd2-46b7-8fb3-ed3827c2e252",
   "metadata": {},
   "outputs": [
    {
     "name": "stdout",
     "output_type": "stream",
     "text": [
      "Print out values in a range\n",
      "0\n",
      "1\n",
      "2\n",
      "3\n",
      "4\n",
      "5\n",
      "6\n",
      "7\n",
      "8\n",
      "9\n",
      "Done\n"
     ]
    }
   ],
   "source": [
    "#A basic FOR loop\n",
    "#Loop over a set of values in a range\n",
    "print('Print out values in a range')\n",
    "for i in range(0,10):\n",
    "    print(i)\n",
    "print('Done')"
   ]
  },
  {
   "cell_type": "markdown",
   "id": "e18b5ea1-ea75-45f1-aed4-b8a42428dd19",
   "metadata": {},
   "source": [
    "* anonymous for loop"
   ]
  },
  {
   "cell_type": "code",
   "execution_count": 14,
   "id": "6cc6429c-45d0-4024-aa0b-f7be9b0e9483",
   "metadata": {},
   "outputs": [
    {
     "name": "stdout",
     "output_type": "stream",
     "text": [
      ".........."
     ]
    }
   ],
   "source": [
    "#Now use an 'anonymous' loop variable\n",
    "for _ in range(0,10):\n",
    "    print('.', end='')"
   ]
  },
  {
   "cell_type": "code",
   "execution_count": 20,
   "id": "0836001a-dc1b-4343-acbb-d5411ad2d696",
   "metadata": {},
   "outputs": [
    {
     "name": "stdout",
     "output_type": "stream",
     "text": [
      "love love love love love love love love love love "
     ]
    }
   ],
   "source": [
    "for _ in range(0,10):\n",
    "    print('love', '', end='')"
   ]
  },
  {
   "cell_type": "markdown",
   "id": "b614d2a2-0e8b-4f30-8e12-2f234a98fe38",
   "metadata": {},
   "source": [
    "### break loop statement"
   ]
  },
  {
   "cell_type": "markdown",
   "id": "17ae2e25-5eff-4c97-90e6-96068a10a6c3",
   "metadata": {},
   "source": [
    "The break statement allows a developer to alter the normal cycle of the loop based on some criteria which may not be predictable in advance"
   ]
  },
  {
   "cell_type": "code",
   "execution_count": 30,
   "id": "151b3bc7-d6cc-40e3-a79e-73b5acdc47dd",
   "metadata": {},
   "outputs": [
    {
     "name": "stdout",
     "output_type": "stream",
     "text": [
      "Only print code if all iterations completed\n"
     ]
    },
    {
     "name": "stdin",
     "output_type": "stream",
     "text": [
      "Enter a number to check for:  2\n"
     ]
    },
    {
     "name": "stdout",
     "output_type": "stream",
     "text": [
      "0  1  Done\n"
     ]
    }
   ],
   "source": [
    "#Breaking a loop\n",
    "print('Only print code if all iterations completed')\n",
    "num = int(input('Enter a number to check for: '))\n",
    "for i in range(0, 6):\n",
    "    if i == num:\n",
    "        break\n",
    "    print(i, ' ', end='')\n",
    "print('Done')"
   ]
  },
  {
   "cell_type": "markdown",
   "id": "15797d25-51a4-40e7-9d21-7a9db5a8da34",
   "metadata": {},
   "source": [
    "### continue loop statement"
   ]
  },
  {
   "cell_type": "markdown",
   "id": "c4c41c8f-9df8-40b9-b766-f7f3d75591b7",
   "metadata": {},
   "source": [
    "Allows you to skip over part of a loop’s iteration for a particular value, but then to continue with the remaining values in the sequence."
   ]
  },
  {
   "cell_type": "code",
   "execution_count": 34,
   "id": "fbaa5116-64fb-4206-9767-b28902fe67cc",
   "metadata": {},
   "outputs": [
    {
     "name": "stdout",
     "output_type": "stream",
     "text": [
      "0  hey its an even number\n",
      "we love even numbers\n",
      "1  2  hey its an even number\n",
      "we love even numbers\n",
      "3  4  hey its an even number\n",
      "we love even numbers\n",
      "5  6  hey its an even number\n",
      "we love even numbers\n",
      "7  8  hey its an even number\n",
      "we love even numbers\n",
      "9  Done\n"
     ]
    }
   ],
   "source": [
    "#Continuing a loop\n",
    "for i in range(0, 10):\n",
    "    print(i, ' ', end='')\n",
    "    if i % 2 == 1:\n",
    "        continue\n",
    "    print('hey its an even number')\n",
    "    print('we love even numbers')\n",
    "print('Done')"
   ]
  },
  {
   "cell_type": "markdown",
   "id": "a5d67928-e559-4246-83b6-40b1f8fe5e8e",
   "metadata": {
    "jp-MarkdownHeadingCollapsed": true
   },
   "source": [
    "## L3 Data Types and Structure"
   ]
  },
  {
   "cell_type": "markdown",
   "id": "df5436cf-69a7-4438-94ef-412141759710",
   "metadata": {},
   "source": [
    "basic data structures\n",
    "* tuples\n",
    "* lists\n",
    "* dictionaries\n",
    "* sets"
   ]
  },
  {
   "cell_type": "markdown",
   "id": "8d0d5ec4-2f4e-4f3c-aabb-6c2154a7ee7b",
   "metadata": {},
   "source": [
    "### tuples"
   ]
  },
  {
   "cell_type": "markdown",
   "id": "61b91766-1284-4b18-bb58-1480b6ba8eaa",
   "metadata": {},
   "source": [
    "two ways to write"
   ]
  },
  {
   "cell_type": "code",
   "execution_count": 49,
   "id": "f37cbc2f-8d68-4227-b751-a58f79b790ef",
   "metadata": {},
   "outputs": [
    {
     "data": {
      "text/plain": [
       "tuple"
      ]
     },
     "execution_count": 49,
     "metadata": {},
     "output_type": "execute_result"
    }
   ],
   "source": [
    "t = (1, 2.5, 'data')\n",
    "type(t)"
   ]
  },
  {
   "cell_type": "code",
   "execution_count": 51,
   "id": "b1f559d3-2e28-476e-9f9a-fbd068a41664",
   "metadata": {},
   "outputs": [
    {
     "data": {
      "text/plain": [
       "tuple"
      ]
     },
     "execution_count": 51,
     "metadata": {},
     "output_type": "execute_result"
    }
   ],
   "source": [
    "t = 1, 2.5, 'data'\n",
    "type(t)"
   ]
  },
  {
   "cell_type": "markdown",
   "id": "1c135c3e-9354-4c08-a0c3-9cc99dda403a",
   "metadata": {},
   "source": [
    "Python uses $\\Large{\\textbf{zero-based numbering}}$"
   ]
  },
  {
   "cell_type": "code",
   "execution_count": 54,
   "id": "d4e2eedd-cfbb-44ae-9598-82316ba615a4",
   "metadata": {},
   "outputs": [
    {
     "data": {
      "text/plain": [
       "str"
      ]
     },
     "execution_count": 54,
     "metadata": {},
     "output_type": "execute_result"
    }
   ],
   "source": [
    "t = 1, 2.5, 'data'\n",
    "t[2]\n",
    "type(t[2])"
   ]
  },
  {
   "cell_type": "code",
   "execution_count": 56,
   "id": "d4a34381-d73e-42a7-b07b-a6bba2530143",
   "metadata": {},
   "outputs": [
    {
     "data": {
      "text/plain": [
       "float"
      ]
     },
     "execution_count": 56,
     "metadata": {},
     "output_type": "execute_result"
    }
   ],
   "source": [
    "type(t[1])"
   ]
  },
  {
   "cell_type": "markdown",
   "id": "4a432c3c-4879-42c4-9c96-885af870c01f",
   "metadata": {},
   "source": [
    "* build-in method"
   ]
  },
  {
   "cell_type": "markdown",
   "id": "3fe15689-11c7-4d5f-a158-3f9becd0fecd",
   "metadata": {},
   "source": [
    "* t.count()"
   ]
  },
  {
   "cell_type": "code",
   "execution_count": 58,
   "id": "6ee6704a-b5f8-4db0-9cd8-98d884bcb664",
   "metadata": {},
   "outputs": [
    {
     "data": {
      "text/plain": [
       "1"
      ]
     },
     "execution_count": 58,
     "metadata": {},
     "output_type": "execute_result"
    }
   ],
   "source": [
    "t.count('data')"
   ]
  },
  {
   "cell_type": "code",
   "execution_count": 64,
   "id": "6e61f8f3-6490-4d88-8626-5b65817e4097",
   "metadata": {},
   "outputs": [
    {
     "data": {
      "text/plain": [
       "1"
      ]
     },
     "execution_count": 64,
     "metadata": {},
     "output_type": "execute_result"
    }
   ],
   "source": [
    "t.count(1)"
   ]
  },
  {
   "cell_type": "code",
   "execution_count": 66,
   "id": "1902d7e5-1d24-4b35-8611-b240687a8f72",
   "metadata": {},
   "outputs": [
    {
     "data": {
      "text/plain": [
       "3"
      ]
     },
     "execution_count": 66,
     "metadata": {},
     "output_type": "execute_result"
    }
   ],
   "source": [
    "t=1,2.5,'data','data','data'\n",
    "\n",
    "t.count('data')"
   ]
  },
  {
   "cell_type": "markdown",
   "id": "70a71e6c-5307-46d3-8e8a-f72f9967885e",
   "metadata": {},
   "source": [
    "* t.index()"
   ]
  },
  {
   "cell_type": "code",
   "execution_count": 72,
   "id": "54a7db44-468a-4c98-bf4b-09a1abbc39de",
   "metadata": {},
   "outputs": [
    {
     "data": {
      "text/plain": [
       "2"
      ]
     },
     "execution_count": 72,
     "metadata": {},
     "output_type": "execute_result"
    }
   ],
   "source": [
    "t.index('data')"
   ]
  },
  {
   "cell_type": "code",
   "execution_count": 74,
   "id": "ceb84b42-eabb-4fc8-822c-232ed1ac75a1",
   "metadata": {},
   "outputs": [
    {
     "data": {
      "text/plain": [
       "1"
      ]
     },
     "execution_count": 74,
     "metadata": {},
     "output_type": "execute_result"
    }
   ],
   "source": [
    "t.index(2.5)"
   ]
  },
  {
   "cell_type": "markdown",
   "id": "46ccc961-98b8-4bda-9c60-a88baf139276",
   "metadata": {},
   "source": [
    "### lists"
   ]
  },
  {
   "cell_type": "code",
   "execution_count": 79,
   "id": "01e0996d-6a6a-426a-a52e-e1eb25e78a0c",
   "metadata": {},
   "outputs": [
    {
     "data": {
      "text/plain": [
       "'data'"
      ]
     },
     "execution_count": 79,
     "metadata": {},
     "output_type": "execute_result"
    }
   ],
   "source": [
    "l = [1, 2.5, 'data']\n",
    "l[2]"
   ]
  },
  {
   "cell_type": "markdown",
   "id": "53928aaa-53a8-41fd-95bd-5992b8bd0126",
   "metadata": {},
   "source": [
    "the general expression of the function please see the notes and ppt"
   ]
  },
  {
   "cell_type": "code",
   "execution_count": 81,
   "id": "23e87bed-e037-4029-9593-d01c0154ffa8",
   "metadata": {},
   "outputs": [],
   "source": [
    "l[1]=3"
   ]
  },
  {
   "cell_type": "code",
   "execution_count": 83,
   "id": "f5d3c10c-bda5-40f5-b2ce-24fbb3246a6d",
   "metadata": {},
   "outputs": [
    {
     "data": {
      "text/plain": [
       "[1, 3, 'data']"
      ]
     },
     "execution_count": 83,
     "metadata": {},
     "output_type": "execute_result"
    }
   ],
   "source": [
    "l"
   ]
  },
  {
   "cell_type": "markdown",
   "id": "433b1d3c-d79e-491d-b3ba-f8400622c49f",
   "metadata": {},
   "source": [
    "* build-in method"
   ]
  },
  {
   "cell_type": "code",
   "execution_count": 94,
   "id": "00c49685-3856-4c77-ba66-078eec5ce06a",
   "metadata": {},
   "outputs": [
    {
     "data": {
      "text/plain": [
       "[1,\n",
       " 1,\n",
       " 1,\n",
       " 1,\n",
       " 1,\n",
       " 1,\n",
       " 1,\n",
       " 1,\n",
       " 1,\n",
       " 1,\n",
       " 1,\n",
       " 1,\n",
       " 1,\n",
       " 1,\n",
       " 1,\n",
       " 1,\n",
       " 1,\n",
       " 1,\n",
       " 1,\n",
       " 1,\n",
       " 1,\n",
       " 1,\n",
       " 1,\n",
       " 1,\n",
       " 1,\n",
       " 1,\n",
       " 1,\n",
       " 1,\n",
       " 1,\n",
       " 1,\n",
       " 1,\n",
       " 1,\n",
       " 1,\n",
       " 1,\n",
       " 1,\n",
       " 1,\n",
       " 1,\n",
       " 1,\n",
       " 1,\n",
       " 1,\n",
       " 1,\n",
       " 1,\n",
       " 1,\n",
       " 1,\n",
       " 1,\n",
       " 1,\n",
       " 1,\n",
       " 1,\n",
       " 1,\n",
       " 1,\n",
       " 1,\n",
       " 1,\n",
       " 1,\n",
       " 1,\n",
       " 1,\n",
       " 1,\n",
       " 1,\n",
       " 1,\n",
       " 1,\n",
       " 1,\n",
       " 1,\n",
       " 1,\n",
       " 1,\n",
       " 1,\n",
       " 1,\n",
       " 1,\n",
       " 1,\n",
       " 1,\n",
       " 1,\n",
       " 1,\n",
       " 1,\n",
       " 1,\n",
       " 1,\n",
       " 1,\n",
       " 1,\n",
       " 1,\n",
       " 1,\n",
       " 1,\n",
       " 1,\n",
       " 1,\n",
       " 1,\n",
       " 1,\n",
       " 1,\n",
       " 1,\n",
       " 1,\n",
       " 1,\n",
       " 1,\n",
       " 1,\n",
       " 1,\n",
       " 1,\n",
       " 1,\n",
       " 1,\n",
       " 1,\n",
       " 1,\n",
       " 1,\n",
       " 1,\n",
       " 1,\n",
       " 1,\n",
       " 1,\n",
       " 1]"
      ]
     },
     "execution_count": 94,
     "metadata": {},
     "output_type": "execute_result"
    }
   ],
   "source": [
    "a = [1 for _ in range(100)]\n",
    "a"
   ]
  },
  {
   "cell_type": "code",
   "execution_count": 106,
   "id": "afc1b424-8bc0-4f33-a897-92e10b75dc36",
   "metadata": {},
   "outputs": [
    {
     "ename": "TypeError",
     "evalue": "must assign iterable to extended slice",
     "output_type": "error",
     "traceback": [
      "\u001b[0;31m---------------------------------------------------------------------------\u001b[0m",
      "\u001b[0;31mTypeError\u001b[0m                                 Traceback (most recent call last)",
      "Cell \u001b[0;32mIn[106], line 2\u001b[0m\n\u001b[1;32m      1\u001b[0m a \u001b[38;5;241m=\u001b[39m [\u001b[38;5;241m1\u001b[39m \u001b[38;5;28;01mfor\u001b[39;00m _ \u001b[38;5;129;01min\u001b[39;00m \u001b[38;5;28mrange\u001b[39m(\u001b[38;5;241m100\u001b[39m)]\n\u001b[0;32m----> 2\u001b[0m a[\u001b[38;5;241m1\u001b[39m:\u001b[38;5;241m10\u001b[39m:\u001b[38;5;241m4\u001b[39m]\u001b[38;5;241m=\u001b[39m\u001b[38;5;241m5\u001b[39m\n\u001b[1;32m      3\u001b[0m a\n",
      "\u001b[0;31mTypeError\u001b[0m: must assign iterable to extended slice"
     ]
    }
   ],
   "source": [
    "a = [1 for _ in range(100)]\n",
    "a[1:10:4]=5\n",
    "a"
   ]
  },
  {
   "cell_type": "code",
   "execution_count": 112,
   "id": "c0a2d904-04f6-419e-87a5-0035aa39a26f",
   "metadata": {},
   "outputs": [
    {
     "data": {
      "text/plain": [
       "[1,\n",
       " 5,\n",
       " 1,\n",
       " 1,\n",
       " 1,\n",
       " 5,\n",
       " 1,\n",
       " 1,\n",
       " 1,\n",
       " 5,\n",
       " 1,\n",
       " 1,\n",
       " 1,\n",
       " 5,\n",
       " 1,\n",
       " 1,\n",
       " 1,\n",
       " 5,\n",
       " 1,\n",
       " 1,\n",
       " 1,\n",
       " 5,\n",
       " 1,\n",
       " 1,\n",
       " 1,\n",
       " 5,\n",
       " 1,\n",
       " 1,\n",
       " 1,\n",
       " 5,\n",
       " 1,\n",
       " 1,\n",
       " 1,\n",
       " 5,\n",
       " 1,\n",
       " 1,\n",
       " 1,\n",
       " 5,\n",
       " 1,\n",
       " 1,\n",
       " 1,\n",
       " 5,\n",
       " 1,\n",
       " 1,\n",
       " 1,\n",
       " 5,\n",
       " 1,\n",
       " 1,\n",
       " 1,\n",
       " 5,\n",
       " 1,\n",
       " 1,\n",
       " 1,\n",
       " 1,\n",
       " 1,\n",
       " 1,\n",
       " 1,\n",
       " 1,\n",
       " 1,\n",
       " 1,\n",
       " 1,\n",
       " 1,\n",
       " 1,\n",
       " 1,\n",
       " 1,\n",
       " 1,\n",
       " 1,\n",
       " 1,\n",
       " 1,\n",
       " 1,\n",
       " 1,\n",
       " 1,\n",
       " 1,\n",
       " 1,\n",
       " 1,\n",
       " 1,\n",
       " 1,\n",
       " 1,\n",
       " 1,\n",
       " 1,\n",
       " 1,\n",
       " 1,\n",
       " 1,\n",
       " 1,\n",
       " 1,\n",
       " 1,\n",
       " 1,\n",
       " 1,\n",
       " 1,\n",
       " 1,\n",
       " 1,\n",
       " 1,\n",
       " 1,\n",
       " 1,\n",
       " 1,\n",
       " 1,\n",
       " 1,\n",
       " 1,\n",
       " 1,\n",
       " 1]"
      ]
     },
     "execution_count": 112,
     "metadata": {},
     "output_type": "execute_result"
    }
   ],
   "source": [
    "a[1:50:4] = [5] * len(a[1:50:4])\n",
    "a"
   ]
  },
  {
   "cell_type": "code",
   "execution_count": 116,
   "id": "04fd0962-fa83-470e-b4ff-1ff5df2887a0",
   "metadata": {},
   "outputs": [
    {
     "data": {
      "text/plain": [
       "[1,\n",
       " 5,\n",
       " 1,\n",
       " 1,\n",
       " 1,\n",
       " 5,\n",
       " 1,\n",
       " 1,\n",
       " 1,\n",
       " 5,\n",
       " 1,\n",
       " 1,\n",
       " 1,\n",
       " 5,\n",
       " 1,\n",
       " 1,\n",
       " 1,\n",
       " 5,\n",
       " 1,\n",
       " 1,\n",
       " 1,\n",
       " 5,\n",
       " 1,\n",
       " 1,\n",
       " 1,\n",
       " 5,\n",
       " 1,\n",
       " 1,\n",
       " 1,\n",
       " 5,\n",
       " 1,\n",
       " 1,\n",
       " 1,\n",
       " 5,\n",
       " 1,\n",
       " 1,\n",
       " 1,\n",
       " 5,\n",
       " 1,\n",
       " 1,\n",
       " 1,\n",
       " 5,\n",
       " 1,\n",
       " 1,\n",
       " 1,\n",
       " 5,\n",
       " 1,\n",
       " 1,\n",
       " 1,\n",
       " 5,\n",
       " 1,\n",
       " 1,\n",
       " 1,\n",
       " 1,\n",
       " 1,\n",
       " 1,\n",
       " 1,\n",
       " 1,\n",
       " 1,\n",
       " 1,\n",
       " 1,\n",
       " 1,\n",
       " 1,\n",
       " 1,\n",
       " 1,\n",
       " 1,\n",
       " 1,\n",
       " 1,\n",
       " 1,\n",
       " 1,\n",
       " 1,\n",
       " 1,\n",
       " 1,\n",
       " 1,\n",
       " 1,\n",
       " 1,\n",
       " 1,\n",
       " 1,\n",
       " 1,\n",
       " 1,\n",
       " 1,\n",
       " 1,\n",
       " 1,\n",
       " 1,\n",
       " 1,\n",
       " 1,\n",
       " 1,\n",
       " 1,\n",
       " 1,\n",
       " 1,\n",
       " 1,\n",
       " 1,\n",
       " 1,\n",
       " 1,\n",
       " 1,\n",
       " 1,\n",
       " 1,\n",
       " 1,\n",
       " 1,\n",
       " 1,\n",
       " 3,\n",
       " 3]"
      ]
     },
     "execution_count": 116,
     "metadata": {},
     "output_type": "execute_result"
    }
   ],
   "source": [
    "a.append(3)\n",
    "a"
   ]
  },
  {
   "cell_type": "code",
   "execution_count": 124,
   "id": "fde39014-d658-4959-abea-479b31cc101f",
   "metadata": {},
   "outputs": [
    {
     "data": {
      "text/plain": [
       "87"
      ]
     },
     "execution_count": 124,
     "metadata": {},
     "output_type": "execute_result"
    }
   ],
   "source": [
    "a.count(1)"
   ]
  },
  {
   "cell_type": "code",
   "execution_count": 126,
   "id": "b299bac8-92e9-4c18-9241-33e08f0d48e7",
   "metadata": {},
   "outputs": [
    {
     "data": {
      "text/plain": [
       "13"
      ]
     },
     "execution_count": 126,
     "metadata": {},
     "output_type": "execute_result"
    }
   ],
   "source": [
    "a.count(5)"
   ]
  },
  {
   "cell_type": "code",
   "execution_count": 128,
   "id": "3e9a6eb9-b102-4dde-8a19-7b55397aa4fb",
   "metadata": {},
   "outputs": [
    {
     "data": {
      "text/plain": [
       "2"
      ]
     },
     "execution_count": 128,
     "metadata": {},
     "output_type": "execute_result"
    }
   ],
   "source": [
    "a.count(3)"
   ]
  },
  {
   "cell_type": "code",
   "execution_count": 130,
   "id": "e1833227-9236-4e55-9b75-30259d8a1434",
   "metadata": {},
   "outputs": [
    {
     "data": {
      "text/plain": [
       "[1,\n",
       " 5,\n",
       " 1,\n",
       " 5,\n",
       " 1,\n",
       " 5,\n",
       " 1,\n",
       " 5,\n",
       " 1,\n",
       " 5,\n",
       " 1,\n",
       " 5,\n",
       " 1,\n",
       " 5,\n",
       " 1,\n",
       " 5,\n",
       " 1,\n",
       " 5,\n",
       " 1,\n",
       " 5,\n",
       " 1,\n",
       " 1,\n",
       " 5,\n",
       " 1,\n",
       " 1,\n",
       " 1,\n",
       " 5,\n",
       " 1,\n",
       " 1,\n",
       " 1,\n",
       " 5,\n",
       " 1,\n",
       " 1,\n",
       " 1,\n",
       " 1,\n",
       " 1,\n",
       " 1,\n",
       " 1,\n",
       " 1,\n",
       " 1,\n",
       " 1,\n",
       " 1,\n",
       " 1,\n",
       " 1,\n",
       " 1,\n",
       " 1,\n",
       " 1,\n",
       " 1,\n",
       " 1,\n",
       " 1,\n",
       " 1,\n",
       " 1,\n",
       " 1,\n",
       " 1,\n",
       " 1,\n",
       " 1,\n",
       " 1,\n",
       " 1,\n",
       " 1,\n",
       " 1,\n",
       " 1,\n",
       " 1,\n",
       " 1,\n",
       " 1,\n",
       " 1,\n",
       " 1,\n",
       " 1,\n",
       " 1,\n",
       " 1,\n",
       " 1,\n",
       " 1,\n",
       " 1,\n",
       " 1,\n",
       " 1,\n",
       " 1,\n",
       " 1,\n",
       " 1,\n",
       " 1,\n",
       " 1,\n",
       " 1,\n",
       " 1,\n",
       " 3,\n",
       " 3]"
      ]
     },
     "execution_count": 130,
     "metadata": {},
     "output_type": "execute_result"
    }
   ],
   "source": [
    "del a[2:40:2]\n",
    "a"
   ]
  },
  {
   "cell_type": "code",
   "execution_count": 132,
   "id": "4742d423-5cbf-4248-bdbf-4f24cbfb9ee4",
   "metadata": {},
   "outputs": [
    {
     "data": {
      "text/plain": [
       "68"
      ]
     },
     "execution_count": 132,
     "metadata": {},
     "output_type": "execute_result"
    }
   ],
   "source": [
    "a.count(1)"
   ]
  },
  {
   "cell_type": "code",
   "execution_count": 134,
   "id": "5b0b346d-13ce-45d1-b1b0-5f54834f3210",
   "metadata": {},
   "outputs": [
    {
     "data": {
      "text/plain": [
       "13"
      ]
     },
     "execution_count": 134,
     "metadata": {},
     "output_type": "execute_result"
    }
   ],
   "source": [
    "a.count(5)"
   ]
  },
  {
   "cell_type": "code",
   "execution_count": 144,
   "id": "28eab659-6694-44e6-be52-cabe54910241",
   "metadata": {},
   "outputs": [
    {
     "data": {
      "text/plain": [
       "[1,\n",
       " 5,\n",
       " 1,\n",
       " 5,\n",
       " 1,\n",
       " 5,\n",
       " 1,\n",
       " 5,\n",
       " 1,\n",
       " 5,\n",
       " 1,\n",
       " 5,\n",
       " 1,\n",
       " 5,\n",
       " 1,\n",
       " 5,\n",
       " 1,\n",
       " 5,\n",
       " 1,\n",
       " 5,\n",
       " 1,\n",
       " 1,\n",
       " 5,\n",
       " 1,\n",
       " 1,\n",
       " 1,\n",
       " 5,\n",
       " 1,\n",
       " 1,\n",
       " 1,\n",
       " 5,\n",
       " 1,\n",
       " 1,\n",
       " 1,\n",
       " 1,\n",
       " 1,\n",
       " 1,\n",
       " 1,\n",
       " 1,\n",
       " 1,\n",
       " 1,\n",
       " 1,\n",
       " 1,\n",
       " 1,\n",
       " 1,\n",
       " 1,\n",
       " 1,\n",
       " 1,\n",
       " 1,\n",
       " 1,\n",
       " 1,\n",
       " 1,\n",
       " 1,\n",
       " 1,\n",
       " 1,\n",
       " 1,\n",
       " 1,\n",
       " 1,\n",
       " 1,\n",
       " 1,\n",
       " 1,\n",
       " 1,\n",
       " 1,\n",
       " 1,\n",
       " 1,\n",
       " 1,\n",
       " 1,\n",
       " 1,\n",
       " 1,\n",
       " 1,\n",
       " 1,\n",
       " 1,\n",
       " 1,\n",
       " 1,\n",
       " 1,\n",
       " 1,\n",
       " 1,\n",
       " 1,\n",
       " 1,\n",
       " 1,\n",
       " 1,\n",
       " 3,\n",
       " 3,\n",
       " 5,\n",
       " 5,\n",
       " 5]"
      ]
     },
     "execution_count": 144,
     "metadata": {},
     "output_type": "execute_result"
    }
   ],
   "source": [
    "a.extend([5]) #extend() requires an iterable, so [5] works because it's a list.\n",
    "a"
   ]
  },
  {
   "cell_type": "code",
   "execution_count": 146,
   "id": "cba5f3a7-fa65-4fde-b282-4dde41f79be6",
   "metadata": {},
   "outputs": [
    {
     "data": {
      "text/plain": [
       "81"
      ]
     },
     "execution_count": 146,
     "metadata": {},
     "output_type": "execute_result"
    }
   ],
   "source": [
    "a.index(3)"
   ]
  },
  {
   "cell_type": "code",
   "execution_count": 152,
   "id": "9740ba4d-34bf-4b8c-b3ce-f75108dcc0d4",
   "metadata": {},
   "outputs": [
    {
     "data": {
      "text/plain": [
       "82"
      ]
     },
     "execution_count": 152,
     "metadata": {},
     "output_type": "execute_result"
    }
   ],
   "source": [
    "a.index(3,82)"
   ]
  },
  {
   "cell_type": "code",
   "execution_count": 154,
   "id": "8eb4d9cb-6974-4973-b862-71d3c23f408b",
   "metadata": {},
   "outputs": [
    {
     "data": {
      "text/plain": [
       "1"
      ]
     },
     "execution_count": 154,
     "metadata": {},
     "output_type": "execute_result"
    }
   ],
   "source": [
    "a.index(5)"
   ]
  },
  {
   "cell_type": "code",
   "execution_count": 158,
   "id": "e81ca265-4d94-402d-a3c6-bc354dc0a4aa",
   "metadata": {},
   "outputs": [
    {
     "data": {
      "text/plain": [
       "83"
      ]
     },
     "execution_count": 158,
     "metadata": {},
     "output_type": "execute_result"
    }
   ],
   "source": [
    "a.index(5,82)"
   ]
  },
  {
   "cell_type": "code",
   "execution_count": 162,
   "id": "733a654b-aef7-4fbe-95b6-275eb2c4a2bd",
   "metadata": {},
   "outputs": [
    {
     "data": {
      "text/plain": [
       "[1,\n",
       " 5,\n",
       " 1,\n",
       " 5,\n",
       " 10,\n",
       " 10,\n",
       " 1,\n",
       " 5,\n",
       " 1,\n",
       " 5,\n",
       " 1,\n",
       " 5,\n",
       " 1,\n",
       " 5,\n",
       " 1,\n",
       " 5,\n",
       " 1,\n",
       " 5,\n",
       " 1,\n",
       " 5,\n",
       " 1,\n",
       " 5,\n",
       " 1,\n",
       " 1,\n",
       " 5,\n",
       " 1,\n",
       " 1,\n",
       " 1,\n",
       " 5,\n",
       " 1,\n",
       " 1,\n",
       " 1,\n",
       " 5,\n",
       " 1,\n",
       " 1,\n",
       " 1,\n",
       " 1,\n",
       " 1,\n",
       " 1,\n",
       " 1,\n",
       " 1,\n",
       " 1,\n",
       " 1,\n",
       " 1,\n",
       " 1,\n",
       " 1,\n",
       " 1,\n",
       " 1,\n",
       " 1,\n",
       " 1,\n",
       " 1,\n",
       " 1,\n",
       " 1,\n",
       " 1,\n",
       " 1,\n",
       " 1,\n",
       " 1,\n",
       " 1,\n",
       " 1,\n",
       " 1,\n",
       " 1,\n",
       " 1,\n",
       " 1,\n",
       " 1,\n",
       " 1,\n",
       " 1,\n",
       " 1,\n",
       " 1,\n",
       " 1,\n",
       " 1,\n",
       " 1,\n",
       " 1,\n",
       " 1,\n",
       " 1,\n",
       " 1,\n",
       " 1,\n",
       " 1,\n",
       " 1,\n",
       " 1,\n",
       " 1,\n",
       " 1,\n",
       " 1,\n",
       " 1,\n",
       " 3,\n",
       " 3,\n",
       " 5,\n",
       " 5,\n",
       " 5]"
      ]
     },
     "execution_count": 162,
     "metadata": {},
     "output_type": "execute_result"
    }
   ],
   "source": [
    "a.insert(4,10)\n",
    "a"
   ]
  },
  {
   "cell_type": "code",
   "execution_count": 166,
   "id": "67fc2619-ec53-4dc0-a19e-26868be7f4c2",
   "metadata": {},
   "outputs": [
    {
     "data": {
      "text/plain": [
       "[1,\n",
       " 5,\n",
       " 1,\n",
       " 5,\n",
       " 10,\n",
       " 10,\n",
       " 1,\n",
       " 5,\n",
       " 1,\n",
       " 5,\n",
       " 1,\n",
       " 5,\n",
       " 1,\n",
       " 5,\n",
       " 1,\n",
       " 5,\n",
       " 1,\n",
       " 5,\n",
       " 1,\n",
       " 5,\n",
       " 1,\n",
       " 5,\n",
       " 1,\n",
       " 1,\n",
       " 5,\n",
       " 1,\n",
       " 1,\n",
       " 1,\n",
       " 5,\n",
       " 1,\n",
       " 1,\n",
       " 1,\n",
       " 5,\n",
       " 1,\n",
       " 1,\n",
       " 1,\n",
       " 1,\n",
       " 1,\n",
       " 1,\n",
       " 1,\n",
       " 1,\n",
       " 1,\n",
       " 1,\n",
       " 1,\n",
       " 1,\n",
       " 1,\n",
       " 1,\n",
       " 1,\n",
       " 1,\n",
       " 1,\n",
       " 1,\n",
       " 1,\n",
       " 1,\n",
       " 1,\n",
       " 1,\n",
       " 1,\n",
       " 1,\n",
       " 1,\n",
       " 1,\n",
       " 1,\n",
       " 1,\n",
       " 1,\n",
       " 1,\n",
       " 1,\n",
       " 1,\n",
       " 1,\n",
       " 1,\n",
       " 1,\n",
       " 1,\n",
       " 1,\n",
       " 1,\n",
       " 1,\n",
       " 1,\n",
       " 1,\n",
       " 1,\n",
       " 1,\n",
       " 1,\n",
       " 1,\n",
       " 1,\n",
       " 1,\n",
       " 1,\n",
       " 1,\n",
       " 1,\n",
       " 5,\n",
       " 5,\n",
       " 5]"
      ]
     },
     "execution_count": 166,
     "metadata": {},
     "output_type": "execute_result"
    }
   ],
   "source": [
    "a.remove(3)\n",
    "a"
   ]
  },
  {
   "cell_type": "code",
   "execution_count": 168,
   "id": "f162321e-ab19-4351-9fde-79831361c22f",
   "metadata": {},
   "outputs": [
    {
     "data": {
      "text/plain": [
       "5"
      ]
     },
     "execution_count": 168,
     "metadata": {},
     "output_type": "execute_result"
    }
   ],
   "source": [
    "a.pop(9)"
   ]
  },
  {
   "cell_type": "code",
   "execution_count": 178,
   "id": "e2c76e52-2cea-4586-9c24-04c038499101",
   "metadata": {},
   "outputs": [
    {
     "data": {
      "text/plain": [
       "[5,\n",
       " 5,\n",
       " 5,\n",
       " 1,\n",
       " 1,\n",
       " 1,\n",
       " 1,\n",
       " 1,\n",
       " 1,\n",
       " 1,\n",
       " 1,\n",
       " 1,\n",
       " 1,\n",
       " 1,\n",
       " 1,\n",
       " 1,\n",
       " 1,\n",
       " 1,\n",
       " 1,\n",
       " 1,\n",
       " 1,\n",
       " 1,\n",
       " 1,\n",
       " 1,\n",
       " 1,\n",
       " 1,\n",
       " 1,\n",
       " 1,\n",
       " 1,\n",
       " 1,\n",
       " 1,\n",
       " 1,\n",
       " 1,\n",
       " 1,\n",
       " 1,\n",
       " 1,\n",
       " 1,\n",
       " 1,\n",
       " 1,\n",
       " 1,\n",
       " 1,\n",
       " 1,\n",
       " 1,\n",
       " 1,\n",
       " 1,\n",
       " 1,\n",
       " 1,\n",
       " 1,\n",
       " 1,\n",
       " 1,\n",
       " 1,\n",
       " 1,\n",
       " 1,\n",
       " 5,\n",
       " 1,\n",
       " 1,\n",
       " 1,\n",
       " 5,\n",
       " 1,\n",
       " 1,\n",
       " 1,\n",
       " 5,\n",
       " 1,\n",
       " 1,\n",
       " 5,\n",
       " 1,\n",
       " 5,\n",
       " 1,\n",
       " 5,\n",
       " 1,\n",
       " 5,\n",
       " 1,\n",
       " 5,\n",
       " 1,\n",
       " 5,\n",
       " 1,\n",
       " 1,\n",
       " 5,\n",
       " 1,\n",
       " 10,\n",
       " 10,\n",
       " 5,\n",
       " 1,\n",
       " 5,\n",
       " 1]"
      ]
     },
     "execution_count": 178,
     "metadata": {},
     "output_type": "execute_result"
    }
   ],
   "source": [
    "a.reverse()\n",
    "a"
   ]
  },
  {
   "cell_type": "code",
   "execution_count": 176,
   "id": "d4a5ea6c-c0a8-4b17-a42b-e3177ef1e72c",
   "metadata": {},
   "outputs": [
    {
     "data": {
      "text/plain": [
       "[9, 8, 7, 6, 5, 4, 3, 2, 1]"
      ]
     },
     "execution_count": 176,
     "metadata": {},
     "output_type": "execute_result"
    }
   ],
   "source": [
    "b=[1,2,3,4,5,6,7,8,9]\n",
    "b.reverse()\n",
    "b"
   ]
  },
  {
   "cell_type": "code",
   "execution_count": 182,
   "id": "e45b27f8-fdcd-4c71-bc87-6a70d3482e92",
   "metadata": {},
   "outputs": [
    {
     "data": {
      "text/plain": [
       "[1,\n",
       " 1,\n",
       " 1,\n",
       " 1,\n",
       " 1,\n",
       " 1,\n",
       " 1,\n",
       " 1,\n",
       " 1,\n",
       " 1,\n",
       " 1,\n",
       " 1,\n",
       " 1,\n",
       " 1,\n",
       " 1,\n",
       " 1,\n",
       " 1,\n",
       " 1,\n",
       " 1,\n",
       " 1,\n",
       " 1,\n",
       " 1,\n",
       " 1,\n",
       " 1,\n",
       " 1,\n",
       " 1,\n",
       " 1,\n",
       " 1,\n",
       " 1,\n",
       " 1,\n",
       " 1,\n",
       " 1,\n",
       " 1,\n",
       " 1,\n",
       " 1,\n",
       " 1,\n",
       " 1,\n",
       " 1,\n",
       " 1,\n",
       " 1,\n",
       " 1,\n",
       " 1,\n",
       " 1,\n",
       " 1,\n",
       " 1,\n",
       " 1,\n",
       " 1,\n",
       " 1,\n",
       " 1,\n",
       " 1,\n",
       " 1,\n",
       " 1,\n",
       " 1,\n",
       " 1,\n",
       " 1,\n",
       " 1,\n",
       " 1,\n",
       " 1,\n",
       " 1,\n",
       " 1,\n",
       " 1,\n",
       " 1,\n",
       " 1,\n",
       " 1,\n",
       " 1,\n",
       " 1,\n",
       " 1,\n",
       " 1,\n",
       " 5,\n",
       " 5,\n",
       " 5,\n",
       " 5,\n",
       " 5,\n",
       " 5,\n",
       " 5,\n",
       " 5,\n",
       " 5,\n",
       " 5,\n",
       " 5,\n",
       " 5,\n",
       " 5,\n",
       " 5,\n",
       " 5,\n",
       " 10,\n",
       " 10]"
      ]
     },
     "execution_count": 182,
     "metadata": {},
     "output_type": "execute_result"
    }
   ],
   "source": [
    "a.sort()\n",
    "a"
   ]
  },
  {
   "cell_type": "code",
   "execution_count": 188,
   "id": "560055eb-f3d8-405f-94b7-dae695a32c86",
   "metadata": {},
   "outputs": [
    {
     "ename": "NameError",
     "evalue": "name 'TRUE' is not defined",
     "output_type": "error",
     "traceback": [
      "\u001b[0;31m---------------------------------------------------------------------------\u001b[0m",
      "\u001b[0;31mNameError\u001b[0m                                 Traceback (most recent call last)",
      "Cell \u001b[0;32mIn[188], line 1\u001b[0m\n\u001b[0;32m----> 1\u001b[0m a\u001b[38;5;241m.\u001b[39msort(reverse\u001b[38;5;241m=\u001b[39m TRUE)\n\u001b[1;32m      2\u001b[0m a\n",
      "\u001b[0;31mNameError\u001b[0m: name 'TRUE' is not defined"
     ]
    }
   ],
   "source": [
    "a.sort(reverse= TRUE)\n",
    "a"
   ]
  },
  {
   "cell_type": "code",
   "execution_count": 192,
   "id": "691a9dde-05a1-491d-9c96-e03fde6064b3",
   "metadata": {},
   "outputs": [
    {
     "data": {
      "text/plain": [
       "[10,\n",
       " 10,\n",
       " 5,\n",
       " 5,\n",
       " 5,\n",
       " 5,\n",
       " 5,\n",
       " 5,\n",
       " 5,\n",
       " 5,\n",
       " 5,\n",
       " 5,\n",
       " 5,\n",
       " 5,\n",
       " 5,\n",
       " 5,\n",
       " 5,\n",
       " 1,\n",
       " 1,\n",
       " 1,\n",
       " 1,\n",
       " 1,\n",
       " 1,\n",
       " 1,\n",
       " 1,\n",
       " 1,\n",
       " 1,\n",
       " 1,\n",
       " 1,\n",
       " 1,\n",
       " 1,\n",
       " 1,\n",
       " 1,\n",
       " 1,\n",
       " 1,\n",
       " 1,\n",
       " 1,\n",
       " 1,\n",
       " 1,\n",
       " 1,\n",
       " 1,\n",
       " 1,\n",
       " 1,\n",
       " 1,\n",
       " 1,\n",
       " 1,\n",
       " 1,\n",
       " 1,\n",
       " 1,\n",
       " 1,\n",
       " 1,\n",
       " 1,\n",
       " 1,\n",
       " 1,\n",
       " 1,\n",
       " 1,\n",
       " 1,\n",
       " 1,\n",
       " 1,\n",
       " 1,\n",
       " 1,\n",
       " 1,\n",
       " 1,\n",
       " 1,\n",
       " 1,\n",
       " 1,\n",
       " 1,\n",
       " 1,\n",
       " 1,\n",
       " 1,\n",
       " 1,\n",
       " 1,\n",
       " 1,\n",
       " 1,\n",
       " 1,\n",
       " 1,\n",
       " 1,\n",
       " 1,\n",
       " 1,\n",
       " 1,\n",
       " 1,\n",
       " 1,\n",
       " 1,\n",
       " 1,\n",
       " 1]"
      ]
     },
     "execution_count": 192,
     "metadata": {},
     "output_type": "execute_result"
    }
   ],
   "source": [
    "a.sort(reverse=True)\n",
    "a"
   ]
  },
  {
   "cell_type": "markdown",
   "id": "131a8ef3-fecd-4701-9df7-3e407cdb355b",
   "metadata": {},
   "source": [
    "### Dictionaries"
   ]
  },
  {
   "cell_type": "markdown",
   "id": "186ffed8-3dca-424d-bc51-d44cfa50996a",
   "metadata": {},
   "source": [
    "unordered and not sortable"
   ]
  },
  {
   "cell_type": "code",
   "execution_count": 226,
   "id": "8d03fa65-f2be-4e31-aeae-dab968751890",
   "metadata": {},
   "outputs": [
    {
     "data": {
      "text/plain": [
       "dict"
      ]
     },
     "execution_count": 226,
     "metadata": {},
     "output_type": "execute_result"
    }
   ],
   "source": [
    "d = { 'Name' : 'Angela Merkel', 'Country' : 'Germany', 'Profession' :\n",
    "'Chancelor', 'Age' : 64 }\n",
    "type(d)"
   ]
  },
  {
   "cell_type": "code",
   "execution_count": 200,
   "id": "4ead8cc7-5694-4a71-bf76-ee9ba437f89b",
   "metadata": {},
   "outputs": [
    {
     "name": "stdout",
     "output_type": "stream",
     "text": [
      "Angela Merkel 64\n"
     ]
    }
   ],
   "source": [
    "print(d['Name'], d['Age'])"
   ]
  },
  {
   "cell_type": "markdown",
   "id": "19823e17-f8c0-4bba-bd7b-0962fdde8e52",
   "metadata": {},
   "source": [
    "* build-in methods"
   ]
  },
  {
   "cell_type": "code",
   "execution_count": 202,
   "id": "2c939657-02f8-45b8-8e48-134bea39353c",
   "metadata": {},
   "outputs": [
    {
     "data": {
      "text/plain": [
       "dict_keys(['Name', 'Country', 'Profession', 'Age'])"
      ]
     },
     "execution_count": 202,
     "metadata": {},
     "output_type": "execute_result"
    }
   ],
   "source": [
    "d.keys()"
   ]
  },
  {
   "cell_type": "code",
   "execution_count": 204,
   "id": "6ea76795-cb34-405c-95a0-d412c1c3ab91",
   "metadata": {},
   "outputs": [
    {
     "data": {
      "text/plain": [
       "dict_values(['Angela Merkel', 'Germany', 'Chancelor', 64])"
      ]
     },
     "execution_count": 204,
     "metadata": {},
     "output_type": "execute_result"
    }
   ],
   "source": [
    "d.values()"
   ]
  },
  {
   "cell_type": "code",
   "execution_count": 206,
   "id": "42a9d6d4-2d9b-4866-97de-f03051311351",
   "metadata": {},
   "outputs": [
    {
     "data": {
      "text/plain": [
       "dict_items([('Name', 'Angela Merkel'), ('Country', 'Germany'), ('Profession', 'Chancelor'), ('Age', 64)])"
      ]
     },
     "execution_count": 206,
     "metadata": {},
     "output_type": "execute_result"
    }
   ],
   "source": [
    "d.items()"
   ]
  },
  {
   "cell_type": "code",
   "execution_count": 214,
   "id": "805bfc3c-be56-40a2-9a73-4e5c55c66c6e",
   "metadata": {},
   "outputs": [
    {
     "data": {
      "text/plain": [
       "'Angela Merkel'"
      ]
     },
     "execution_count": 214,
     "metadata": {},
     "output_type": "execute_result"
    }
   ],
   "source": [
    "d['Name']"
   ]
  },
  {
   "cell_type": "code",
   "execution_count": 228,
   "id": "f2c6fd6e-70a5-4f4d-b6f0-c56bb13d0b78",
   "metadata": {},
   "outputs": [
    {
     "data": {
      "text/plain": [
       "{'Name': 'Jenny', 'Country': 'Germany', 'Profession': 'Chancelor', 'Age': 64}"
      ]
     },
     "execution_count": 228,
     "metadata": {},
     "output_type": "execute_result"
    }
   ],
   "source": [
    "d['Name']='Jenny'\n",
    "d"
   ]
  },
  {
   "cell_type": "code",
   "execution_count": 230,
   "id": "ec490224-1eac-45df-a757-b1c9bd116936",
   "metadata": {},
   "outputs": [
    {
     "data": {
      "text/plain": [
       "{'Country': 'Germany', 'Profession': 'Chancelor', 'Age': 64}"
      ]
     },
     "execution_count": 230,
     "metadata": {},
     "output_type": "execute_result"
    }
   ],
   "source": [
    "del d['Name']\n",
    "d"
   ]
  },
  {
   "cell_type": "code",
   "execution_count": 232,
   "id": "560ff1c2-121b-4dc4-91a8-d1c677db7978",
   "metadata": {},
   "outputs": [],
   "source": [
    "d.clear()"
   ]
  },
  {
   "cell_type": "code",
   "execution_count": 234,
   "id": "22c32fa6-7972-4429-985a-af76766e8229",
   "metadata": {},
   "outputs": [
    {
     "data": {
      "text/plain": [
       "{}"
      ]
     },
     "execution_count": 234,
     "metadata": {},
     "output_type": "execute_result"
    }
   ],
   "source": [
    "d"
   ]
  },
  {
   "cell_type": "code",
   "execution_count": 236,
   "id": "7e05fe03-9eff-4f47-bd8d-412dd734ee27",
   "metadata": {},
   "outputs": [
    {
     "data": {
      "text/plain": [
       "{'Name': 'Angela Merkel',\n",
       " 'Country': 'Germany',\n",
       " 'Profession': 'Chancelor',\n",
       " 'Age': 64}"
      ]
     },
     "execution_count": 236,
     "metadata": {},
     "output_type": "execute_result"
    }
   ],
   "source": [
    "d = { 'Name' : 'Angela Merkel', 'Country' : 'Germany', 'Profession' :\n",
    "'Chancelor', 'Age' : 64 }\n",
    "c=d.copy()\n",
    "c"
   ]
  },
  {
   "cell_type": "code",
   "execution_count": 244,
   "id": "2e29c6b9-981a-4d7a-a702-27a016c9d065",
   "metadata": {},
   "outputs": [
    {
     "data": {
      "text/plain": [
       "('Age', 64)"
      ]
     },
     "execution_count": 244,
     "metadata": {},
     "output_type": "execute_result"
    }
   ],
   "source": [
    "d.popitem()"
   ]
  },
  {
   "cell_type": "code",
   "execution_count": 246,
   "id": "dcd73fc4-2e2e-49cb-ac55-4d038b106f88",
   "metadata": {},
   "outputs": [
    {
     "data": {
      "text/plain": [
       "('Profession', 'Chancelor')"
      ]
     },
     "execution_count": 246,
     "metadata": {},
     "output_type": "execute_result"
    }
   ],
   "source": [
    "d.popitem()"
   ]
  },
  {
   "cell_type": "code",
   "execution_count": 258,
   "id": "8ccfb05a-7933-4a64-a7c4-6e87df8bcdaa",
   "metadata": {},
   "outputs": [
    {
     "data": {
      "text/plain": [
       "{'Name': 'Angela Merkel', 'Country': 'Germany', 'Gender': 'Female'}"
      ]
     },
     "execution_count": 258,
     "metadata": {},
     "output_type": "execute_result"
    }
   ],
   "source": [
    "e={'Gender','Female'}\n",
    "d.update([e])\n",
    "d"
   ]
  },
  {
   "cell_type": "markdown",
   "id": "148e7860-3e0a-44c1-bf9f-dccb416d1159",
   "metadata": {},
   "source": [
    "### Sets"
   ]
  },
  {
   "cell_type": "markdown",
   "id": "034a13a2-1102-4353-b5b0-b508bba76e80",
   "metadata": {},
   "source": [
    "unordered collections of other objects, containing every element only once"
   ]
  },
  {
   "cell_type": "code",
   "execution_count": 264,
   "id": "70153e55-f867-4585-aaae-6170c5d83511",
   "metadata": {},
   "outputs": [
    {
     "data": {
      "text/plain": [
       "{'d', 'du', 'u', 'ud'}"
      ]
     },
     "execution_count": 264,
     "metadata": {},
     "output_type": "execute_result"
    }
   ],
   "source": [
    "s = set(['u', 'd', 'ud', 'du', 'd', 'du'])\n",
    "s"
   ]
  },
  {
   "cell_type": "code",
   "execution_count": 266,
   "id": "affe8bae-de51-41f7-8931-1d3acd11f08b",
   "metadata": {},
   "outputs": [
    {
     "data": {
      "text/plain": [
       "{'d', 'dd', 'u', 'uu'}"
      ]
     },
     "execution_count": 266,
     "metadata": {},
     "output_type": "execute_result"
    }
   ],
   "source": [
    "t = set(['d', 'dd', 'uu', 'u'])\n",
    "t"
   ]
  },
  {
   "cell_type": "code",
   "execution_count": 268,
   "id": "d286a65d-1868-4fbb-86ad-7cd5a55939da",
   "metadata": {},
   "outputs": [
    {
     "data": {
      "text/plain": [
       "{'d', 'dd', 'du', 'u', 'ud', 'uu'}"
      ]
     },
     "execution_count": 268,
     "metadata": {},
     "output_type": "execute_result"
    }
   ],
   "source": [
    "#All of s and t.\n",
    "s.union(t)"
   ]
  },
  {
   "cell_type": "code",
   "execution_count": 270,
   "id": "61521060-512c-42a8-95ca-bddf27a7cc74",
   "metadata": {},
   "outputs": [
    {
     "data": {
      "text/plain": [
       "{'d', 'u'}"
      ]
     },
     "execution_count": 270,
     "metadata": {},
     "output_type": "execute_result"
    }
   ],
   "source": [
    "#Items in both s and t.\n",
    "s.intersection(t)"
   ]
  },
  {
   "cell_type": "code",
   "execution_count": 272,
   "id": "56a83c86-88b0-4995-a808-645ef4c226a1",
   "metadata": {},
   "outputs": [
    {
     "data": {
      "text/plain": [
       "{'du', 'ud'}"
      ]
     },
     "execution_count": 272,
     "metadata": {},
     "output_type": "execute_result"
    }
   ],
   "source": [
    "#Items in s but not in t.\n",
    "s.difference(t)"
   ]
  },
  {
   "cell_type": "code",
   "execution_count": 276,
   "id": "4082a54f-f5e1-4500-a169-cafd00922fe2",
   "metadata": {},
   "outputs": [
    {
     "data": {
      "text/plain": [
       "{'dd', 'uu'}"
      ]
     },
     "execution_count": 276,
     "metadata": {},
     "output_type": "execute_result"
    }
   ],
   "source": [
    "#Items in t but not in s.\n",
    "t.difference(s)"
   ]
  },
  {
   "cell_type": "code",
   "execution_count": 278,
   "id": "e0e734cc-2413-44ac-bf88-f50cdf9b642d",
   "metadata": {},
   "outputs": [
    {
     "data": {
      "text/plain": [
       "{'dd', 'uu'}"
      ]
     },
     "execution_count": 278,
     "metadata": {},
     "output_type": "execute_result"
    }
   ],
   "source": [
    "#Items in t but not in s.\n",
    "t.difference(s)"
   ]
  },
  {
   "cell_type": "code",
   "execution_count": 280,
   "id": "4362535b-acd6-4068-bf52-a3aab4ede7db",
   "metadata": {},
   "outputs": [
    {
     "data": {
      "text/plain": [
       "{'dd', 'du', 'ud', 'uu'}"
      ]
     },
     "execution_count": 280,
     "metadata": {},
     "output_type": "execute_result"
    }
   ],
   "source": [
    "#Items in either s or t but not both.\n",
    "s.symmetric_difference(t)"
   ]
  },
  {
   "cell_type": "markdown",
   "id": "2caa58f5-d824-407a-9a41-2b357b25236d",
   "metadata": {},
   "source": [
    "### Arrays of Data"
   ]
  },
  {
   "cell_type": "code",
   "execution_count": 285,
   "id": "f9f265fb-b87a-4e16-bf62-1271ca1edc59",
   "metadata": {},
   "outputs": [
    {
     "data": {
      "text/plain": [
       "[[0.5, 0.75, 1.0, 1.5, 2.0],\n",
       " [0.5, 0.75, 1.0, 1.5, 2.0],\n",
       " [0.5, 0.75, 1.0, 1.5, 2.0]]"
      ]
     },
     "execution_count": 285,
     "metadata": {},
     "output_type": "execute_result"
    }
   ],
   "source": [
    "#basic array\n",
    "v = [0.5, 0.75, 1.0, 1.5, 2.0]\n",
    "m = [v, v, v]\n",
    "m"
   ]
  },
  {
   "cell_type": "code",
   "execution_count": 287,
   "id": "c8b1dadf-f767-4f28-968a-7e7514f063e3",
   "metadata": {},
   "outputs": [
    {
     "data": {
      "text/plain": [
       "[0.5, 0.75, 1.0, 1.5, 2.0]"
      ]
     },
     "execution_count": 287,
     "metadata": {},
     "output_type": "execute_result"
    }
   ],
   "source": [
    "m[1]"
   ]
  },
  {
   "cell_type": "code",
   "execution_count": 291,
   "id": "58d73291-cb4a-4162-9708-0be3f12315b1",
   "metadata": {},
   "outputs": [
    {
     "data": {
      "text/plain": [
       "0.5"
      ]
     },
     "execution_count": 291,
     "metadata": {},
     "output_type": "execute_result"
    }
   ],
   "source": [
    "m[1][0] #first row and second column"
   ]
  },
  {
   "cell_type": "code",
   "execution_count": 295,
   "id": "cad147ed-5108-4495-8ff0-fff9077ff43d",
   "metadata": {},
   "outputs": [
    {
     "data": {
      "text/plain": [
       "[[[0.5, 1.5], [1, 2]], [[0.5, 1.5], [1, 2]]]"
      ]
     },
     "execution_count": 295,
     "metadata": {},
     "output_type": "execute_result"
    }
   ],
   "source": [
    "#Nesting\n",
    "v1 = [0.5, 1.5]\n",
    "v2 = [1, 2]\n",
    "m = [v1, v2]\n",
    "c = [m, m]\n",
    "c"
   ]
  },
  {
   "cell_type": "code",
   "execution_count": 297,
   "id": "8f2d5596-a65e-486b-b219-d0982caf1904",
   "metadata": {},
   "outputs": [
    {
     "data": {
      "text/plain": [
       "1"
      ]
     },
     "execution_count": 297,
     "metadata": {},
     "output_type": "execute_result"
    }
   ],
   "source": [
    "c[1][1][0]"
   ]
  },
  {
   "cell_type": "markdown",
   "id": "d0911627-d86a-4290-b95f-0e5a76432b7a",
   "metadata": {},
   "source": [
    "* Numpy Array"
   ]
  },
  {
   "cell_type": "code",
   "execution_count": 3,
   "id": "e84a45ce-a16a-433d-b797-46708dea594f",
   "metadata": {},
   "outputs": [
    {
     "data": {
      "text/plain": [
       "array([0. , 0.5, 1. , 1.5, 2. ])"
      ]
     },
     "execution_count": 3,
     "metadata": {},
     "output_type": "execute_result"
    }
   ],
   "source": [
    "#Import the numpy package\n",
    "import numpy as np\n",
    "#Create an ndarray object out of a list object with floats\n",
    "a = np.array([0, 0.5, 1.0, 1.5, 2.0])\n",
    "a"
   ]
  },
  {
   "cell_type": "code",
   "execution_count": 308,
   "id": "a161b64c-3854-4c51-855a-25cfe78adad2",
   "metadata": {},
   "outputs": [
    {
     "data": {
      "text/plain": [
       "numpy.ndarray"
      ]
     },
     "execution_count": 308,
     "metadata": {},
     "output_type": "execute_result"
    }
   ],
   "source": [
    "type(a)"
   ]
  },
  {
   "cell_type": "code",
   "execution_count": 310,
   "id": "7506ed53-9ca4-4668-b47e-18da4bfd98ee",
   "metadata": {},
   "outputs": [
    {
     "data": {
      "text/plain": [
       "array(['a', 'b', 'c'], dtype='<U1')"
      ]
     },
     "execution_count": 310,
     "metadata": {},
     "output_type": "execute_result"
    }
   ],
   "source": [
    "#Create an ndarray object out of a list object with strs\n",
    "a = np.array(['a', 'b', 'c'])\n",
    "a"
   ]
  },
  {
   "cell_type": "code",
   "execution_count": 312,
   "id": "d7a20344-3601-4382-86a9-8493acb96c8b",
   "metadata": {},
   "outputs": [
    {
     "data": {
      "text/plain": [
       "array([ 2,  4,  6,  8, 10, 12, 14, 16, 18])"
      ]
     },
     "execution_count": 312,
     "metadata": {},
     "output_type": "execute_result"
    }
   ],
   "source": [
    "#np.arange() works similar to range()\n",
    "a = np.arange(2, 20, 2)\n",
    "a"
   ]
  },
  {
   "cell_type": "code",
   "execution_count": 314,
   "id": "e8cd6a51-62e8-4ed4-95e8-0c7a9f995b13",
   "metadata": {},
   "outputs": [
    {
     "data": {
      "text/plain": [
       "array([0., 1., 2., 3., 4., 5., 6., 7.])"
      ]
     },
     "execution_count": 314,
     "metadata": {},
     "output_type": "execute_result"
    }
   ],
   "source": [
    "#… but takes as additional input the dtype parameter.\n",
    "a = np.arange(8, dtype=np.float64)\n",
    "a"
   ]
  },
  {
   "cell_type": "markdown",
   "id": "ac32a3f1-9b7b-4404-ae15-8db052a4a305",
   "metadata": {},
   "source": [
    "index of adarray"
   ]
  },
  {
   "cell_type": "code",
   "execution_count": 319,
   "id": "938ce6c1-961a-42f2-93c5-b1b5bc3b15c4",
   "metadata": {},
   "outputs": [
    {
     "data": {
      "text/plain": [
       "array([5., 6., 7.])"
      ]
     },
     "execution_count": 319,
     "metadata": {},
     "output_type": "execute_result"
    }
   ],
   "source": [
    "#With one-dimensional ndarray objects, indexing works as usual.\n",
    "a[5:]"
   ]
  },
  {
   "cell_type": "code",
   "execution_count": 321,
   "id": "fd2ca676-4f2e-4547-b156-1dae8e0c5e9b",
   "metadata": {},
   "outputs": [
    {
     "data": {
      "text/plain": [
       "array([0., 1.])"
      ]
     },
     "execution_count": 321,
     "metadata": {},
     "output_type": "execute_result"
    }
   ],
   "source": [
    "a[:2]"
   ]
  },
  {
   "cell_type": "markdown",
   "id": "4ec4fed6-88c2-4b6b-ba82-3a6a664d8ac2",
   "metadata": {},
   "source": [
    "* build-in methods"
   ]
  },
  {
   "cell_type": "code",
   "execution_count": 323,
   "id": "3ba84721-7cfe-48be-b845-27c0b6b9e4d7",
   "metadata": {},
   "outputs": [
    {
     "data": {
      "text/plain": [
       "28.0"
      ]
     },
     "execution_count": 323,
     "metadata": {},
     "output_type": "execute_result"
    }
   ],
   "source": [
    "a.sum()"
   ]
  },
  {
   "cell_type": "code",
   "execution_count": 325,
   "id": "d5bd4e55-e641-47f7-988b-f0ae766e31b9",
   "metadata": {},
   "outputs": [
    {
     "data": {
      "text/plain": [
       "2.29128784747792"
      ]
     },
     "execution_count": 325,
     "metadata": {},
     "output_type": "execute_result"
    }
   ],
   "source": [
    "a.std()"
   ]
  },
  {
   "cell_type": "code",
   "execution_count": 327,
   "id": "b5292ba5-39fb-40da-99cb-8281adef6953",
   "metadata": {},
   "outputs": [
    {
     "data": {
      "text/plain": [
       "array([ 0.,  1.,  3.,  6., 10., 15., 21., 28.])"
      ]
     },
     "execution_count": 327,
     "metadata": {},
     "output_type": "execute_result"
    }
   ],
   "source": [
    "a.cumsum()"
   ]
  },
  {
   "cell_type": "code",
   "execution_count": 333,
   "id": "f0fea900-c4c4-409f-a12a-0817907e56dc",
   "metadata": {},
   "outputs": [
    {
     "data": {
      "text/plain": [
       "[0.0, 0.5, 1.5, 3.0, 5.0, 0.0, 0.5, 1.5, 3.0, 5.0]"
      ]
     },
     "execution_count": 333,
     "metadata": {},
     "output_type": "execute_result"
    }
   ],
   "source": [
    "#Scalar multiplication with list objects leads to a repetition of elements\n",
    "l = [0., 0.5, 1.5, 3., 5.]\n",
    "2 * l"
   ]
  },
  {
   "cell_type": "code",
   "execution_count": 335,
   "id": "cb5439d5-ccb1-463b-b40c-9646a258dfb0",
   "metadata": {},
   "outputs": [
    {
     "data": {
      "text/plain": [
       "array([0., 1., 2., 3., 4., 5., 6., 7.])"
      ]
     },
     "execution_count": 335,
     "metadata": {},
     "output_type": "execute_result"
    }
   ],
   "source": [
    "#Working with ndarray objects implements a proper scalar multiplication\n",
    "a"
   ]
  },
  {
   "cell_type": "code",
   "execution_count": 337,
   "id": "55f2274b-8f25-4bb3-9a73-7786fd5da22e",
   "metadata": {},
   "outputs": [
    {
     "data": {
      "text/plain": [
       "array([ 0.,  2.,  4.,  6.,  8., 10., 12., 14.])"
      ]
     },
     "execution_count": 337,
     "metadata": {},
     "output_type": "execute_result"
    }
   ],
   "source": [
    "2*a"
   ]
  },
  {
   "cell_type": "code",
   "execution_count": 339,
   "id": "c305daf5-ed05-4b7e-9fd9-e96a6473c095",
   "metadata": {},
   "outputs": [
    {
     "data": {
      "text/plain": [
       "array([ 0.,  1.,  4.,  9., 16., 25., 36., 49.])"
      ]
     },
     "execution_count": 339,
     "metadata": {},
     "output_type": "execute_result"
    }
   ],
   "source": [
    "#This calculates element-wise the square values.\n",
    "a**2"
   ]
  },
  {
   "cell_type": "code",
   "execution_count": 341,
   "id": "3648d2e7-31bc-4b6e-b6be-ec8d6ded85ca",
   "metadata": {},
   "outputs": [
    {
     "data": {
      "text/plain": [
       "array([  1.,   2.,   4.,   8.,  16.,  32.,  64., 128.])"
      ]
     },
     "execution_count": 341,
     "metadata": {},
     "output_type": "execute_result"
    }
   ],
   "source": [
    "#This interprets the elements of the ndarray as the powers\n",
    "2 ** a"
   ]
  },
  {
   "cell_type": "code",
   "execution_count": 343,
   "id": "5c74b3bb-6c68-4c37-a1ab-3d2f0be2e27a",
   "metadata": {},
   "outputs": [
    {
     "data": {
      "text/plain": [
       "array([1.00000e+00, 1.00000e+00, 4.00000e+00, 2.70000e+01, 2.56000e+02,\n",
       "       3.12500e+03, 4.66560e+04, 8.23543e+05])"
      ]
     },
     "execution_count": 343,
     "metadata": {},
     "output_type": "execute_result"
    }
   ],
   "source": [
    "#This calculates the power of every element to itself.\n",
    "a ** a"
   ]
  },
  {
   "cell_type": "code",
   "execution_count": 345,
   "id": "6f338da0-bce0-4e3b-90b4-118a00f3c99d",
   "metadata": {},
   "outputs": [
    {
     "data": {
      "text/plain": [
       "array([0.        , 1.        , 1.41421356, 1.73205081, 2.        ,\n",
       "       2.23606798, 2.44948974, 2.64575131])"
      ]
     },
     "execution_count": 345,
     "metadata": {},
     "output_type": "execute_result"
    }
   ],
   "source": [
    "#Calculates the square root for every element\n",
    "np.sqrt(a)"
   ]
  },
  {
   "cell_type": "code",
   "execution_count": 347,
   "id": "20fd0cfb-89c3-4494-bdf6-7296454f4449",
   "metadata": {},
   "outputs": [
    {
     "ename": "TypeError",
     "evalue": "only length-1 arrays can be converted to Python scalars",
     "output_type": "error",
     "traceback": [
      "\u001b[0;31m---------------------------------------------------------------------------\u001b[0m",
      "\u001b[0;31mTypeError\u001b[0m                                 Traceback (most recent call last)",
      "Cell \u001b[0;32mIn[347], line 3\u001b[0m\n\u001b[1;32m      1\u001b[0m \u001b[38;5;66;03m#Let's compare it with the math library\u001b[39;00m\n\u001b[1;32m      2\u001b[0m \u001b[38;5;28;01mimport\u001b[39;00m \u001b[38;5;21;01mmath\u001b[39;00m\n\u001b[0;32m----> 3\u001b[0m math\u001b[38;5;241m.\u001b[39msqrt(a)\n",
      "\u001b[0;31mTypeError\u001b[0m: only length-1 arrays can be converted to Python scalars"
     ]
    }
   ],
   "source": [
    "#Let's compare it with the math library\n",
    "import math\n",
    "math.sqrt(a) #It doesn't work with arrays, only floats!"
   ]
  },
  {
   "cell_type": "markdown",
   "id": "0b792c4a-c9f8-4cee-b190-9533e8edce2f",
   "metadata": {},
   "source": [
    "* For float operations, we want to use the math library!"
   ]
  },
  {
   "cell_type": "code",
   "execution_count": 350,
   "id": "2fcf3791-ed9e-4161-97fa-47519e5673ac",
   "metadata": {},
   "outputs": [
    {
     "name": "stdout",
     "output_type": "stream",
     "text": [
      "0.36414341698400676\n"
     ]
    }
   ],
   "source": [
    "import timeit\n",
    "import_module_np = \"import numpy as np\"\n",
    "print(timeit.timeit('np.sqrt(2.5)',setup=import_module_np))"
   ]
  },
  {
   "cell_type": "code",
   "execution_count": 352,
   "id": "2062acb5-7bdd-48f6-bbe3-afb9d1acde22",
   "metadata": {},
   "outputs": [
    {
     "name": "stdout",
     "output_type": "stream",
     "text": [
      "0.040500458009773865\n"
     ]
    }
   ],
   "source": [
    "import timeit\n",
    "import_module_math = \"import math\"\n",
    "print(timeit.timeit('math.sqrt(2.5)',setup=import_module_math))"
   ]
  },
  {
   "cell_type": "markdown",
   "id": "8861a6a4-5d85-4af4-beb4-77e881449493",
   "metadata": {},
   "source": [
    "* have the ndarray objects instantiated first "
   ]
  },
  {
   "cell_type": "code",
   "execution_count": 369,
   "id": "7ba082d7-0a99-4410-9083-d1e3b786f409",
   "metadata": {},
   "outputs": [
    {
     "data": {
      "text/plain": [
       "array([[0, 0, 0],\n",
       "       [0, 0, 0]], dtype=int32)"
      ]
     },
     "execution_count": 369,
     "metadata": {},
     "output_type": "execute_result"
    }
   ],
   "source": [
    "c = np.zeros((2, 3), dtype='i', order='C')   #NumPy-specific data types for ndarray objects\n",
    "#The order in which to store elements in memory: C for C-like (i.e., row-wise) or F for Fortran-like (i.e., column-wise)\n",
    "c"
   ]
  },
  {
   "cell_type": "code",
   "execution_count": 361,
   "id": "5d215fd1-ed66-4133-9d88-44ca3f2e0f44",
   "metadata": {},
   "outputs": [
    {
     "data": {
      "text/plain": [
       "array([[1., 1., 1.],\n",
       "       [1., 1., 1.]], dtype=float16)"
      ]
     },
     "execution_count": 361,
     "metadata": {},
     "output_type": "execute_result"
    }
   ],
   "source": [
    "d = np.ones_like(c, dtype='float16', order='C') # the shage of d is the same as c\n",
    "d"
   ]
  },
  {
   "cell_type": "code",
   "execution_count": 365,
   "id": "985569e7-f7a1-40e1-ac0a-7cb91ccbfe4e",
   "metadata": {},
   "outputs": [
    {
     "data": {
      "text/plain": [
       "array([[[0., 0.],\n",
       "        [0., 0.],\n",
       "        [0., 0.]],\n",
       "\n",
       "       [[0., 0.],\n",
       "        [0., 0.],\n",
       "        [0., 0.]]])"
      ]
     },
     "execution_count": 365,
     "metadata": {},
     "output_type": "execute_result"
    }
   ],
   "source": [
    "e = np.empty((2, 3, 2)) #last2: 2 arrays\n",
    "e"
   ]
  },
  {
   "cell_type": "markdown",
   "id": "aa677605-155e-4c8a-9fb9-8b92e499f833",
   "metadata": {},
   "source": [
    "* reshaping: \n",
    "provides another view of the same data"
   ]
  },
  {
   "cell_type": "code",
   "execution_count": 373,
   "id": "fb6feff0-6f97-4270-876d-a03868d186c8",
   "metadata": {},
   "outputs": [
    {
     "data": {
      "text/plain": [
       "array([ 0,  1,  2,  3,  4,  5,  6,  7,  8,  9, 10, 11, 12, 13, 14])"
      ]
     },
     "execution_count": 373,
     "metadata": {},
     "output_type": "execute_result"
    }
   ],
   "source": [
    "g = np.arange(15)\n",
    "g"
   ]
  },
  {
   "cell_type": "code",
   "execution_count": 375,
   "id": "f1bf375a-96c7-49d0-bcbc-7ea0562b0449",
   "metadata": {},
   "outputs": [
    {
     "data": {
      "text/plain": [
       "(15,)"
      ]
     },
     "execution_count": 375,
     "metadata": {},
     "output_type": "execute_result"
    }
   ],
   "source": [
    "g.shape"
   ]
  },
  {
   "cell_type": "code",
   "execution_count": 377,
   "id": "b70cb7b2-7e7a-4027-987a-485fbea73a59",
   "metadata": {},
   "outputs": [
    {
     "data": {
      "text/plain": [
       "(15,)"
      ]
     },
     "execution_count": 377,
     "metadata": {},
     "output_type": "execute_result"
    }
   ],
   "source": [
    "np.shape(g)"
   ]
  },
  {
   "cell_type": "code",
   "execution_count": 379,
   "id": "e69ba418-66f8-4563-9f1d-58500fb4a39f",
   "metadata": {},
   "outputs": [
    {
     "data": {
      "text/plain": [
       "array([[ 0,  1,  2,  3,  4],\n",
       "       [ 5,  6,  7,  8,  9],\n",
       "       [10, 11, 12, 13, 14]])"
      ]
     },
     "execution_count": 379,
     "metadata": {},
     "output_type": "execute_result"
    }
   ],
   "source": [
    "g.reshape((3, 5))"
   ]
  },
  {
   "cell_type": "code",
   "execution_count": 381,
   "id": "f44bf3c8-f37e-4757-b94b-2233becb4ee7",
   "metadata": {},
   "outputs": [
    {
     "data": {
      "text/plain": [
       "array([[ 0,  1,  2],\n",
       "       [ 3,  4,  5],\n",
       "       [ 6,  7,  8],\n",
       "       [ 9, 10, 11],\n",
       "       [12, 13, 14]])"
      ]
     },
     "execution_count": 381,
     "metadata": {},
     "output_type": "execute_result"
    }
   ],
   "source": [
    "h = g.reshape((5, 3))\n",
    "h"
   ]
  },
  {
   "cell_type": "code",
   "execution_count": 383,
   "id": "fb7ecddb-e762-4f25-8a6c-47600f697410",
   "metadata": {},
   "outputs": [
    {
     "data": {
      "text/plain": [
       "array([[ 0,  3,  6,  9, 12],\n",
       "       [ 1,  4,  7, 10, 13],\n",
       "       [ 2,  5,  8, 11, 14]])"
      ]
     },
     "execution_count": 383,
     "metadata": {},
     "output_type": "execute_result"
    }
   ],
   "source": [
    "h.transpose()"
   ]
  },
  {
   "cell_type": "markdown",
   "id": "11ce62f7-886b-4a21-ace4-7f687e9dc7c5",
   "metadata": {},
   "source": [
    "* resizing: creates a new (temporary) object"
   ]
  },
  {
   "cell_type": "code",
   "execution_count": 390,
   "id": "b99eebb6-6efa-4d09-b8c4-154c224b15a9",
   "metadata": {},
   "outputs": [
    {
     "data": {
      "text/plain": [
       "array([ 0,  1,  2,  3,  4,  5,  6,  7,  8,  9, 10, 11, 12, 13, 14])"
      ]
     },
     "execution_count": 390,
     "metadata": {},
     "output_type": "execute_result"
    }
   ],
   "source": [
    "g"
   ]
  },
  {
   "cell_type": "code",
   "execution_count": 392,
   "id": "178ce34f-8b7a-4ac6-b025-cf80f6c5e016",
   "metadata": {},
   "outputs": [
    {
     "data": {
      "text/plain": [
       "array([[0, 1, 2, 3, 4]])"
      ]
     },
     "execution_count": 392,
     "metadata": {},
     "output_type": "execute_result"
    }
   ],
   "source": [
    "np.resize(g, (1, 5))"
   ]
  },
  {
   "cell_type": "code",
   "execution_count": 394,
   "id": "fac8955e-38f8-42c8-a76b-db92676f1f56",
   "metadata": {},
   "outputs": [
    {
     "data": {
      "text/plain": [
       "array([[0, 1, 2, 3, 4],\n",
       "       [5, 6, 7, 8, 9]])"
      ]
     },
     "execution_count": 394,
     "metadata": {},
     "output_type": "execute_result"
    }
   ],
   "source": [
    "np.resize(g, (2, 5))"
   ]
  },
  {
   "cell_type": "markdown",
   "id": "f23714b7-ebd1-4757-9616-b562363b58fa",
   "metadata": {},
   "source": [
    "* Stacking"
   ]
  },
  {
   "cell_type": "code",
   "execution_count": 397,
   "id": "2d76efb1-80d1-45e9-b061-cdf9c6e8d9fd",
   "metadata": {},
   "outputs": [
    {
     "data": {
      "text/plain": [
       "array([[ 0,  1,  2],\n",
       "       [ 3,  4,  5],\n",
       "       [ 6,  7,  8],\n",
       "       [ 9, 10, 11],\n",
       "       [12, 13, 14]])"
      ]
     },
     "execution_count": 397,
     "metadata": {},
     "output_type": "execute_result"
    }
   ],
   "source": [
    "h"
   ]
  },
  {
   "cell_type": "code",
   "execution_count": 399,
   "id": "ded25666-36a2-4e2b-8a03-a08b87a0a0fc",
   "metadata": {},
   "outputs": [
    {
     "data": {
      "text/plain": [
       "array([[ 0,  1,  2,  0,  2,  4],\n",
       "       [ 3,  4,  5,  6,  8, 10],\n",
       "       [ 6,  7,  8, 12, 14, 16],\n",
       "       [ 9, 10, 11, 18, 20, 22],\n",
       "       [12, 13, 14, 24, 26, 28]])"
      ]
     },
     "execution_count": 399,
     "metadata": {},
     "output_type": "execute_result"
    }
   ],
   "source": [
    "np.hstack((h, 2 * h))"
   ]
  },
  {
   "cell_type": "code",
   "execution_count": 413,
   "id": "165c2494-16b9-41e7-9569-8479c39ebf65",
   "metadata": {},
   "outputs": [
    {
     "data": {
      "text/plain": [
       "array([ 2,  6, 10, 14, 18, 22, 26, 30])"
      ]
     },
     "execution_count": 413,
     "metadata": {},
     "output_type": "execute_result"
    }
   ],
   "source": [
    "j=np.arange(2,34,4)\n",
    "j"
   ]
  },
  {
   "cell_type": "code",
   "execution_count": 427,
   "id": "c1870576-b681-44bb-bd53-2c03f50f0730",
   "metadata": {},
   "outputs": [
    {
     "data": {
      "text/plain": [
       "array([[ 2,  6, 10, 14],\n",
       "       [18, 22, 26, 30]])"
      ]
     },
     "execution_count": 427,
     "metadata": {},
     "output_type": "execute_result"
    }
   ],
   "source": [
    "k=j.reshape(2,4)\n",
    "k"
   ]
  },
  {
   "cell_type": "code",
   "execution_count": 429,
   "id": "c43c3cb3-c6db-4310-8856-687f3967bd99",
   "metadata": {},
   "outputs": [
    {
     "data": {
      "text/plain": [
       "array([[ 2.,  6., 10., 14.,  1.,  3.,  5.,  7.],\n",
       "       [18., 22., 26., 30.,  9., 11., 13., 15.]])"
      ]
     },
     "execution_count": 429,
     "metadata": {},
     "output_type": "execute_result"
    }
   ],
   "source": [
    "np.hstack((k, k/2))"
   ]
  },
  {
   "cell_type": "code",
   "execution_count": 431,
   "id": "bf9c8bad-8f91-49ad-a05c-8211bc55341d",
   "metadata": {},
   "outputs": [
    {
     "data": {
      "text/plain": [
       "array([[ 2.,  6., 10., 14.],\n",
       "       [18., 22., 26., 30.],\n",
       "       [ 1.,  3.,  5.,  7.],\n",
       "       [ 9., 11., 13., 15.]])"
      ]
     },
     "execution_count": 431,
     "metadata": {},
     "output_type": "execute_result"
    }
   ],
   "source": [
    "np.vstack((k, k/2))"
   ]
  },
  {
   "cell_type": "markdown",
   "id": "f33c1b4f-2ca7-49d4-ab01-02d18d88a22c",
   "metadata": {},
   "source": [
    "* Boolean Arrays"
   ]
  },
  {
   "cell_type": "code",
   "execution_count": 436,
   "id": "a8dcd033-8f50-4ef4-9897-3107c81ead54",
   "metadata": {},
   "outputs": [
    {
     "data": {
      "text/plain": [
       "array([[ 0,  1,  2],\n",
       "       [ 3,  4,  5],\n",
       "       [ 6,  7,  8],\n",
       "       [ 9, 10, 11],\n",
       "       [12, 13, 14]])"
      ]
     },
     "execution_count": 436,
     "metadata": {},
     "output_type": "execute_result"
    }
   ],
   "source": [
    "h"
   ]
  },
  {
   "cell_type": "code",
   "execution_count": 438,
   "id": "adba6e6b-4f02-421d-b145-20cb9ebf35d5",
   "metadata": {},
   "outputs": [
    {
     "data": {
      "text/plain": [
       "array([[False, False, False],\n",
       "       [False, False, False],\n",
       "       [False, False, False],\n",
       "       [ True,  True,  True],\n",
       "       [ True,  True,  True]])"
      ]
     },
     "execution_count": 438,
     "metadata": {},
     "output_type": "execute_result"
    }
   ],
   "source": [
    "h > 8"
   ]
  },
  {
   "cell_type": "code",
   "execution_count": 444,
   "id": "cfdc4236-60fe-4dbc-9a3e-10c8eac3c29d",
   "metadata": {},
   "outputs": [
    {
     "data": {
      "text/plain": [
       "array([[0, 0, 0],\n",
       "       [0, 0, 0],\n",
       "       [0, 0, 1],\n",
       "       [1, 1, 1],\n",
       "       [1, 1, 1]])"
      ]
     },
     "execution_count": 444,
     "metadata": {},
     "output_type": "execute_result"
    }
   ],
   "source": [
    "np.where(h > 7, 1, 0)  #True=1, False=0"
   ]
  },
  {
   "cell_type": "code",
   "execution_count": 446,
   "id": "c4fceec9-f31a-4d59-aa4b-9b3c6fdba7f3",
   "metadata": {},
   "outputs": [
    {
     "data": {
      "text/plain": [
       "array([[3, 3, 3],\n",
       "       [3, 3, 3],\n",
       "       [3, 3, 9],\n",
       "       [9, 9, 9],\n",
       "       [9, 9, 9]])"
      ]
     },
     "execution_count": 446,
     "metadata": {},
     "output_type": "execute_result"
    }
   ],
   "source": [
    "np.where(h > 7, 9, 3)  #True=9, False=3"
   ]
  },
  {
   "cell_type": "markdown",
   "id": "b4e677b4-424e-46a3-809b-e86d244f13a7",
   "metadata": {},
   "source": [
    "* speed comparison"
   ]
  },
  {
   "cell_type": "code",
   "execution_count": 451,
   "id": "c5b2c108-c5c4-41eb-a694-d3f4e3bd0bc3",
   "metadata": {},
   "outputs": [
    {
     "data": {
      "text/plain": [
       "0.02726691699353978"
      ]
     },
     "execution_count": 451,
     "metadata": {},
     "output_type": "execute_result"
    }
   ],
   "source": [
    "#Speed Comparison\n",
    "import timeit\n",
    "timeit.timeit(\"[random.gauss(0, 1) for j in range(5000)]\", setup=\"import random\", number=10)"
   ]
  },
  {
   "cell_type": "code",
   "execution_count": 455,
   "id": "84bf3b7a-4496-48f0-8410-03ff45b5a397",
   "metadata": {},
   "outputs": [
    {
     "data": {
      "text/plain": [
       "0.0031716660014353693"
      ]
     },
     "execution_count": 455,
     "metadata": {},
     "output_type": "execute_result"
    }
   ],
   "source": [
    "timeit.timeit(\"numpy.random.standard_normal((5000,1))\", setup=\"import numpy\", number=10)  #Generates a (5000 × 1) array"
   ]
  },
  {
   "cell_type": "markdown",
   "id": "4e12510a-a8fd-4615-a60e-5321d5027f5d",
   "metadata": {},
   "source": [
    "* np.eye(): generate identity matrix"
   ]
  },
  {
   "cell_type": "code",
   "execution_count": 9,
   "id": "e82fd754-5f29-4ab1-9e3f-fd6c6225670a",
   "metadata": {},
   "outputs": [
    {
     "name": "stdout",
     "output_type": "stream",
     "text": [
      "[[1. 0. 0. 0.]\n",
      " [0. 1. 0. 0.]\n",
      " [0. 0. 1. 0.]\n",
      " [0. 0. 0. 1.]]\n"
     ]
    }
   ],
   "source": [
    "import numpy as np\n",
    "I = np.eye(4)  # 4x4 identity matrix\n",
    "print(I)"
   ]
  },
  {
   "cell_type": "markdown",
   "id": "56033a1e-b63b-4e26-906b-c3fa18699e93",
   "metadata": {},
   "source": [
    "### Structured Arrays"
   ]
  },
  {
   "cell_type": "markdown",
   "id": "6f750741-2382-4a5f-b289-271f24ffe5ab",
   "metadata": {},
   "source": [
    "Structured (and record) arrays allow the description and handling of table-like data structures with a variety of diﬀerent data types per (named) column."
   ]
  },
  {
   "cell_type": "code",
   "execution_count": 26,
   "id": "2ca3fc3c-3331-41b9-a1a0-2f9755377d6f",
   "metadata": {},
   "outputs": [
    {
     "data": {
      "text/plain": [
       "dtype([('Name', 'S10'), ('Age', '<i4'), ('Height', '<f4'), ('Children/Pets', '<i4', (2,))])"
      ]
     },
     "execution_count": 26,
     "metadata": {},
     "output_type": "execute_result"
    }
   ],
   "source": [
    "#The complex dtype is composed\n",
    "dt = np.dtype([('Name', 'S10'), ('Age', 'i4'), ('Height', 'f'), ('Children/Pets', 'i4', 2)])\n",
    "dt"
   ]
  },
  {
   "cell_type": "markdown",
   "id": "6f3116bd-9330-49ac-8624-635bb59b43f5",
   "metadata": {},
   "source": [
    "`('Name', 'S10')` <br>\n",
    "This defines a field named `\"Name\"` that stores strings (in byte format) with a maximum length of 10 characters. <br>\n",
    "`'S10'` represents a string of up to 10 bytes."
   ]
  },
  {
   "cell_type": "markdown",
   "id": "5b264669-95ea-44ea-b58e-1851152b5fa0",
   "metadata": {},
   "source": [
    "### Basic Vectorization"
   ]
  },
  {
   "cell_type": "markdown",
   "id": "2c78b84c-a579-42e2-ab78-810ae210c602",
   "metadata": {},
   "source": [
    "add two NumPy arrays element-wise"
   ]
  },
  {
   "cell_type": "code",
   "execution_count": 15,
   "id": "13fafc5e-ef7f-4f0b-b16c-fa880a7e8d74",
   "metadata": {},
   "outputs": [],
   "source": [
    "import numpy as np\n",
    "np.random.seed(100)"
   ]
  },
  {
   "cell_type": "code",
   "execution_count": 21,
   "id": "8659e34d-2f5b-4ead-bc15-551c9b525b19",
   "metadata": {},
   "outputs": [
    {
     "data": {
      "text/plain": [
       "array([[ 0,  1,  2],\n",
       "       [ 3,  4,  5],\n",
       "       [ 6,  7,  8],\n",
       "       [ 9, 10, 11]])"
      ]
     },
     "execution_count": 21,
     "metadata": {},
     "output_type": "execute_result"
    }
   ],
   "source": [
    "#Create an ndarray object with random numbers\n",
    "r = np.arange(12).reshape((4, 3))\n",
    "r"
   ]
  },
  {
   "cell_type": "code",
   "execution_count": 27,
   "id": "f22673b6-8c37-4f09-bf5b-384fc83ca7da",
   "metadata": {},
   "outputs": [
    {
     "data": {
      "text/plain": [
       "array([[0. , 0.5, 1. ],\n",
       "       [1.5, 2. , 2.5],\n",
       "       [3. , 3.5, 4. ],\n",
       "       [4.5, 5. , 5.5]])"
      ]
     },
     "execution_count": 27,
     "metadata": {},
     "output_type": "execute_result"
    }
   ],
   "source": [
    "#Create a second ndarray object with random numbers\n",
    "s = np.arange(12).reshape((4, 3))*0.5\n",
    "s"
   ]
  },
  {
   "cell_type": "code",
   "execution_count": 29,
   "id": "251a9df7-7231-4c9f-bb55-dd7b7d6e2dd5",
   "metadata": {},
   "outputs": [
    {
     "data": {
      "text/plain": [
       "array([[ 0. ,  1.5,  3. ],\n",
       "       [ 4.5,  6. ,  7.5],\n",
       "       [ 9. , 10.5, 12. ],\n",
       "       [13.5, 15. , 16.5]])"
      ]
     },
     "execution_count": 29,
     "metadata": {},
     "output_type": "execute_result"
    }
   ],
   "source": [
    "r+s"
   ]
  },
  {
   "cell_type": "code",
   "execution_count": 23,
   "id": "978a8c9d-30d2-4e1b-a3f7-6029f71ca383",
   "metadata": {},
   "outputs": [],
   "source": [
    "import numpy as np\n",
    "np.random.seed(10)"
   ]
  },
  {
   "cell_type": "code",
   "execution_count": 25,
   "id": "8ddb1858-aec6-41e4-b524-2c6a5fb8ce47",
   "metadata": {},
   "outputs": [
    {
     "data": {
      "text/plain": [
       "array([[ 0,  1,  2],\n",
       "       [ 3,  4,  5],\n",
       "       [ 6,  7,  8],\n",
       "       [ 9, 10, 11]])"
      ]
     },
     "execution_count": 25,
     "metadata": {},
     "output_type": "execute_result"
    }
   ],
   "source": [
    "q = np.arange(12).reshape((4, 3))\n",
    "q"
   ]
  },
  {
   "cell_type": "markdown",
   "id": "c71fd5cf-4724-4479-a91d-d680def1c550",
   "metadata": {},
   "source": [
    "* broadcast"
   ]
  },
  {
   "cell_type": "markdown",
   "id": "8e098171-a092-4037-b890-b8250a5e058a",
   "metadata": {},
   "source": [
    "Combine objects of diﬀerent shape within a single operation."
   ]
  },
  {
   "cell_type": "code",
   "execution_count": 36,
   "id": "92c630cb-6275-45cd-8de3-f3b815671512",
   "metadata": {},
   "outputs": [
    {
     "data": {
      "text/plain": [
       "array([[ 3,  4,  5],\n",
       "       [ 6,  7,  8],\n",
       "       [ 9, 10, 11],\n",
       "       [12, 13, 14]])"
      ]
     },
     "execution_count": 36,
     "metadata": {},
     "output_type": "execute_result"
    }
   ],
   "source": [
    "#During scalar addition, the scalar is broadcast and added to every element.\n",
    "r + 3"
   ]
  },
  {
   "cell_type": "markdown",
   "id": "15759bf0-3a2e-4bfb-b1ba-d5a554cd8de2",
   "metadata": {},
   "source": [
    "$\\textcolor{red}{\\textbf{Custom-defined Python functions work with ndarray objects as well.}}$"
   ]
  },
  {
   "cell_type": "code",
   "execution_count": 45,
   "id": "881de2fe-eccb-4ef6-9be3-62eb2253ba50",
   "metadata": {},
   "outputs": [],
   "source": [
    "#simple Python function implementing a linear transform on parameter x.\n",
    "def f(x):\n",
    "    return 3 * x + 5"
   ]
  },
  {
   "cell_type": "code",
   "execution_count": 47,
   "id": "250d833b-1788-421e-b4c0-49400f05e487",
   "metadata": {},
   "outputs": [
    {
     "data": {
      "text/plain": [
       "6.5"
      ]
     },
     "execution_count": 47,
     "metadata": {},
     "output_type": "execute_result"
    }
   ],
   "source": [
    "f(0.5)"
   ]
  },
  {
   "cell_type": "code",
   "execution_count": 49,
   "id": "360c0485-1bff-406d-887d-f33e0157aac2",
   "metadata": {},
   "outputs": [
    {
     "data": {
      "text/plain": [
       "array([[ 5,  8, 11],\n",
       "       [14, 17, 20],\n",
       "       [23, 26, 29],\n",
       "       [32, 35, 38]])"
      ]
     },
     "execution_count": 49,
     "metadata": {},
     "output_type": "execute_result"
    }
   ],
   "source": [
    "f(r)"
   ]
  },
  {
   "cell_type": "markdown",
   "id": "eed835db-2503-4dd1-a062-e7d1faf36a4d",
   "metadata": {
    "jp-MarkdownHeadingCollapsed": true
   },
   "source": [
    "## L4 Functions"
   ]
  },
  {
   "cell_type": "markdown",
   "id": "16e90b9c-d4e5-4cea-bb9c-cfe015cba00a",
   "metadata": {},
   "source": [
    "### Defining functions"
   ]
  },
  {
   "cell_type": "markdown",
   "id": "08fea30e-6e4b-4711-966c-078b7ed21041",
   "metadata": {},
   "source": [
    "```python\n",
    "def function_name(parameter1,parameter):\n",
    "        \"\"\"docstring\"\"\"\n",
    "        statement\n",
    "        statement(s)"
   ]
  },
  {
   "cell_type": "code",
   "execution_count": 56,
   "id": "1ceb0235-e89a-45f2-90ee-730831698407",
   "metadata": {},
   "outputs": [],
   "source": [
    "def print_my_msg(msg):\n",
    "        print(msg)"
   ]
  },
  {
   "cell_type": "code",
   "execution_count": 58,
   "id": "327443f4-a110-49e0-9977-c71e96d4be41",
   "metadata": {},
   "outputs": [
    {
     "name": "stdout",
     "output_type": "stream",
     "text": [
      "good afternoon\n"
     ]
    }
   ],
   "source": [
    "msg=\"good afternoon\"\n",
    "print_my_msg(msg)"
   ]
  },
  {
   "cell_type": "code",
   "execution_count": 60,
   "id": "b8fc46cb-59f4-411d-ad44-d4712724399e",
   "metadata": {},
   "outputs": [],
   "source": [
    "def square(n):\n",
    "        return n*n"
   ]
  },
  {
   "cell_type": "code",
   "execution_count": 62,
   "id": "39e8ca0e-0eb1-4d44-9e6a-172e37b5d4c0",
   "metadata": {},
   "outputs": [
    {
     "data": {
      "text/plain": [
       "81"
      ]
     },
     "execution_count": 62,
     "metadata": {},
     "output_type": "execute_result"
    }
   ],
   "source": [
    "square(9)"
   ]
  },
  {
   "cell_type": "code",
   "execution_count": 64,
   "id": "e9f13d61-d4e5-4503-88c1-4a483e116978",
   "metadata": {},
   "outputs": [],
   "source": [
    "#Docstrings\n",
    "def do_calculations(n1):\n",
    "        \"\"\"This function takes a number as parameter and computes two results:\n",
    "        *The first result is the number squared\n",
    "        *The second result is the number plus 5\"\"\"\n",
    "        res1 = n1*n1\n",
    "        res2 = n1 + 5\n",
    "        return res1,res2"
   ]
  },
  {
   "cell_type": "code",
   "execution_count": 66,
   "id": "fc29ae15-b4e8-4cd6-887a-8400a818dacd",
   "metadata": {},
   "outputs": [
    {
     "data": {
      "text/plain": [
       "(81, 14)"
      ]
     },
     "execution_count": 66,
     "metadata": {},
     "output_type": "execute_result"
    }
   ],
   "source": [
    "do_calculations(9)"
   ]
  },
  {
   "cell_type": "code",
   "execution_count": 68,
   "id": "28bee393-f99b-4faf-b9c7-6764e4b3fb99",
   "metadata": {},
   "outputs": [],
   "source": [
    "a,b=do_calculations(9)"
   ]
  },
  {
   "cell_type": "code",
   "execution_count": 70,
   "id": "f514544b-cf5e-4048-a68c-661d266ed290",
   "metadata": {},
   "outputs": [
    {
     "data": {
      "text/plain": [
       "81"
      ]
     },
     "execution_count": 70,
     "metadata": {},
     "output_type": "execute_result"
    }
   ],
   "source": [
    "a"
   ]
  },
  {
   "cell_type": "code",
   "execution_count": 72,
   "id": "4818e1aa-8215-4401-9c50-c63024102510",
   "metadata": {},
   "outputs": [
    {
     "data": {
      "text/plain": [
       "14"
      ]
     },
     "execution_count": 72,
     "metadata": {},
     "output_type": "execute_result"
    }
   ],
   "source": [
    "b"
   ]
  },
  {
   "cell_type": "markdown",
   "id": "b4911af3-07e7-4a29-8a11-995e96f00392",
   "metadata": {},
   "source": [
    "### Function parameter"
   ]
  },
  {
   "cell_type": "markdown",
   "id": "35dd0fc2-5e19-4867-8546-ed95d7110964",
   "metadata": {},
   "source": [
    "The parameter list contains a list of parameter names separated by a comma"
   ]
  },
  {
   "cell_type": "code",
   "execution_count": 77,
   "id": "60cb28bc-9390-4a02-949a-6eaa51d1f6f2",
   "metadata": {},
   "outputs": [],
   "source": [
    "def do_calculations(n1,n2):\n",
    "        res1 = n1*n2\n",
    "        res2 = n1 + n2 + 5\n",
    "        return res1,res2"
   ]
  },
  {
   "cell_type": "code",
   "execution_count": 79,
   "id": "9365cca4-d35c-4006-9cf0-e555e09689d1",
   "metadata": {},
   "outputs": [
    {
     "data": {
      "text/plain": [
       "(2, 8)"
      ]
     },
     "execution_count": 79,
     "metadata": {},
     "output_type": "execute_result"
    }
   ],
   "source": [
    "do_calculations(1,2)"
   ]
  },
  {
   "cell_type": "markdown",
   "id": "b96cebd4-684d-4bd6-84cc-165482964a84",
   "metadata": {},
   "source": [
    "### Named arguments"
   ]
  },
  {
   "cell_type": "code",
   "execution_count": 82,
   "id": "47db05e7-2a6d-4fae-8f0c-a5fa8fda0bee",
   "metadata": {},
   "outputs": [],
   "source": [
    "def greeter(name,\n",
    "        title = 'Dr',\n",
    "        prompt = 'Welcome',\n",
    "        message = 'Live Long and Prosper'):\n",
    "    print(prompt, title, name, '-', message)"
   ]
  },
  {
   "cell_type": "code",
   "execution_count": 84,
   "id": "70fb2268-d0fb-487b-9068-a6aff4fc8fb2",
   "metadata": {},
   "outputs": [
    {
     "name": "stdout",
     "output_type": "stream",
     "text": [
      "Welcome Dr Nacho - Live Long and Prosper\n"
     ]
    }
   ],
   "source": [
    "greeter(name = 'Nacho')"
   ]
  },
  {
   "cell_type": "code",
   "execution_count": 86,
   "id": "ba4d0a0b-1845-4c84-b49c-bf735b21f002",
   "metadata": {},
   "outputs": [
    {
     "ename": "SyntaxError",
     "evalue": "positional argument follows keyword argument (933499566.py, line 1)",
     "output_type": "error",
     "traceback": [
      "\u001b[0;36m  Cell \u001b[0;32mIn[86], line 1\u001b[0;36m\u001b[0m\n\u001b[0;31m    greeter(prompt='Hello', title='Professor', name = 'Nacho', ',', message)\u001b[0m\n\u001b[0m                                                                           ^\u001b[0m\n\u001b[0;31mSyntaxError\u001b[0m\u001b[0;31m:\u001b[0m positional argument follows keyword argument\n"
     ]
    }
   ],
   "source": [
    "greeter(prompt='Hello', title='Professor', name = 'Nacho', ',', message)"
   ]
  },
  {
   "cell_type": "markdown",
   "id": "e801f2e3-c73c-4eba-8e66-afca6d195f71",
   "metadata": {},
   "source": [
    "`prompt='Hello'`, `title='Professor'`, and `name='Nacho'` are keyword arguments. <br>.\n",
    "`','` and `message` are positional arguments placed after keyword arguments, which is not allowed in Python."
   ]
  },
  {
   "cell_type": "code",
   "execution_count": 89,
   "id": "edb6043e-f2c9-4df4-96c9-35b961bdfa53",
   "metadata": {},
   "outputs": [
    {
     "name": "stdout",
     "output_type": "stream",
     "text": [
      "Hello Professor Nacho - Live Long and Prosper\n"
     ]
    }
   ],
   "source": [
    "greeter('Nacho', prompt='Hello', title='Professor')"
   ]
  },
  {
   "cell_type": "markdown",
   "id": "b8243228-1eaf-4160-aee8-f09222bf07a9",
   "metadata": {},
   "source": [
    "### Arbitrary arguments"
   ]
  },
  {
   "cell_type": "markdown",
   "id": "68fe16f3-2e57-46fc-8924-60396ee2d2ad",
   "metadata": {},
   "source": [
    "$\\textcolor{red}{\\textbf{To define a parameter list as being of arbitrary length, a\n",
    "parameter is marked with an asterisk (*).}}$"
   ]
  },
  {
   "cell_type": "code",
   "execution_count": 95,
   "id": "d56949e9-ad05-4208-bac0-e9c0d423e2c1",
   "metadata": {},
   "outputs": [],
   "source": [
    "def greeter_list(*args):\n",
    "    for name in args:\n",
    "        print('Welcome', name)"
   ]
  },
  {
   "cell_type": "code",
   "execution_count": 97,
   "id": "53c54edd-657f-493f-a912-7c070a6115a2",
   "metadata": {},
   "outputs": [
    {
     "name": "stdout",
     "output_type": "stream",
     "text": [
      "Welcome Jenny\n",
      "Welcome Helen\n",
      "Welcome Tom\n",
      "Welcome Jerry\n"
     ]
    }
   ],
   "source": [
    "greeter_list('Jenny','Helen','Tom','Jerry')"
   ]
  },
  {
   "cell_type": "markdown",
   "id": "3a222da9-465e-4d77-917a-e344e443268b",
   "metadata": {},
   "source": [
    "### Positional and Keyword arguments"
   ]
  },
  {
   "cell_type": "markdown",
   "id": "125c8d1d-4e7d-4b55-96c5-ba1e19cef808",
   "metadata": {},
   "source": [
    "do not know exactly how many of either positional or keyword arguments are going to be provided"
   ]
  },
  {
   "cell_type": "code",
   "execution_count": 2,
   "id": "6b3f20ae-1e9e-421f-91b3-31076c6bcebe",
   "metadata": {},
   "outputs": [],
   "source": [
    "def my_function(*args,**kwargs):\n",
    "    for arg in args:\n",
    "        print('arg:', arg)\n",
    "    for key in kwargs.keys():\n",
    "        print('key:', key, 'has value: ', kwargs[key])"
   ]
  },
  {
   "cell_type": "code",
   "execution_count": 4,
   "id": "52b9a77d-3cce-41a0-893f-6e9f9041cbb3",
   "metadata": {},
   "outputs": [
    {
     "name": "stdout",
     "output_type": "stream",
     "text": [
      "arg: John\n",
      "arg: Denise\n",
      "key: daughter has value:  Phoebe\n",
      "key: son has value:  Adam\n"
     ]
    }
   ],
   "source": [
    "my_function('John', 'Denise', daughter='Phoebe', son='Adam')"
   ]
  },
  {
   "cell_type": "code",
   "execution_count": 6,
   "id": "efdb6331-7012-42a1-b308-36f8a6908636",
   "metadata": {},
   "outputs": [
    {
     "name": "stdout",
     "output_type": "stream",
     "text": [
      "arg: Paul\n",
      "arg: Fiona\n",
      "key: son_number_one has value:  Andrew\n",
      "key: son_number_two has value:  James\n",
      "key: daughter has value:  Joselyn\n"
     ]
    }
   ],
   "source": [
    "my_function('Paul', 'Fiona', son_number_one='Andrew', son_number_two='James', daughter='Joselyn')"
   ]
  },
  {
   "cell_type": "markdown",
   "id": "6571c342-98ef-4e16-bc90-80cdd17e4352",
   "metadata": {},
   "source": [
    "only use one of the *args and <br>\n",
    "**kwargs depending on your requirements"
   ]
  },
  {
   "cell_type": "code",
   "execution_count": 9,
   "id": "626d64f1-2b9f-421f-b49f-e6005ad21d2f",
   "metadata": {},
   "outputs": [
    {
     "name": "stdout",
     "output_type": "stream",
     "text": [
      "arg: a has value: 1\n",
      "arg: b has value: 2\n",
      "arg: c has value: 3\n"
     ]
    }
   ],
   "source": [
    "def named(**kwargs):\n",
    "    for key in kwargs.keys():\n",
    "        print('arg:', key, 'has value:', kwargs[key])\n",
    "named(a=1, b=2, c=3)"
   ]
  },
  {
   "cell_type": "markdown",
   "id": "6726a299-680e-4dc8-a2fa-1437bc2f7090",
   "metadata": {},
   "source": [
    "### Anonymous function/ Lambda function"
   ]
  },
  {
   "cell_type": "markdown",
   "id": "c9acd5c7-3ad2-4b86-98f0-fd44b574e5b0",
   "metadata": {},
   "source": [
    "does not have a name and can only be used at the point that it is defined"
   ]
  },
  {
   "cell_type": "markdown",
   "id": "b12752f5-44c1-4be0-9dcc-53c47c374e26",
   "metadata": {},
   "source": [
    "``` python\n",
    "lambda arguments: expression\n"
   ]
  },
  {
   "cell_type": "markdown",
   "id": "999b5282-d411-4123-ac78-1d9fe6d184b5",
   "metadata": {},
   "source": [
    "`lambda`: The keyword to define an anonymous function. <br>\n",
    "`arguments`: Input parameters (similar to function arguments). <br>\n",
    "`expression`: A single-line expression that is evaluated and returned. <>"
   ]
  },
  {
   "cell_type": "code",
   "execution_count": 20,
   "id": "37de9aef-c698-485d-ae09-f4e6559dc90b",
   "metadata": {},
   "outputs": [
    {
     "name": "stdout",
     "output_type": "stream",
     "text": [
      "100\n"
     ]
    }
   ],
   "source": [
    "double = lambda i: i*i\n",
    "print(double(10))"
   ]
  },
  {
   "cell_type": "code",
   "execution_count": 24,
   "id": "2f51ea71-5554-4bb2-9076-e7e8e0f9867f",
   "metadata": {},
   "outputs": [
    {
     "name": "stdout",
     "output_type": "stream",
     "text": [
      "25\n"
     ]
    }
   ],
   "source": [
    "square = lambda a: a**2\n",
    "print(square(5))"
   ]
  },
  {
   "cell_type": "markdown",
   "id": "a28fb6b3-8514-4d7d-b513-fbf819c001f7",
   "metadata": {
    "jp-MarkdownHeadingCollapsed": true
   },
   "source": [
    "# Additional Note: Markdown"
   ]
  },
  {
   "cell_type": "markdown",
   "id": "45c79dd0-9097-4290-beb2-3c2ee3900d85",
   "metadata": {},
   "source": [
    "This is *italic* text.\n",
    "This is **bold** text.\n",
    "This is `monospace` text."
   ]
  },
  {
   "cell_type": "markdown",
   "id": "9768436f-9fb1-4018-af41-fe72eaf98648",
   "metadata": {},
   "source": [
    "*hello world*"
   ]
  },
  {
   "cell_type": "markdown",
   "id": "a641d4e2-4314-4e91-8d8b-7d92191f76d0",
   "metadata": {},
   "source": [
    "**hello world**"
   ]
  },
  {
   "cell_type": "markdown",
   "id": "bad5c269-09b8-41d1-a109-7769230c0380",
   "metadata": {},
   "source": [
    "`hello world`"
   ]
  },
  {
   "cell_type": "markdown",
   "id": "ca220909-6525-4d30-afcb-b7f8b62f8ced",
   "metadata": {},
   "source": [
    "* Item 1\n",
    "* Item 2\n",
    "  * Sub-item 1\n"
   ]
  },
  {
   "cell_type": "markdown",
   "id": "b6ed6794-ebfd-4818-bf4f-76b6f5fcfc7d",
   "metadata": {},
   "source": [
    "1. First item\n",
    "2. Second item\n",
    "   1. Sub-item 1\n"
   ]
  },
  {
   "cell_type": "markdown",
   "id": "869975b4-1bf0-4b8b-a92e-0f33aa72f002",
   "metadata": {},
   "source": [
    "Create link\n",
    "[Google](https://www.google.com)"
   ]
  },
  {
   "cell_type": "markdown",
   "id": "b869be38-1cf9-4800-b4c9-c5c2c2743447",
   "metadata": {},
   "source": [
    "use photo\n",
    "![Python Logo](https://www.python.org/static/community_logos/python-logo.png)"
   ]
  },
  {
   "cell_type": "markdown",
   "id": "40765c29-bcc0-4be9-84ad-e4dc60c04f25",
   "metadata": {},
   "source": [
    "Find where the document is"
   ]
  },
  {
   "cell_type": "code",
   "execution_count": 63,
   "id": "a4ed6f67-3da3-4040-92af-c7be5dfce95f",
   "metadata": {},
   "outputs": [
    {
     "name": "stdout",
     "output_type": "stream",
     "text": [
      "/Users/wanghaoling/Desktop/Numerical_Methods_in_Economics\n"
     ]
    }
   ],
   "source": [
    "import os\n",
    "print(os.getcwd())"
   ]
  },
  {
   "cell_type": "code",
   "execution_count": 57,
   "id": "a75127a3-61fc-46c3-9af3-419b48710966",
   "metadata": {},
   "outputs": [
    {
     "name": "stdout",
     "output_type": "stream",
     "text": [
      "The absolute path is: /Users/wanghaoling/Desktop/Numerical_Methods_in_Economics/UoN_logo.png\n"
     ]
    }
   ],
   "source": [
    "from pathlib import Path\n",
    "\n",
    "# Specify the file name (relative path)\n",
    "file_name = 'UoN_logo.png'\n",
    "\n",
    "# Get the absolute path\n",
    "absolute_path = Path(file_name).resolve()\n",
    "\n",
    "print(f\"The absolute path is: {absolute_path}\")\n"
   ]
  },
  {
   "cell_type": "markdown",
   "id": "7e87a603-bd1f-4b80-bcbd-20b9de10e161",
   "metadata": {},
   "source": [
    "![nottingham](\"/Users/wanghaoling/Desktop/Numerical_Methods_in_Economics/UoN_logo.png\")"
   ]
  },
  {
   "cell_type": "markdown",
   "id": "76a62fa3-d77a-48de-9bca-f7fac2375fb9",
   "metadata": {},
   "source": [
    "```python\n",
    "def hello():\n",
    "    print(\"Hello, World!\")\n"
   ]
  },
  {
   "cell_type": "markdown",
   "id": "634ab352-5b82-4d18-960f-a552b827253b",
   "metadata": {},
   "source": [
    "```R\n",
    "plot(x,y)  #Generate scatter plots, line plots or other two-way graphs for two vectors x and y\n",
    "x <- c(1,3,4,7,8,9)\n",
    "y <- c(0,3,6,9,7,8)\n",
    "plot(x ,y)"
   ]
  },
  {
   "cell_type": "markdown",
   "id": "28740127-a340-486c-ac9e-2b65929c01e5",
   "metadata": {
    "jp-MarkdownHeadingCollapsed": true
   },
   "source": [
    "# Some other useful skills with python"
   ]
  },
  {
   "cell_type": "code",
   "execution_count": 69,
   "id": "12b52206-2c95-4e0f-b3f1-69e9f9091549",
   "metadata": {},
   "outputs": [
    {
     "data": {
      "text/plain": [
       "True"
      ]
     },
     "execution_count": 69,
     "metadata": {},
     "output_type": "execute_result"
    }
   ],
   "source": [
    "import webbrowser\n",
    "\n",
    "# Open a website in the default web browser\n",
    "webbrowser.open(\"https://www.google.com.hk/webhp\")\n"
   ]
  },
  {
   "cell_type": "code",
   "execution_count": 76,
   "id": "2234bdbe-c6d0-4fc2-ab55-f883a0a90f79",
   "metadata": {},
   "outputs": [
    {
     "name": "stdout",
     "output_type": "stream",
     "text": [
      "Requirement already satisfied: requests in /opt/anaconda3/lib/python3.12/site-packages (2.32.2)\n",
      "Requirement already satisfied: charset-normalizer<4,>=2 in /opt/anaconda3/lib/python3.12/site-packages (from requests) (2.0.4)\n",
      "Requirement already satisfied: idna<4,>=2.5 in /opt/anaconda3/lib/python3.12/site-packages (from requests) (3.7)\n",
      "Requirement already satisfied: urllib3<3,>=1.21.1 in /opt/anaconda3/lib/python3.12/site-packages (from requests) (2.2.2)\n",
      "Requirement already satisfied: certifi>=2017.4.17 in /opt/anaconda3/lib/python3.12/site-packages (from requests) (2025.1.31)\n",
      "Note: you may need to restart the kernel to use updated packages.\n"
     ]
    }
   ],
   "source": [
    "pip install requests"
   ]
  },
  {
   "cell_type": "code",
   "execution_count": 78,
   "id": "eade8588-effb-4c50-ad39-71113a978042",
   "metadata": {},
   "outputs": [
    {
     "name": "stdout",
     "output_type": "stream",
     "text": [
      "<!DOCTYPE html>\n",
      "\t<html lang=\"en-GB\">\n",
      "\n",
      "\t<head><meta charset=\"utf-8\"><title>\n",
      "\tKnow our people - University of Nottingham Ningbo China\n",
      "</title>\n",
      "\t\t<!-- Google Tag Manager -->\n",
      "\t\t<script>\n",
      "\t\t\t(function(w,d,s,l,i){w[l]=w[l]||[];w[l].push({'gtm.start':new Date().getTime(),event:'gtm.js'});var f=d.getElementsByTagName(s)[0],j=d.createElement(s),dl=l!='dataLayer'?'\\u0026l='+l:'';j.async=true;j.src='https://www.googletagmanager.com/gtm.js?id='+i+dl;f.parentNode.insertBefore(j,f);})(window,document,'script','dataLayer','GTM-PPLLW9WC');\n",
      "\t\t</script>\n",
      "\t\t<!-- End Google Tag Manager -->\n",
      "\t\t\n",
      "    \n",
      "    \n",
      "    \n",
      "    <meta name=\"GENERATOR\" content=\"Contensis CMS Version 15.0\" />\n",
      "<meta http-equiv=\"X-UA-Compatible\" content=\"IE=Edge\" />\n",
      "<meta name=\"viewport\" content=\"width=device-width, initial-scale=1\" />\n",
      "\n",
      "\n",
      "<meta http-equiv=\"X-UA-Compatible\" content=\"IE=edge\" /><meta name=\"viewport\" content=\"width=device-width, initial-scale=1.0\" /><link href=\"/siteelements/stylesheets/2018-additional-styles.css?version=9585684\" rel=\"stylesheet\" type=\"text/css\" />\n",
      "<link href=\"/siteelements/stylesheets/2023-revamp/components/2023-revamp-components-styles.css?version=9569961\" rel=\"stylesheet\" type=\"text/css\" />\n",
      "<link href=\"/siteelements/stylesheets/2023-revamp/2023-revamp-styles.css?version=9548072\" rel=\"stylesheet\" type=\"text/css\" />\n",
      "<link href=\"/siteelements/stylesheets/app.css?version=9576194\" rel=\"stylesheet\" type=\"text/css\" />\n",
      "\n",
      "\t\t<script type=\"text/javascript\" src=\"/SiteElements/Javascript/jquery-3.3.1.min.js\"></script>\n",
      "\t\t<script type=\"text/javascript\">\n",
      "\t\t\t$( document ).ready(function() {\n",
      "    \t\t$(\"ul.sys_simpleListMenu\").addClass(\"side-nav__list\");\n",
      "\n",
      "\t\t});\n",
      "\t\t</script>\n",
      "\t\t\t\t<script  type=\"text/javascript\" src=\"https://ajax.aspnetcdn.com/ajax/jQuery/jquery-3.3.1.min.js?build=1601121\"></script>\n",
      "<!--\n",
      "ControlID:__Page of type ASP.en_humanities_and_social_sciences_schools_and_department_economics_people_listing_aspx has set the maximum duration to 3601 seconds\n",
      "Cache Enabled using rule ControlID:__Page of type ASP.en_humanities_and_social_sciences_schools_and_department_economics_people_listing_aspx has set the maximum duration to 3601 seconds\n",
      "Cache Page Render Time 11/02/2025 03:36:43\n",
      "\n",
      "--></head>\n",
      "\n",
      "\t<body>\n",
      "\t\t<!-- Google Tag Manager (noscript) -->\n",
      "\t\t<noscript><iframe src=\"https://www.googletagmanager.com/ns.html?id=GTM-PPLLW9WC\" height=\"0\" width=\"0\" style=\"display:none;visibility:hidden\"></iframe></noscript>\n",
      "\t\t<!-- End Google Tag Manager (noscript) -->\n",
      "\t\t<form method=\"post\" action=\"/en/humanities-and-social-sciences/schools-and-department/economics/people/listing.aspx\" id=\"form1\">\n",
      "<div class=\"aspNetHidden\">\n",
      "<input type=\"hidden\" name=\"ScriptManager_HiddenField\" id=\"ScriptManager_HiddenField\" value=\"\" />\n",
      "<input type=\"hidden\" name=\"__EVENTTARGET\" id=\"__EVENTTARGET\" value=\"\" />\n",
      "<input type=\"hidden\" name=\"__EVENTARGUMENT\" id=\"__EVENTARGUMENT\" value=\"\" />\n",
      "<input type=\"hidden\" name=\"__VIEWSTATE\" id=\"__VIEWSTATE\" value=\"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\" />\n",
      "</div>\n",
      "\n",
      "<script type=\"text/javascript\">\n",
      "//<![CDATA[\n",
      "var theForm = document.forms['form1'];\n",
      "if (!theForm) {\n",
      "    theForm = document.form1;\n",
      "}\n",
      "function __doPostBack(eventTarget, eventArgument) {\n",
      "    if (!theForm.onsubmit || (theForm.onsubmit() != false)) {\n",
      "        theForm.__EVENTTARGET.value = eventTarget;\n",
      "        theForm.__EVENTARGUMENT.value = eventArgument;\n",
      "        theForm.submit();\n",
      "    }\n",
      "}\n",
      "//]]>\n",
      "</script><noscript><p>Browser does not support script.</p></noscript>\n",
      "\n",
      "\n",
      "<script src=\"/WebResource.axd?d=pynGkmcFUV13He1Qd6_TZN39qq-b5RNwbCV5iMpxektaDPrW5pfPdakycwD5GmjQpYMnpw2&amp;t=638113652409539001\" type=\"text/javascript\"></script><noscript><p>Browser does not support script.</p></noscript>\n",
      "\n",
      "\n",
      "<script src=\"/ScriptResource.axd?d=uHIkleVeDJf4xS50Krz-yArUyBtZItU56L3hH-k23K6FJvIsXVuOb-z1ooga0jaUkRooKviCygbEc5J_EOJECV6uViefdpsxmFI3fUcHWglFoetu6uSA-RoPKY1Sg5TH_vVpikgdMrFoqckoQu_cutVenTw1&amp;t=49337fe8\" type=\"text/javascript\"></script><noscript><p>Browser does not support script.</p></noscript>\n",
      "<script src=\"/ScriptResource.axd?d=Jw6tUGWnA15YEa3ai3FadPC_4v1Cb2oVrWWTxa_EzCgJgKUUoWsZiV5KVqVc29gVdCvmf6D3opGeAMbR2ht0hbGuth2b8xxBOBpC_X971jKyKAHPuGBo4mO2IyPCZFIS7gCDdSupyHcBlS3BBkR2ZOjg6Ws1&amp;t=49337fe8\" type=\"text/javascript\"></script><noscript><p>Browser does not support script.</p></noscript><script type=\"text/javascript\">\n",
      "//<![CDATA[\n",
      "Sys.WebForms.PageRequestManager._initialize('ctl00$ctl00$ScriptManager', 'form1', [], [], [], 90, 'ctl00$ctl00');\n",
      "//]]>\n",
      "</script><noscript><p>Browser does not support script.</p></noscript>\n",
      "\n",
      "\t\t\t\n",
      "    <div class=\"zn--wrapper\"><header>\n",
      "<div id=\"navbar\">\n",
      "\n",
      "    <div style=\"display: flex; justify-content: space-between; align-items: center;\">\n",
      "        <a href=\"/en/index.aspx\" title=\"University of Nottingham Ningbo China\">\n",
      "            <img class=\"logo\" alt=\"Logo of University of Nottingham\" src=\"/SiteElements/Images/2023-Revamp/Logo/UoN-Logo.jpg\" />\n",
      "        </a>\n",
      "\n",
      "    </div>\n",
      "\n",
      "<div class=\"navbar-wrapper font-title pc-only\">\n",
      "\n",
      "\n",
      "    <div class=\"up-wrapper\">\n",
      "\n",
      "      <div class=\"user-container\">\n",
      "        <a class=\"user-item nav-pc-after\" title=\"Visit the web information hub for students\" href=\"https://www.nottingham.edu.cn/en/info-hub/students.aspx\" target=\"_blank\">Students</a>\n",
      "        <a class=\"user-item nav-pc-after\" title=\"Visit the web information hub for staff\" href=\"https://www.nottingham.edu.cn/en/info-hub/staff.aspx\" target=\"_blank\">Staff</a>\n",
      "        <a class=\"user-item nav-pc-after\" title=\"Visit the alumni portal\" href=\"https://alumni.nottingham.edu.cn/en\" target=\"_blank\">Alumni</a>\n",
      "      </div>\n",
      "\n",
      "      <div class=\"split-line\"></div>\n",
      "\n",
      "        <a class=\"lang-container nav-pc-after\" href=\"/cn/humanities-and-social-sciences/schools-and-department/economics/people/listing.aspx\">\n",
      "          <div class=\"lang-name\">中文</div>\n",
      "          <img class=\"lang-icon\" alt=\"Globe shaped language sign\" src=\"/SiteElements/Images/2023-Revamp/Elements/icon-language.svg\" /> \n",
      "        </a>\n",
      "\n",
      "      <div class=\"split-line\"></div>\n",
      "\n",
      "      <div class=\"lang-switcher nav-pc-after\">\n",
      "        <div class=\"switch-name\">China</div>\n",
      "        <img class=\"switch-icon\" alt=\"Downward arrow\" src=\"/SiteElements/Images/2023-Revamp/Elements/icon-down.svg\" />\n",
      "        <div class=\"lang-switch-menu\">\n",
      "          <div class=\"lang-btn now\">China</div>\n",
      "          <a href=\"https://www.nottingham.ac.uk/\" target=\"_blank\" title=\"University of Nottingham\">\n",
      "            <div class=\"lang-btn\">UK</div>\n",
      "          </a>\n",
      "          <a href=\"https://www.nottingham.edu.my/\" target=\"_blank\" title=\"University of Nottingham Malaysia\">\n",
      "            <div class=\"lang-btn\">Malaysia</div>\n",
      "          </a>\n",
      "        </div>\n",
      "      </div>\n",
      "          \n",
      "      <div class=\"split-line\"></div>\n",
      "\n",
      "      <div class=\"search-container\">\n",
      "        <div class=\"search-wrapper\">\n",
      "          <img class=\"search-icon\" alt=\"Search\" src=\"/SiteElements/Images/2023-Revamp/Elements/icon-search.svg\" />\n",
      "          <input id=\"header-global-search-input-desktop\" class=\"search-input\" type=\"text\" placeholder=\"Search\" />\n",
      "          <img class=\"search-clear\" alt=\"Clear\" src=\"/SiteElements/Images/2023-Revamp/Elements/icon-clear.svg\" />\n",
      "        </div>\n",
      "        <div class=\"search-btn disabled\">Search</div>\n",
      "        <input class=\"search-env\" type=\"hidden\" value=\"en\"/>\n",
      "      </div>\n",
      "\n",
      "    </div>\n",
      "\n",
      "\n",
      "\n",
      "  <div class=\"down-wrapper\">\n",
      "\n",
      "    <div class=\"relative navbar-down-wrapper\">\n",
      "      <div class=\"nav-item more-btn nav-pc-after nav-more-1\">\n",
      "        <span class=\"tb-2023-revamp-main-nav-title\">Study with us</span>\n",
      "        <img class=\"down-icon\" alt=\"Downward arrow\" src=\"/SiteElements/Images/2023-Revamp/Elements/icon-down.svg\" />\n",
      "      </div>\n",
      "      <div class=\"nav-down-list font-title nav-more-1-list\">\n",
      "        <div class=\"list-content\">\n",
      "          <div class=\"title-box flex items-center justify-between\">\n",
      "            <div class=\"title\">Study with us</div>\n",
      "            <a href=\"https://www.nottingham.edu.cn/en/study-with-us/home.aspx\" title=\"Learn more about our courses, programmes and admission policy\">\n",
      "              <div class=\"right-box right-hover-box flex items-center tb-2023-revamp-main-nav-hover-box\">\n",
      "                <div>Courses &amp; Admission</div>\n",
      "                <div class=\"skip-circle flex items-center tb-2023-revamp-main-nav-hover-box\">\n",
      "                  <div class=\"img-wrapper\">\n",
      "                    <img class=\"white-skip\" alt=\"Black arrow\" src=\"/SiteElements/Images/2023-Revamp/Elements/icon-skipBlack1.svg\" />\n",
      "                    <div class=\"black-skip\">\n",
      "                      <img class=\"link-arrow\" alt=\"White arrow\" src=\"/SiteElements/Images/2023-Revamp/Elements/icon-skip.svg\" />\n",
      "                    </div>\n",
      "                  </div>\n",
      "                </div>\n",
      "              </div>\n",
      "            </a>\n",
      "          </div>\n",
      "          <div class=\"divider\"></div>\n",
      "          <div class=\"content flex justify-between\">\n",
      "            <div>\n",
      "              <div class=\"title mb-20px\">Courses &amp; Programmes</div>\n",
      "              <a class=\"nav-list-item\" href=\"https://www.nottingham.edu.cn/en/study-with-us/undergraduate/home.aspx\" title=\"Undergraduate\">Undergraduate</a>\n",
      "              <a class=\"nav-list-item\" href=\"https://www.nottingham.edu.cn/en/study-with-us/postgraduate-taught/home.aspx\" title=\"Postgraduate taught\">Postgraduate taught</a>\n",
      "              <a class=\"nav-list-item\" href=\"https://www.nottingham.edu.cn/en/study-with-us/postgraduate-research/home.aspx\" title=\"Postgraduate research\">Postgraduate research</a>\n",
      "              <a class=\"nav-list-item\" href=\"https://www.nottingham.edu.cn/en/study-with-us/training-summer-programmes.aspx\" title=\"Training &amp; Summer programmes\">Training &amp; Summer programmes</a>\n",
      "              <a class=\"nav-list-item\" href=\"https://www.nottingham.edu.cn/en/study-with-us/course-search.aspx\" title=\"Course search\">Course search</a>\n",
      "            </div>\n",
      "            <div class=\"right-box\">\n",
      "              <div class=\"title mb-20px\">Admission</div>\n",
      "              <a class=\"nav-list-item\" href=\"https://www.nottingham.edu.cn/en/study-with-us/entry-requirements.aspx\" title=\"Entry requirements\">Entry requirements</a>\n",
      "              <a class=\"nav-list-item\" href=\"https://www.nottingham.edu.cn/en/study-with-us/fees-and-scholarships.aspx\" title=\"Fees and Scholarships\">Fees and Scholarships</a>\n",
      "              <a class=\"nav-list-item\" href=\"https://www.nottingham.edu.cn/en/study-with-us/how-to-apply.aspx\" title=\"How to apply\">How to apply</a>\n",
      "              <a class=\"nav-list-item\" href=\"https://www.nottingham.edu.cn/en/study-with-us/recruitment-activities/index.aspx\" title=\"Recruitment activities\">Recruitment activities</a>\n",
      "              <a class=\"nav-list-item\" href=\"https://www.nottingham.edu.cn/en/study-with-us/make-an-enquiry.aspx\" title=\"Make an enquiry\">Make an enquiry</a>\n",
      "            </div>\n",
      "          </div>\n",
      "        </div>\n",
      "      </div>\n",
      "    </div>\n",
      "\n",
      "    <div class=\"relative navbar-down-wrapper\">\n",
      "      <div class=\"nav-item more-btn nav-pc-after nav-more-2\">\n",
      "        <span class=\"tb-2023-revamp-main-nav-title\">Research and Knowledge Exchange</span>\n",
      "        <img class=\"down-icon\" alt=\"Downward arrow\" src=\"/SiteElements/Images/2023-Revamp/Elements/icon-down.svg\" />\n",
      "      </div>\n",
      "      <div class=\"nav-down-list font-title nav-more-2-list\">\n",
      "        <div class=\"list-content\">\n",
      "          <div class=\"title-box flex items-center justify-between\">\n",
      "            <div class=\"title\">Research and Knowledge Exchange</div>\n",
      "            <a href=\"https://www.nottingham.edu.cn/en/research-and-knowledge-exchange/\" title=\"Discover our world of research, innovation and knowledge exchange\">\n",
      "              <div class=\"right-box right-hover-box flex items-center tb-2023-revamp-main-nav-hover-box\">\n",
      "                <div>Discover our research</div>\n",
      "                <div class=\"skip-circle flex items-center tb-2023-revamp-main-nav-hover-box\">\n",
      "                  <div class=\"img-wrapper\">\n",
      "                    <img class=\"white-skip\" alt=\"Black arrow\" src=\"/SiteElements/Images/2023-Revamp/Elements/icon-skipBlack1.svg\" />\n",
      "                    <div class=\"black-skip\">\n",
      "                      <img class=\"link-arrow\" alt=\"White arrow\" src=\"/SiteElements/Images/2023-Revamp/Elements/icon-skip.svg\" />\n",
      "                    </div>\n",
      "                  </div>\n",
      "                </div>\n",
      "              </div>\n",
      "            </a>\n",
      "          </div>\n",
      "          <div class=\"divider\"></div>\n",
      "          <div class=\"content flex justify-between\">\n",
      "            <div>\n",
      "              <div class=\"title mb-20px\">Research strength</div>\n",
      "              <a class=\"nav-list-item\" href=\"https://www.nottingham.edu.cn/en/research-and-knowledge-exchange/research-strength/environment.aspx\" title=\"Environment\">Environment</a>\n",
      "              <a class=\"nav-list-item\" href=\"https://www.nottingham.edu.cn/en/research-and-knowledge-exchange/research-strength/health.aspx\" title=\"Health\">Health</a>\n",
      "              <a class=\"nav-list-item\" href=\"https://www.nottingham.edu.cn/en/research-and-knowledge-exchange/research-strength/transport.aspx\" title=\"Transport\">Transport</a>\n",
      "              <a class=\"nav-list-item\" href=\"https://www.nottingham.edu.cn/en/cbi/home.aspx\" title=\"Beacons of Excellence\">Beacons of Excellence</a>\n",
      "            </div>\n",
      "            <div class=\"right-box\">\n",
      "              <div class=\"title mb-20px\">Learn more</div>\n",
      "              <a class=\"nav-list-item\" href=\"https://www.nottingham.edu.cn/en/research-and-knowledge-exchange/inspiring-people/home.aspx\" title=\"Inspiring people\">Inspiring people</a>\n",
      "              <a class=\"nav-list-item\" href=\"https://www.nottingham.edu.cn/en/research-and-knowledge-exchange/research-strength/sustainable-development/index.aspx\" title=\"Sustainable development\">Sustainable development</a>\n",
      "              <a class=\"nav-list-item\" href=\"https://www.nottingham.edu.cn/en/research-and-knowledge-exchange/research-integrity-ethics/home.aspx\" title=\"Integrity &amp; Ethics\">Integrity &amp; Ethics</a>\n",
      "              <a class=\"nav-list-item\" href=\"https://research.nottingham.edu.cn/\" title=\"Research Database\">Research Database</a>\n",
      "            </div>\n",
      "          </div>\n",
      "        </div>\n",
      "      </div>\n",
      "    </div>\n",
      "\n",
      "    <div class=\"relative navbar-down-wrapper\">\n",
      "      <div class=\"nav-item more-btn nav-pc-after nav-more-3\">\n",
      "        <span class=\"tb-2023-revamp-main-nav-title\">Global</span>\n",
      "        <img class=\"down-icon\" alt=\"Downward arrow\" src=\"/SiteElements/Images/2023-Revamp/Elements/icon-down.svg\" />\n",
      "      </div>\n",
      "      <div class=\"nav-down-list font-title nav-more-3-list\">\n",
      "        <div class=\"list-content\">\n",
      "          <div class=\"title-box flex items-center justify-between\">\n",
      "            <div class=\"title\">Global</div>\n",
      "            <a href=\"https://www.nottingham.edu.cn/en/global/\" title=\"Learn more about our global engegement, exchange and study abroad programmes\">\n",
      "              <div class=\"right-box right-hover-box flex items-center tb-2023-revamp-main-nav-hover-box\">\n",
      "                <div>Global engegement</div>\n",
      "                <div class=\"skip-circle flex items-center tb-2023-revamp-main-nav-hover-box\">\n",
      "                  <div class=\"img-wrapper\">\n",
      "                    <img class=\"white-skip\" alt=\"Black arrow\" src=\"/SiteElements/Images/2023-Revamp/Elements/icon-skipBlack1.svg\" />\n",
      "                    <div class=\"black-skip\">\n",
      "                      <img class=\"link-arrow\" alt=\"White arrow\" src=\"/SiteElements/Images/2023-Revamp/Elements/icon-skip.svg\" />\n",
      "                    </div>\n",
      "                  </div>\n",
      "                </div>\n",
      "              </div>\n",
      "            </a>\n",
      "          </div>\n",
      "          <div class=\"divider\"></div>\n",
      "          <div class=\"content flex justify-between\">\n",
      "            <div>\n",
      "              <div class=\"title mb-20px\">Exchange &amp; Study abroad</div>\n",
      "              <a class=\"nav-list-item\" href=\"https://www.nottingham.edu.cn/en/global/exchange-and-study-abroad/inbound/inbound.aspx\" title=\"For prospective students\">For prospective students</a>\n",
      "              <a class=\"nav-list-item\" href=\"https://www.nottingham.edu.cn/en/global/exchange-and-study-abroad/outbound/outbound-exchange.aspx\" title=\"For current students\">For current students</a>\n",
      "              <a class=\"nav-list-item\" href=\"https://www.nottingham.edu.cn/en/global/summer-programme/overseas-summer-programme.aspx\" title=\"Overseas Summer programme\">Overseas Summer programme</a>\n",
      "              <a class=\"nav-list-item\" href=\"https://www.nottingham.edu.cn/en/global/partnership/home.aspx\" title=\"International partners\">International partners</a>\n",
      "            </div>\n",
      "            <div class=\"right-box\">\n",
      "              <div class=\"title mb-20px\">Student Services</div>\n",
      "              <a class=\"nav-list-item\" href=\"https://www.nottingham.edu.cn/en/global/hk-macao-and-taiwan-affairs/hmto.aspx\" title=\"HK, Macao and Taiwan affairs\">HK, Macao and Taiwan affairs</a>\n",
      "              <a class=\"nav-list-item\" href=\"https://www.nottingham.edu.cn/en/global/student-support/student-support.aspx\" title=\"International student support\">International student support</a>\n",
      "              <a class=\"nav-list-item\" href=\"https://www.nottingham.edu.cn/en/global/chat-with-us/tap.aspx\" title=\"Chat with a student ambassador\">Chat with a student ambassador</a>\n",
      "              <a class=\"nav-list-item\" href=\"https://www.nottingham.edu.cn/en/global/immigration-and-visa/home.aspx\" title=\"Immigration and visa\">Immigration and visa</a>\n",
      "            </div>\n",
      "          </div>\n",
      "        </div>\n",
      "      </div>\n",
      "    </div>\n",
      "\n",
      "    <div class=\"relative navbar-down-wrapper\">\n",
      "      <div class=\"nav-item more-btn nav-pc-after nav-more-4\">\n",
      "        <span class=\"tb-2023-revamp-main-nav-title\">Schools and Departments</span>\n",
      "        <img class=\"down-icon\" alt=\"Downward arrow\" src=\"/SiteElements/Images/2023-Revamp/Elements/icon-down.svg\" />\n",
      "      </div>\n",
      "      <div class=\"nav-down-list font-title nav-more-4-list\">\n",
      "        <div class=\"list-content\">\n",
      "          <div class=\"title-box flex items-center justify-between\">\n",
      "            <div class=\"title\">Schools and Departments</div>\n",
      "            <a href=\"https://www.nottingham.edu.cn/en/schools-departments/\" title=\"Find out more about our academic faculties, schools and professional service departments\">\n",
      "              <div class=\"right-box right-hover-box flex items-center tb-2023-revamp-main-nav-hover-box\">\n",
      "                <div>Faculties and Schools</div>\n",
      "                <div class=\"skip-circle flex items-center tb-2023-revamp-main-nav-hover-box\">\n",
      "                  <div class=\"img-wrapper\">\n",
      "                    <img class=\"white-skip\" alt=\"Black arrow\" src=\"/SiteElements/Images/2023-Revamp/Elements/icon-skipBlack1.svg\" />\n",
      "                    <div class=\"black-skip\">\n",
      "                      <img class=\"link-arrow\" alt=\"White arrow\" src=\"/SiteElements/Images/2023-Revamp/Elements/icon-skip.svg\" />\n",
      "                    </div>\n",
      "                  </div>\n",
      "                </div>\n",
      "              </div>\n",
      "            </a>\n",
      "          </div>\n",
      "          <div class=\"divider\"></div>\n",
      "          <div class=\"content flex justify-between\">\n",
      "            <div>\n",
      "              <div class=\"title mb-20px\">Faculties</div>\n",
      "              <a class=\"nav-list-item\" href=\"https://www.nottingham.edu.cn/en/business/\" title=\"Nottingham University Business School China\">Nottingham University Business School China</a>\n",
      "              <a class=\"nav-list-item\" href=\"https://www.nottingham.edu.cn/en/humanities-and-social-sciences/\" title=\"Faculty of Humanities and Social Sciences\">Faculty of Humanities and Social Sciences</a>\n",
      "              <a class=\"nav-list-item\" href=\"https://www.nottingham.edu.cn/en/science-engineering/\" title=\"Faculty of Science and Engineering\">Faculty of Science and Engineering</a>\n",
      "            </div>\n",
      "            <div class=\"right-box\">\n",
      "              <div class=\"title mb-20px\">Schools &amp; Departments</div>\n",
      "              <a class=\"nav-list-item\" href=\"https://www.nottingham.edu.cn/en/cele/\" title=\"Centre for English Language Education\">Centre for English Language Education</a>\n",
      "              <a class=\"nav-list-item\" href=\"https://www.nottingham.edu.cn/en/graduateschool/\" title=\"Graduate School\">Graduate School</a>\n",
      "              <a class=\"nav-list-item\" href=\"https://www.nottingham.edu.cn/en/cbi/\" title=\"China Beacons Institute\">China Beacons Institute</a>\n",
      "              <a class=\"nav-list-item\" href=\"https://www.nottingham.edu.cn/en/schools-departments/directory.aspx#Anchor_PSD\" title=\"Professional Service Departments\">Professional Service Departments</a>\n",
      "              <a class=\"nav-list-item\" href=\"https://www.nottingham.edu.cn/en/schools-departments/directory.aspx#Anchor_RC\" title=\"Research Centres\">Research Centres</a>\n",
      "            </div>\n",
      "          </div>\n",
      "        </div>\n",
      "      </div>\n",
      "    </div>\n",
      "\n",
      "    <div class=\"relative navbar-down-wrapper\">\n",
      "      <div class=\"nav-item more-btn nav-pc-after nav-more-5\">\n",
      "        <span class=\"tb-2023-revamp-main-nav-title\">University life</span>\n",
      "        <img class=\"down-icon\" alt=\"Downward arrow\" src=\"/SiteElements/Images/2023-Revamp/Elements/icon-down.svg\" />\n",
      "      </div>\n",
      "      <div class=\"nav-down-list font-title nav-more-5-list\">\n",
      "        <div class=\"list-content\">\n",
      "          <div class=\"title-box flex items-center justify-between\">\n",
      "            <div class=\"title\">University life</div>\n",
      "            <a href=\"https://www.nottingham.edu.cn/en/university-life/home.aspx\" title=\"Find out more about our wonderful student activities, sport facilities, health and wellbeing\">\n",
      "              <div class=\"right-box right-hover-box flex items-center tb-2023-revamp-main-nav-hover-box\">\n",
      "                <div>Activities and wellbeing</div>\n",
      "                <div class=\"skip-circle flex items-center tb-2023-revamp-main-nav-hover-box\">\n",
      "                  <div class=\"img-wrapper\">\n",
      "                    <img class=\"white-skip\" alt=\"Black arrow\" src=\"/SiteElements/Images/2023-Revamp/Elements/icon-skipBlack1.svg\" />\n",
      "                    <div class=\"black-skip\">\n",
      "                      <img class=\"link-arrow\" alt=\"White arrow\" src=\"/SiteElements/Images/2023-Revamp/Elements/icon-skip.svg\" />\n",
      "                    </div>\n",
      "                  </div>\n",
      "                </div>\n",
      "              </div>\n",
      "            </a>\n",
      "          </div>\n",
      "          <div class=\"divider\"></div>\n",
      "          <div class=\"content flex justify-between\">\n",
      "            <div>\n",
      "              <div class=\"title mb-20px\"></div>\n",
      "              <a class=\"nav-list-item\" href=\"https://www.nottingham.edu.cn/en/academic-services/\" title=\"Academic Services\">Academic Services</a>\n",
      "              <a class=\"nav-list-item\" href=\"https://www.nottingham.edu.cn/en/department-of-campus-life/\" title=\"Department of Campus Life\">Department of Campus Life</a>\n",
      "              <a class=\"nav-list-item\" href=\"https://www.nottingham.edu.cn/en/the-hub/\" title=\"The Hub\">The Hub</a>\n",
      "              <a class=\"nav-list-item\" href=\"https://www.nottingham.edu.cn/en/sport/\" title=\"Sport\">Sport</a>\n",
      "              <a class=\"nav-list-item\" href=\"https://www.nottingham.edu.cn/en/health-and-wellbeing-centre/home.aspx\" title=\"Health and Wellbeing Centre\">Health and Wellbeing Centre</a>\n",
      "              <a class=\"nav-list-item\" href=\"https://www.nottingham.edu.cn/en/careers/\" title=\"Careers and Employability Service\">Careers and Employability Service</a>\n",
      "            </div>\n",
      "            <div class=\"right-box\">\n",
      "              <div class=\"title mb-20px\"></div>\n",
      "              <a class=\"nav-list-item\" href=\"https://www.nottingham.edu.cn/en/teaching-learning/home.aspx\" title=\"Teaching and learning\">Teaching and learning</a>\n",
      "              <a class=\"nav-list-item\" href=\"https://www.nottingham.edu.cn/en/personal-tutorials/\" title=\"Personal tutorials\">Personal tutorials</a>\n",
      "              <a class=\"nav-list-item\" href=\"https://www.nottingham.edu.cn/en/arts-centre/arts-centre.aspx\" title=\"Arts centre\">Arts centre</a>\n",
      "              <a class=\"nav-list-item\" href=\"https://www.nottingham.edu.cn/en/accommodation/home.aspx\" title=\"Accommodation\">Accommodation</a>\n",
      "              <a class=\"nav-list-item\" href=\"https://www.nottingham.edu.cn/en/graduation/graduation.aspx\" title=\"Graduation\">Graduation</a>\n",
      "              <a class=\"nav-list-item\" href=\"https://www.nottingham.edu.cn/en/university-life/videos/home.aspx\" title=\"Video hub\">Video hub</a>\n",
      "            </div>\n",
      "          </div>\n",
      "        </div>\n",
      "      </div>\n",
      "    </div>\n",
      "\n",
      "    <div class=\"relative navbar-down-wrapper\">\n",
      "      <div class=\"nav-item more-btn nav-pc-after nav-more-6\">\n",
      "        <span class=\"tb-2023-revamp-main-nav-title\">About</span>\n",
      "        <img class=\"down-icon\" alt=\"Downward arrow\" src=\"/SiteElements/Images/2023-Revamp/Elements/icon-down.svg\" />\n",
      "      </div>\n",
      "      <div class=\"nav-down-list font-title nav-more-6-list\">\n",
      "        <div class=\"list-content\">\n",
      "          <div class=\"title-box flex items-center justify-between\">\n",
      "            <div class=\"title\">About</div>\n",
      "            <a href=\"https://www.nottingham.edu.cn/en/about/who-we-are.aspx\" title=\"Discover more about the first Sino-foreign university to open its doors in China\">\n",
      "              <div class=\"right-box right-hover-box flex items-center tb-2023-revamp-main-nav-hover-box\">\n",
      "                <div>About the University</div>\n",
      "                <div class=\"skip-circle flex items-center tb-2023-revamp-main-nav-hover-box\">\n",
      "                  <div class=\"img-wrapper\">\n",
      "                    <img class=\"white-skip\" alt=\"Black arrow\" src=\"/SiteElements/Images/2023-Revamp/Elements/icon-skipBlack1.svg\" />\n",
      "                    <div class=\"black-skip\">\n",
      "                      <img class=\"link-arrow\" alt=\"White arrow\" src=\"/SiteElements/Images/2023-Revamp/Elements/icon-skip.svg\" />\n",
      "                    </div>\n",
      "                  </div>\n",
      "                </div>\n",
      "              </div>\n",
      "            </a>\n",
      "          </div>\n",
      "          <div class=\"divider\"></div>\n",
      "          <div class=\"content flex justify-between\">\n",
      "            <div>\n",
      "              <div class=\"title mb-20px\"></div>\n",
      "              <a class=\"nav-list-item\" href=\"https://www.nottingham.edu.cn/en/about/strategy/home.aspx\" title=\"University Strategy\">University Strategy</a>\n",
      "              <a class=\"nav-list-item\" href=\"https://www.nottingham.edu.cn/en/about/university-leadership/university-leadership.aspx\" title=\"University Leadership\">University Leadership</a>\n",
      "              <a class=\"nav-list-item\" href=\"https://www.nottingham.edu.cn/en/about/facts-and-accreditations.aspx\" title=\"Facts &amp; Accreditations\">Facts &amp; Accreditations</a>\n",
      "              <a class=\"nav-list-item\" href=\"https://www.nottingham.edu.cn/en/edi/edi-home.aspx\" title=\"Equity, Diversity and Inclusion\">Equity, Diversity and Inclusion</a>\n",
      "              <a class=\"nav-list-item\" href=\"https://www.nottingham.edu.cn/en/brand/our-brand.aspx\" title=\"Our Brand\" target=\"_blank\">Our Brand</a>\n",
      "            </div>\n",
      "            <div class=\"right-box\">\n",
      "              <div class=\"title mb-20px\"></div>\n",
      "              <a class=\"nav-list-item\" href=\"https://www.nottingham.edu.cn/en/about/strategy/home.aspx#Anchor_Plan\" title=\"Campus Development Plan\">Campus Development Plan</a>\n",
      "              <a class=\"nav-list-item\" href=\"https://www.nottingham.edu.cn/en/about/who-we-are.aspx#Anchor_Report\" title=\"Annual Quality Report\">Annual Quality Report</a>\n",
      "              <a class=\"nav-list-item\" href=\"https://www.nottingham.edu.cn/cn/information-disclosure/home.aspx\" title=\"Information Disclosure\">Information Disclosure</a>\n",
      "              <a class=\"nav-list-item\" href=\"https://www.nottingham.edu.cn/en/about/who-we-are.aspx#Anchor_360View\" title=\"360&#176; Virtual Campus Tour\">360&#176; Virtual Campus Tour</a>\n",
      "              <a class=\"nav-list-item\" href=\"https://20anniversary.nottingham.edu.cn\" title=\"Celebrating 20 Years of UNNC\">Celebrating 20 Years of UNNC</a>\n",
      "            </div>\n",
      "          </div>\n",
      "        </div>\n",
      "      </div>\n",
      "    </div>\n",
      "\n",
      "    <div class=\"relative navbar-down-wrapper\">\n",
      "      <div class=\"nav-item more-btn nav-pc-after nav-more-7\">\n",
      "        <span class=\"tb-2023-revamp-main-nav-title\">More</span>\n",
      "        <img class=\"down-icon\" alt=\"Downward arrow\" src=\"/SiteElements/Images/2023-Revamp/Elements/icon-down.svg\" />\n",
      "      </div>\n",
      "      <div class=\"nav-down-list font-title nav-more-7-list\">\n",
      "        <div class=\"list-content\">\n",
      "          <div class=\"content flex justify-between\">\n",
      "            <div class=\"flex-list\">\n",
      "              <a class=\"nav-list-item\" href=\"https://hub.nottingham.ac.uk/\" title=\"NottinghamHub\">NottinghamHub</a>\n",
      "              <a class=\"nav-list-item\" href=\"https://portal.nottingham.edu.cn/\" title=\"Staff/Student Portal\">Staff/Student Portal</a>\n",
      "              <a class=\"nav-list-item\" href=\"https://jobs.nottingham.edu.cn/\" title=\"Job Opportunities\">Job Opportunities</a>\n",
      "              <a class=\"nav-list-item\" href=\"https://www.nottingham.edu.cn/en/business-development/business-development-office.aspx\" title=\"Business Development\">Business Development</a>\n",
      "            </div>\n",
      "            <div class=\"flex-list\">\n",
      "              <a class=\"nav-list-item\" href=\"https://www.nottingham.edu.cn/en/foundation/education-foundation.aspx\" title=\"Education Foundation\">Education Foundation</a>\n",
      "              <a class=\"nav-list-item\" href=\"https://www.nottingham.edu.cn/en/about/key-dates/key-dates.aspx\" title=\"Key Dates\">Key Dates</a>\n",
      "              <a class=\"nav-list-item\" href=\"https://www.nottingham.edu.cn/en/about/open-day.aspx\" title=\"Open Days\">Open Days</a>\n",
      "              <a class=\"nav-list-item\" href=\"https://www.nottingham.edu.cn/en/about/contact-us.aspx\" title=\"Visitor Information\">Visitor Information</a>\n",
      "            </div>\n",
      "            <div class=\"flex-list\">\n",
      "              <a class=\"nav-list-item\" href=\"https://www.nottingham.edu.cn/en/library/\" title=\"Library\">Library</a>\n",
      "              <a class=\"nav-list-item\" href=\"https://www.nottingham.edu.cn/en/it-services/\" title=\"IT Services\">IT Services</a>\n",
      "              <a class=\"nav-list-item\" href=\"https://www.nottingham.edu.cn/en/estates/\" title=\"Estates\">Estates</a>\n",
      "              <a class=\"nav-list-item\" href=\"https://www.nottingham.edu.cn/en/confucius-institute/\" title=\"Confucius Institute\">Confucius Institute</a>\n",
      "            </div>\n",
      "          </div>\n",
      "        </div>\n",
      "      </div>\n",
      "    </div>\n",
      "\n",
      "  </div>\n",
      "\n",
      "</div>\n",
      "\n",
      "    <div class=\"nav-mo-icon mo-only\">\n",
      "        <img class=\"mo-icon-1\" alt=\"Search button\" src=\"/SiteElements/Images/2023-Revamp/Elements/icon-search.svg\" />\n",
      "        <div class=\"mo-nav-switch-btn\">\n",
      "            <div class=\"mo-nav-switch-fill\"></div>\n",
      "        </div>\n",
      "    </div>\n",
      "\n",
      "<div class=\"mo-nav mo-only\">\n",
      "<div class=\"mo-nav-scroll\">\n",
      "<div class=\"mo-nav-content\">\n",
      "\n",
      "    <div class=\"mo-nav-flex\">\n",
      "\n",
      "        <a class=\"mo-nav-item\" title=\"Visit the web information hub for students\" href=\"https://www.nottingham.edu.cn/en/info-hub/students.aspx\" target=\"_blank\">Students</a>\n",
      "        <a class=\"mo-nav-item\" title=\"Visit the web information hub for staff\" href=\"https://www.nottingham.edu.cn/en/info-hub/staff.aspx\" target=\"_blank\">Staff</a>\n",
      "        <a class=\"mo-nav-item\" title=\"Visit the alumni portal\" href=\"https://alumni.nottingham.edu.cn/en\" target=\"_blank\">Alumni</a>\n",
      "\n",
      "            <a class=\"lang-container\" href=\"/cn/humanities-and-social-sciences/schools-and-department/economics/people/listing.aspx\">\n",
      "                <div class=\"lang-name\">中文</div>\n",
      "                <img class=\"lang-icon\" alt=\"Language sign\" src=\"/SiteElements/Images/2023-Revamp/Elements/icon-language.svg\" /> \n",
      "            </a>\n",
      "\n",
      "        <div class=\"lang-switcher\">\n",
      "            <div class=\"switch-name\">China</div>\n",
      "            <img class=\"switch-icon\" alt=\"Downward arrow\" src=\"/SiteElements/Images/2023-Revamp/Elements/icon-down.svg\" />\n",
      "            <div class=\"lang-switch-menu\">\n",
      "                <div class=\"lang-btn now\">China</div>\n",
      "                <a href=\"https://www.nottingham.ac.uk/\" target=\"_blank\" title=\"University of Nottingham\">\n",
      "                    <div class=\"lang-btn\">UK</div>\n",
      "                </a>\n",
      "                <a href=\"https://www.nottingham.edu.my/\" target=\"_blank\" title=\"University of Nottingham Malaysia\">\n",
      "                    <div class=\"lang-btn\">Malaysia</div>\n",
      "                </a>\n",
      "            </div>\n",
      "        </div>\n",
      "\n",
      "    </div>\n",
      "\n",
      "\n",
      "\n",
      "  <div class=\"mo-nav-list\">\n",
      "\n",
      "    <div class=\"mo-nav-menu-wrapper mo-nav-menu\">\n",
      "      <div class=\"mo-nav-menu-flex mo-more-btn\">\n",
      "        <div class=\"mo-nav-menu-title font-title tb-2023-revamp-main-nav-title\">Study with us</div>\n",
      "        <img class=\"mo-nav-menu-icon\" alt=\"Downward arrow\" src=\"/SiteElements/Images/2023-Revamp/Elements/icon-down.svg\" />\n",
      "      </div>\n",
      "      <div class=\"mo-nav-menu-wrapper\">\n",
      "        <div class=\"mo-nav-menu-container\">\n",
      "          <a href=\"https://www.nottingham.edu.cn/en/study-with-us/home.aspx\" title=\"Learn more about our courses, programmes and admission policy\"><div class=\"mo-nav-menu-item\">Browse all our courses, prorgammes &amp; admission policy</div></a>\n",
      "          <div class=\"mo-nav-menu-item tb-2023-revamp-mobile-nav-subtitle\">Courses &amp; Programmes</div>\n",
      "          <a href=\"https://www.nottingham.edu.cn/en/study-with-us/undergraduate/home.aspx\" title=\"Undergraduate\"><div class=\"mo-nav-menu-item\">&nbsp;&nbsp;&nbsp;&nbsp;&nbsp;Undergraduate</div></a>\n",
      "          <a href=\"https://www.nottingham.edu.cn/en/study-with-us/postgraduate-taught/home.aspx\" title=\"Postgraduate taught\"><div class=\"mo-nav-menu-item\">&nbsp;&nbsp;&nbsp;&nbsp;&nbsp;Postgraduate taught</div></a>\n",
      "          <a href=\"https://www.nottingham.edu.cn/en/study-with-us/postgraduate-research/home.aspx\" title=\"Postgraduate research\"><div class=\"mo-nav-menu-item\">&nbsp;&nbsp;&nbsp;&nbsp;&nbsp;Postgraduate research</div></a>\n",
      "          <a href=\"https://www.nottingham.edu.cn/en/study-with-us/training-summer-programmes.aspx\" title=\"Training &amp; Summer programmes\"><div class=\"mo-nav-menu-item\">&nbsp;&nbsp;&nbsp;&nbsp;&nbsp;Training &amp; Summer programmes</div></a>\n",
      "          <a href=\"https://www.nottingham.edu.cn/en/study-with-us/course-search.aspx\" title=\"Course search\"><div class=\"mo-nav-menu-item\">&nbsp;&nbsp;&nbsp;&nbsp;&nbsp;Course search</div></a>\n",
      "          <div class=\"mo-nav-menu-item tb-2023-revamp-mobile-nav-subtitle\">Admission</div>\n",
      "          <a href=\"https://www.nottingham.edu.cn/en/study-with-us/entry-requirements.aspx\" title=\"Entry requirements\"><div class=\"mo-nav-menu-item\">&nbsp;&nbsp;&nbsp;&nbsp;&nbsp;Entry requirements</div></a>\n",
      "          <a href=\"https://www.nottingham.edu.cn/en/study-with-us/fees-and-scholarships.aspx\" title=\"Fees and Scholarships\"><div class=\"mo-nav-menu-item\">&nbsp;&nbsp;&nbsp;&nbsp;&nbsp;Fees and Scholarships</div></a>\n",
      "          <a href=\"https://www.nottingham.edu.cn/en/study-with-us/how-to-apply.aspx\" title=\"How to apply\"><div class=\"mo-nav-menu-item\">&nbsp;&nbsp;&nbsp;&nbsp;&nbsp;How to apply</div></a>\n",
      "          <a href=\"https://www.nottingham.edu.cn/en/study-with-us/recruitment-activities/index.aspx\" title=\"Recruitment activities\"><div class=\"mo-nav-menu-item\">&nbsp;&nbsp;&nbsp;&nbsp;&nbsp;Recruitment activities</div></a>\n",
      "          <a href=\"https://www.nottingham.edu.cn/en/study-with-us/make-an-enquiry.aspx\" title=\"Make an enquiry\"><div class=\"mo-nav-menu-item\">&nbsp;&nbsp;&nbsp;&nbsp;&nbsp;Make an enquiry</div></a>\n",
      "        </div>\n",
      "      </div>\n",
      "    </div>\n",
      "\n",
      "    <div class=\"mo-nav-menu-wrapper mo-nav-menu\">\n",
      "      <div class=\"mo-nav-menu-flex mo-more-btn\">\n",
      "        <div class=\"mo-nav-menu-title font-title tb-2023-revamp-main-nav-title\">Research and Knowledge Exchange</div>\n",
      "        <img class=\"mo-nav-menu-icon\" alt=\"Downward arrow\" src=\"/SiteElements/Images/2023-Revamp/Elements/icon-down.svg\" />\n",
      "      </div>\n",
      "      <div class=\"mo-nav-menu-wrapper\">\n",
      "        <div class=\"mo-nav-menu-container\">\n",
      "          <a href=\"https://www.nottingham.edu.cn/en/research-and-knowledge-exchange/\" title=\"Discover our world of research, innovation and knowledge exchange\"><div class=\"mo-nav-menu-item\">Discover our research, innovation and knowledge exchange</div></a>\n",
      "          <div class=\"mo-nav-menu-item tb-2023-revamp-mobile-nav-subtitle\">Research strength</div>\n",
      "          <a href=\"https://www.nottingham.edu.cn/en/research-and-knowledge-exchange/research-strength/environment.aspx\" title=\"Environment\"><div class=\"mo-nav-menu-item\">&nbsp;&nbsp;&nbsp;&nbsp;&nbsp;Environment</div></a>\n",
      "          <a href=\"https://www.nottingham.edu.cn/en/research-and-knowledge-exchange/research-strength/health.aspx\" title=\"Health\"><div class=\"mo-nav-menu-item\">&nbsp;&nbsp;&nbsp;&nbsp;&nbsp;Health</div></a>\n",
      "          <a href=\"https://www.nottingham.edu.cn/en/research-and-knowledge-exchange/research-strength/transport.aspx\" title=\"Transport\"><div class=\"mo-nav-menu-item\">&nbsp;&nbsp;&nbsp;&nbsp;&nbsp;Transport</div></a>\n",
      "          <a href=\"https://www.nottingham.edu.cn/en/cbi/home.aspx\" title=\"Beacons of Excellence\"><div class=\"mo-nav-menu-item\">&nbsp;&nbsp;&nbsp;&nbsp;&nbsp;Beacons of Excellence</div></a>\n",
      "          <div class=\"mo-nav-menu-item tb-2023-revamp-mobile-nav-subtitle\">Learn more</div>\n",
      "          <a href=\"https://www.nottingham.edu.cn/en/research-and-knowledge-exchange/inspiring-people/home.aspx\" title=\"Inspiring people\"><div class=\"mo-nav-menu-item\">&nbsp;&nbsp;&nbsp;&nbsp;&nbsp;Inspiring people</div></a>\n",
      "          <a href=\"https://www.nottingham.edu.cn/en/research-and-knowledge-exchange/research-strength/sustainable-development/index.aspx\" title=\"Sustainable development\"><div class=\"mo-nav-menu-item\">&nbsp;&nbsp;&nbsp;&nbsp;&nbsp;Sustainable development</div></a>\n",
      "          <a href=\"https://www.nottingham.edu.cn/en/research-and-knowledge-exchange/research-integrity-ethics/home.aspx\" title=\"Integrity &amp; Ethics\"><div class=\"mo-nav-menu-item\">&nbsp;&nbsp;&nbsp;&nbsp;&nbsp;Integrity &amp; Ethics</div></a>\n",
      "          <a href=\"https://research.nottingham.edu.cn/\" title=\"Research Database\"><div class=\"mo-nav-menu-item\">&nbsp;&nbsp;&nbsp;&nbsp;&nbsp;Research Database</div></a>\n",
      "        </div>\n",
      "      </div>\n",
      "    </div>\n",
      "\n",
      "    <div class=\"mo-nav-menu-wrapper mo-nav-menu\">\n",
      "      <div class=\"mo-nav-menu-flex mo-more-btn\">\n",
      "        <div class=\"mo-nav-menu-title font-title tb-2023-revamp-main-nav-title\">Global</div>\n",
      "        <img class=\"mo-nav-menu-icon\" alt=\"Downward arrow\" src=\"/SiteElements/Images/2023-Revamp/Elements/icon-down.svg\" />\n",
      "      </div>\n",
      "      <div class=\"mo-nav-menu-wrapper\">\n",
      "        <div class=\"mo-nav-menu-container\">\n",
      "          <a href=\"https://www.nottingham.edu.cn/en/global/\" title=\"Learn more about our global engegement, exchange and study abroad programmes\"><div class=\"mo-nav-menu-item\">Global engegement, exchange and study abroad programmes</div></a>\n",
      "          <div class=\"mo-nav-menu-item tb-2023-revamp-mobile-nav-subtitle\">Exchange &amp; Study abroad</div>\n",
      "          <a href=\"https://www.nottingham.edu.cn/en/global/exchange-and-study-abroad/inbound/inbound.aspx\" title=\"For prospective students\"><div class=\"mo-nav-menu-item\">&nbsp;&nbsp;&nbsp;&nbsp;&nbsp;For prospective students</div></a>\n",
      "          <a href=\"https://www.nottingham.edu.cn/en/global/exchange-and-study-abroad/outbound/outbound-exchange.aspx\" title=\"For current students\"><div class=\"mo-nav-menu-item\">&nbsp;&nbsp;&nbsp;&nbsp;&nbsp;For current students</div></a>\n",
      "          <a href=\"https://www.nottingham.edu.cn/en/global/summer-programme/overseas-summer-programme.aspx\" title=\"Overseas Summer programme\"><div class=\"mo-nav-menu-item\">&nbsp;&nbsp;&nbsp;&nbsp;&nbsp;Overseas Summer programme</div></a>\n",
      "          <a href=\"https://www.nottingham.edu.cn/en/global/partnership/home.aspx\" title=\"International partners\"><div class=\"mo-nav-menu-item\">&nbsp;&nbsp;&nbsp;&nbsp;&nbsp;International partners</div></a>\n",
      "          <div class=\"mo-nav-menu-item tb-2023-revamp-mobile-nav-subtitle\">Student Services</div>\n",
      "          <a href=\"https://www.nottingham.edu.cn/en/global/hk-macao-and-taiwan-affairs/hmto.aspx\" title=\"HK, Macao and Taiwan affairs\"><div class=\"mo-nav-menu-item\">&nbsp;&nbsp;&nbsp;&nbsp;&nbsp;HK, Macao and Taiwan affairs</div></a>\n",
      "          <a href=\"https://www.nottingham.edu.cn/en/global/student-support/student-support.aspx\" title=\"International student support\"><div class=\"mo-nav-menu-item\">&nbsp;&nbsp;&nbsp;&nbsp;&nbsp;International student support</div></a>\n",
      "          <a href=\"https://www.nottingham.edu.cn/en/global/chat-with-us/tap.aspx\" title=\"Chat with a student ambassador\"><div class=\"mo-nav-menu-item\">&nbsp;&nbsp;&nbsp;&nbsp;&nbsp;Chat with a student ambassador</div></a>\n",
      "          <a href=\"https://www.nottingham.edu.cn/en/global/immigration-and-visa/home.aspx\" title=\"Immigration and visa\"><div class=\"mo-nav-menu-item\">&nbsp;&nbsp;&nbsp;&nbsp;&nbsp;Immigration and visa</div></a>\n",
      "        </div>\n",
      "      </div>\n",
      "    </div>\n",
      "\n",
      "    <div class=\"mo-nav-menu-wrapper mo-nav-menu\">\n",
      "      <div class=\"mo-nav-menu-flex mo-more-btn\">\n",
      "        <div class=\"mo-nav-menu-title font-title tb-2023-revamp-main-nav-title\">Schools and Departments</div>\n",
      "        <img class=\"mo-nav-menu-icon\" alt=\"Downward arrow\" src=\"/SiteElements/Images/2023-Revamp/Elements/icon-down.svg\" />\n",
      "      </div>\n",
      "      <div class=\"mo-nav-menu-wrapper\">\n",
      "        <div class=\"mo-nav-menu-container\">\n",
      "          <a href=\"https://www.nottingham.edu.cn/en/schools-departments/\" title=\"Find out more about our academic faculties, schools and professional service departments\"><div class=\"mo-nav-menu-item\">Visit our faculties, schools and departments</div></a>\n",
      "          <div class=\"mo-nav-menu-item tb-2023-revamp-mobile-nav-subtitle\">Faculties</div>\n",
      "          <a href=\"https://www.nottingham.edu.cn/en/business/\" title=\"Nottingham University Business School China\"><div class=\"mo-nav-menu-item\">&nbsp;&nbsp;&nbsp;&nbsp;&nbsp;Nottingham University Business School China</div></a>\n",
      "          <a href=\"https://www.nottingham.edu.cn/en/humanities-and-social-sciences/\" title=\"Faculty of Humanities and Social Sciences\"><div class=\"mo-nav-menu-item\">&nbsp;&nbsp;&nbsp;&nbsp;&nbsp;Faculty of Humanities and Social Sciences</div></a>\n",
      "          <a href=\"https://www.nottingham.edu.cn/en/science-engineering/\" title=\"Faculty of Science and Engineering\"><div class=\"mo-nav-menu-item\">&nbsp;&nbsp;&nbsp;&nbsp;&nbsp;Faculty of Science and Engineering</div></a>\n",
      "          <div class=\"mo-nav-menu-item tb-2023-revamp-mobile-nav-subtitle\">Schools &amp; Departments</div>\n",
      "          <a href=\"https://www.nottingham.edu.cn/en/cele/\" title=\"Centre for English Language Education\"><div class=\"mo-nav-menu-item\">&nbsp;&nbsp;&nbsp;&nbsp;&nbsp;Centre for English Language Education</div></a>\n",
      "          <a href=\"https://www.nottingham.edu.cn/en/graduateschool/\" title=\"Graduate School\"><div class=\"mo-nav-menu-item\">&nbsp;&nbsp;&nbsp;&nbsp;&nbsp;Graduate School</div></a>\n",
      "          <a href=\"https://www.nottingham.edu.cn/en/cbi/\" title=\"China Beacons Institute\"><div class=\"mo-nav-menu-item\">&nbsp;&nbsp;&nbsp;&nbsp;&nbsp;China Beacons Institute</div></a>\n",
      "          <a href=\"https://www.nottingham.edu.cn/en/schools-departments/directory.aspx#Anchor_PSD\" title=\"Professional Service Departments\"><div class=\"mo-nav-menu-item\">&nbsp;&nbsp;&nbsp;&nbsp;&nbsp;Professional Service Departments</div></a>\n",
      "          <a href=\"https://www.nottingham.edu.cn/en/schools-departments/directory.aspx#Anchor_RC\" title=\"Research Centres\"><div class=\"mo-nav-menu-item\">&nbsp;&nbsp;&nbsp;&nbsp;&nbsp;Research Centres</div></a>\n",
      "        </div>\n",
      "      </div>\n",
      "    </div>\n",
      "\n",
      "    <div class=\"mo-nav-menu-wrapper mo-nav-menu\">\n",
      "      <div class=\"mo-nav-menu-flex mo-more-btn\">\n",
      "        <div class=\"mo-nav-menu-title font-title tb-2023-revamp-main-nav-title\">University life</div>\n",
      "        <img class=\"mo-nav-menu-icon\" alt=\"Downward arrow\" src=\"/SiteElements/Images/2023-Revamp/Elements/icon-down.svg\" />\n",
      "      </div>\n",
      "      <div class=\"mo-nav-menu-wrapper\">\n",
      "        <div class=\"mo-nav-menu-container\">\n",
      "          <a href=\"https://www.nottingham.edu.cn/en/university-life/home.aspx\" title=\"Find out more about our wonderful student activities, sport facilities, health and wellbeing\"><div class=\"mo-nav-menu-item\">Learn more about our student activities, sports, and wellbeing</div></a>\n",
      "          <a href=\"https://www.nottingham.edu.cn/en/academic-services/\" title=\"Academic Services\"><div class=\"mo-nav-menu-item\">&nbsp;&nbsp;&nbsp;&nbsp;&nbsp;Academic Services</div></a>\n",
      "          <a href=\"https://www.nottingham.edu.cn/en/department-of-campus-life/\" title=\"Department of Campus Life\"><div class=\"mo-nav-menu-item\">&nbsp;&nbsp;&nbsp;&nbsp;&nbsp;Department of Campus Life</div></a>\n",
      "          <a href=\"https://www.nottingham.edu.cn/en/the-hub/\" title=\"The Hub\"><div class=\"mo-nav-menu-item\">&nbsp;&nbsp;&nbsp;&nbsp;&nbsp;The Hub</div></a>\n",
      "          <a href=\"https://www.nottingham.edu.cn/en/sport/\" title=\"Sport\"><div class=\"mo-nav-menu-item\">&nbsp;&nbsp;&nbsp;&nbsp;&nbsp;Sport</div></a>\n",
      "          <a href=\"https://www.nottingham.edu.cn/en/health-and-wellbeing-centre/home.aspx\" title=\"Health and Wellbeing Centre\"><div class=\"mo-nav-menu-item\">&nbsp;&nbsp;&nbsp;&nbsp;&nbsp;Health and Wellbeing Centre</div></a>\n",
      "          <a href=\"https://www.nottingham.edu.cn/en/careers/\" title=\"Careers and Employability Service\"><div class=\"mo-nav-menu-item\">&nbsp;&nbsp;&nbsp;&nbsp;&nbsp;Careers and Employability Service</div></a>\n",
      "          <a href=\"https://www.nottingham.edu.cn/en/teaching-learning/home.aspx\" title=\"Teaching and learning\"><div class=\"mo-nav-menu-item\">&nbsp;&nbsp;&nbsp;&nbsp;&nbsp;Teaching and learning</div></a>\n",
      "          <a href=\"https://www.nottingham.edu.cn/en/personal-tutorials/\" title=\"Personal tutorials\"><div class=\"mo-nav-menu-item\">&nbsp;&nbsp;&nbsp;&nbsp;&nbsp;Personal tutorials</div></a>\n",
      "          <a href=\"https://www.nottingham.edu.cn/en/arts-centre/arts-centre.aspx\" title=\"Arts centre\"><div class=\"mo-nav-menu-item\">&nbsp;&nbsp;&nbsp;&nbsp;&nbsp;Arts centre</div></a>\n",
      "          <a href=\"https://www.nottingham.edu.cn/en/accommodation/home.aspx\" title=\"Accommodation\"><div class=\"mo-nav-menu-item\">&nbsp;&nbsp;&nbsp;&nbsp;&nbsp;Accommodation</div></a>\n",
      "          <a href=\"https://www.nottingham.edu.cn/en/graduation/graduation.aspx\" title=\"Graduation\"><div class=\"mo-nav-menu-item\">&nbsp;&nbsp;&nbsp;&nbsp;&nbsp;Graduation</div></a>\n",
      "          <a href=\"https://www.nottingham.edu.cn/en/university-life/videos/home.aspx\" title=\"Video hub\"><div class=\"mo-nav-menu-item\">&nbsp;&nbsp;&nbsp;&nbsp;&nbsp;Video hub</div></a>\n",
      "        </div>\n",
      "      </div>\n",
      "    </div>\n",
      "\n",
      "    <div class=\"mo-nav-menu-wrapper mo-nav-menu\">\n",
      "      <div class=\"mo-nav-menu-flex mo-more-btn\">\n",
      "        <div class=\"mo-nav-menu-title font-title tb-2023-revamp-main-nav-title\">About</div>\n",
      "        <img class=\"mo-nav-menu-icon\" alt=\"Downward arrow\" src=\"/SiteElements/Images/2023-Revamp/Elements/icon-down.svg\" />\n",
      "      </div>\n",
      "      <div class=\"mo-nav-menu-wrapper\">\n",
      "        <div class=\"mo-nav-menu-container\">\n",
      "          <a href=\"https://www.nottingham.edu.cn/en/about/who-we-are.aspx\" title=\"Discover more about the first Sino-foreign university to open its doors in China\"><div class=\"mo-nav-menu-item\">About the University</div></a>\n",
      "          <a href=\"https://www.nottingham.edu.cn/en/about/strategy/home.aspx\" title=\"University Strategy\"><div class=\"mo-nav-menu-item\">&nbsp;&nbsp;&nbsp;&nbsp;&nbsp;University Strategy</div></a>\n",
      "          <a href=\"https://www.nottingham.edu.cn/en/about/university-leadership/university-leadership.aspx\" title=\"University Leadership\"><div class=\"mo-nav-menu-item\">&nbsp;&nbsp;&nbsp;&nbsp;&nbsp;University Leadership</div></a>\n",
      "          <a href=\"https://www.nottingham.edu.cn/en/about/facts-and-accreditations.aspx\" title=\"Facts &amp; Accreditations\"><div class=\"mo-nav-menu-item\">&nbsp;&nbsp;&nbsp;&nbsp;&nbsp;Facts &amp; Accreditations</div></a>\n",
      "          <a href=\"https://www.nottingham.edu.cn/en/edi/edi-home.aspx\" title=\"Equity, Diversity and Inclusion\"><div class=\"mo-nav-menu-item\">&nbsp;&nbsp;&nbsp;&nbsp;&nbsp;Equity, Diversity and Inclusion</div></a>\n",
      "          <a href=\"https://www.nottingham.edu.cn/en/brand/our-brand.aspx\" title=\"Our Brand\"><div class=\"mo-nav-menu-item\">&nbsp;&nbsp;&nbsp;&nbsp;&nbsp;Our Brand</div></a>\n",
      "          <a href=\"https://www.nottingham.edu.cn/en/about/strategy/home.aspx#Anchor_Plan\" title=\"Campus Development Plan\"><div class=\"mo-nav-menu-item\">&nbsp;&nbsp;&nbsp;&nbsp;&nbsp;Campus Development Plan</div></a>\n",
      "          <a href=\"https://www.nottingham.edu.cn/en/about/who-we-are.aspx#Anchor_Report\" title=\"Annual Quality Report\"><div class=\"mo-nav-menu-item\">&nbsp;&nbsp;&nbsp;&nbsp;&nbsp;Annual Quality Report</div></a>\n",
      "          <a href=\"https://www.nottingham.edu.cn/cn/information-disclosure/home.aspx\" title=\"Information Disclosure\"><div class=\"mo-nav-menu-item\">&nbsp;&nbsp;&nbsp;&nbsp;&nbsp;Information Disclosure</div></a>\n",
      "          <a href=\"https://www.nottingham.edu.cn/en/about/who-we-are.aspx#Anchor_360View\" title=\"360&#176; Virtual Campus Tour\"><div class=\"mo-nav-menu-item\">&nbsp;&nbsp;&nbsp;&nbsp;&nbsp;360&#176; Virtual Campus Tour</div></a>\n",
      "          <a href=\"https://20anniversary.nottingham.edu.cn\" title=\"Celebrating 20 Years of UNNC\"><div class=\"mo-nav-menu-item\">&nbsp;&nbsp;&nbsp;&nbsp;&nbsp;Celebrating 20 Years of UNNC</div></a>\n",
      "        </div>\n",
      "      </div>\n",
      "    </div>\n",
      "\n",
      "    <div class=\"mo-nav-menu-wrapper mo-nav-menu\">\n",
      "      <div class=\"mo-nav-menu-flex mo-more-btn\">\n",
      "        <div class=\"mo-nav-menu-title font-title tb-2023-revamp-main-nav-title\">More</div>\n",
      "        <img class=\"mo-nav-menu-icon\" alt=\"Downward arrow\" src=\"/SiteElements/Images/2023-Revamp/Elements/icon-down.svg\" />\n",
      "      </div>\n",
      "      <div class=\"mo-nav-menu-wrapper\">\n",
      "        <div class=\"mo-nav-menu-container\">\n",
      "          <a href=\"https://hub.nottingham.ac.uk/\" title=\"NottinghamHub\"><div class=\"mo-nav-menu-item\">NottinghamHub</div></a>\n",
      "          <a href=\"https://portal.nottingham.edu.cn/\" title=\"Staff/Student Portal\"><div class=\"mo-nav-menu-item\">Staff/Student Portal</div></a>\n",
      "          <a href=\"https://jobs.nottingham.edu.cn/\" title=\"Job Opportunities\"><div class=\"mo-nav-menu-item\">Job Opportunities</div></a>\n",
      "          <a href=\"https://www.nottingham.edu.cn/en/business-development/business-development-office.aspx\" title=\"Business Development\"><div class=\"mo-nav-menu-item\">Business Development</div></a>\n",
      "          <a href=\"https://www.nottingham.edu.cn/en/foundation/education-foundation.aspx\" title=\"Education Foundation\"><div class=\"mo-nav-menu-item\">Education Foundation</div></a>\n",
      "          <a href=\"https://www.nottingham.edu.cn/en/about/key-dates/key-dates.aspx\" title=\"Key Dates\"><div class=\"mo-nav-menu-item\">Key Dates</div></a>\n",
      "          <a href=\"https://www.nottingham.edu.cn/en/about/open-day.aspx\" title=\"Open Days\"><div class=\"mo-nav-menu-item\">Open Days</div></a>\n",
      "          <a href=\"https://www.nottingham.edu.cn/en/about/contact-us.aspx\" title=\"Visitor Information\"><div class=\"mo-nav-menu-item\">Visitor Information</div></a>\n",
      "          <a href=\"https://www.nottingham.edu.cn/en/library/\" title=\"Library\"><div class=\"mo-nav-menu-item\">Library</div></a>\n",
      "          <a href=\"https://www.nottingham.edu.cn/en/it-services/\" title=\"IT Services\"><div class=\"mo-nav-menu-item\">IT Services</div></a>\n",
      "          <a href=\"https://www.nottingham.edu.cn/en/estates/\" title=\"Estates\"><div class=\"mo-nav-menu-item\">Estates</div></a>\n",
      "          <a href=\"https://www.nottingham.edu.cn/en/confucius-institute/\" title=\"Confucius Institute\"><div class=\"mo-nav-menu-item\">Confucius Institute</div></a>\n",
      "        </div>\n",
      "      </div>\n",
      "    </div>\n",
      "\n",
      "  </div>\n",
      "\n",
      "</div>\n",
      "</div>\n",
      "</div>\n",
      "\n",
      "    <div class=\"mo-search-wrapper mo-only\">\n",
      "        <div class=\"mo-search-container\">\n",
      "            <div class=\"mo-search-input-wrapper\">\n",
      "                <img class=\"mo-search-icon\" alt=\"Search\" src=\"/SiteElements/Images/2023-Revamp/Elements/icon-input.svg\" />\n",
      "                <input id=\"header-global-search-input-mobile\" class=\"mo-search-input\" type=\"text\" placeholder=\"Search\" />\n",
      "                <img class=\"mo-search-clear\" alt=\"Clear\" src=\"/SiteElements/Images/2023-Revamp/Elements/icon-clear.svg\" />\n",
      "            </div>\n",
      "            <div class=\"mo-search-btn disabled\">Search</div>\n",
      "            <input class=\"mo-search-env\" type=\"hidden\" value=\"en\"/>\n",
      "        </div>\n",
      "        <div class=\"mo-search-mask\"></div>\n",
      "    </div>\n",
      "\n",
      "</div>\n",
      "</header></div>\n",
      "<div id=\"main\">\n",
      "\n",
      "<div class=\"breadcrumb-wrapper\">\n",
      "<div class=\"container-fluid\">\n",
      "<div>\n",
      "\t<a title=\"Go to University of Nottingham Ningbo China from here\" class=\"sys_0 sys_t9379494\" href=\"/en/index.aspx\">University of Nottingham Ningbo China</a><a title=\"Go to Faculty of Humanities and Social Sciences from here\" class=\"sys_0 sys_t9073658\" href=\"/en/humanities-and-social-sciences/home.aspx\">Faculty of Humanities and Social Sciences</a><a title=\"Go to Schools and Department from here\" class=\"sys_0 sys_t9073658\" href=\"/en/humanities-and-social-sciences/schools-and-department/index.aspx\">Schools and Department</a><a title=\"Go to Economics from here\" class=\"sys_0 sys_t9073658\" href=\"/en/humanities-and-social-sciences/schools-and-department/economics/home.aspx\">Economics</a><span>People</span>\n",
      "</div>\n",
      "</div>\n",
      "</div>\n",
      "<section class=\"page-header\">\n",
      "<div class=\"container-fluid\">\n",
      "<div class=\"row\">\n",
      "<div class=\"col-sm-12\">\n",
      "\n",
      "\n",
      "\t\t<div class=\"mainsite-core-pagetitle\">\n",
      "\t\t\t<h1>Know our people</h1>\n",
      "\t\t</div>             \n",
      "\n",
      "\n",
      "</div>\n",
      "</div>\n",
      "</div>\n",
      "\n",
      "\n",
      "\n",
      "\n",
      "</section>\n",
      "<section>\n",
      "<div class=\"container-fluid\">\n",
      "<div class=\"row no-gutters\">\n",
      "<aside class=\"col-md-3\">\n",
      "<div class=\"side-nav\">\n",
      "<div class=\"side-nav__trigger\">\n",
      "\n",
      "\n",
      "<a href=\"#_\">Menu</a>\n",
      "</div>\n",
      "<ul class=\"sys_simpleListMenu\">\n",
      "\t<li class=\"sys_first\"><a title=\"Go to Home from here\" class=\"sys_0 sys_t9073658\" href=\"/en/humanities-and-social-sciences/home.aspx\">Home</a></li><li><a title=\"Go to Dean&#39;s welcome from here\" class=\"sys_0 sys_t9073658\" href=\"/en/humanities-and-social-sciences/deans-welcome.aspx\">Dean&#39;s welcome</a></li><li><a title=\"Go to Study with us from here\" class=\"sys_0 sys_t9073658\" href=\"/en/humanities-and-social-sciences/study-with-us/study-with-us.aspx\">Study with us</a></li><li><div class=\"sys_selected\">\n",
      "\t\t<a title=\"Go to Schools and Department from here\" class=\"sys_0 sys_t9073658\" href=\"/en/humanities-and-social-sciences/schools-and-department/index.aspx\">Schools and Department</a>\n",
      "\t</div><ul class=\"sys_children\">\n",
      "\t\t<li class=\"sys_first\"><div class=\"sys_selected\">\n",
      "\t\t\t<a title=\"Go to Economics from here\" class=\"sys_0 sys_t9073658\" href=\"/en/humanities-and-social-sciences/schools-and-department/economics/home.aspx\">Economics</a>\n",
      "\t\t</div><ul class=\"sys_children\">\n",
      "\t\t\t<li class=\"sys_first\"><a title=\"Go to About us from here\" class=\"sys_0 sys_t9073658\" href=\"/en/humanities-and-social-sciences/schools-and-department/economics/about-us.aspx\">About us</a></li><li><a title=\"Go to Study with us from here\" class=\"sys_0 sys_t9073658\" href=\"/en/humanities-and-social-sciences/schools-and-department/economics/study-with-us/study-with-us-new.aspx\">Study with us</a></li><li><a title=\"Go to Research from here\" class=\"sys_0 sys_t9073658\" href=\"/en/humanities-and-social-sciences/schools-and-department/economics/research/home.aspx\">Research</a></li><li class=\"sys_last\"><div class=\"sys_selected sys_currentitem\">\n",
      "\t\t\t\t<a title=\"Go to People from here\" class=\"sys_0 sys_t9073658\" href=\"/en/humanities-and-social-sciences/schools-and-department/economics/people/listing.aspx\">People</a>\n",
      "\t\t\t</div></li>\n",
      "\t\t</ul></li><li><a title=\"Go to Education and English from here\" class=\"sys_0 sys_t9073658\" href=\"/en/humanities-and-social-sciences/schools-and-department/education-and-english/home.aspx\">Education and English</a></li><li><a title=\"Go to International Communications from here\" class=\"sys_0 sys_t9073658\" href=\"/en/humanities-and-social-sciences/schools-and-department/international-communications/home.aspx\">International Communications</a></li><li><a title=\"Go to International Studies from here\" class=\"sys_0 sys_t9073658\" href=\"/en/humanities-and-social-sciences/schools-and-department/international-studies/home.aspx\">International Studies</a></li><li class=\"sys_last\"><a title=\"Go to Language Centre from here\" class=\"sys_0 sys_t9073658\" href=\"/en/humanities-and-social-sciences/schools-and-department/language-centre/home.aspx\">Language Centre</a></li>\n",
      "\t</ul></li><li><a title=\"Go to Executive Board from here\" class=\"sys_0 sys_t9073658\" href=\"/en/humanities-and-social-sciences/executive-board.aspx\">Executive Board</a></li><li><a title=\"Go to Research from here\" class=\"sys_0 sys_t9073658\" href=\"/en/humanities-and-social-sciences/research/research.aspx\">Research</a></li><li><a title=\"Go to Life-long Learning Project from here\" class=\"sys_0 sys_t9073658\" href=\"/en/humanities-and-social-sciences/life-long-learning-project.aspx\">Life-long Learning Project</a></li><li><a title=\"Go to People from here\" class=\"sys_0 sys_t9073658\" href=\"/en/humanities-and-social-sciences/people/index.aspx\">People</a></li><li><a title=\"Go to News from here\" class=\"sys_0 sys_t9073658\" href=\"/en/humanities-and-social-sciences/news/listing.aspx\">News</a></li><li><a title=\"Go to Videos from here\" class=\"sys_0 sys_t9107546\" href=\"/en/humanities-and-social-sciences/videos/home.aspx\">Videos</a></li><li class=\"sys_last\"><a title=\"Go to Podcasts from here\" class=\"sys_0 sys_t9073658\" href=\"/en/humanities-and-social-sciences/podcasts/podcasts.aspx\">Podcasts</a></li>\n",
      "</ul>\n",
      "</div>\n",
      "</aside>\n",
      "<article class=\"col-md-8 offset-md-1 article-body userContent\">\n",
      "\n",
      "\n",
      "\n",
      "\n",
      "\n",
      "\n",
      "   <style>\n",
      "    .article-listing__content--keyline span:not(:last-of-type):after {\n",
      "        content: \",\";\n",
      "    }\n",
      "    .jobTitle {\n",
      "        font-size: 0.875rem;\n",
      "        line-height: 100%;\n",
      "        margin: 0 0 0.9375rem 0;\n",
      "        color: #007ca7;\n",
      "    }\n",
      "    </style>\n",
      "<ul class=\"article-listing\" style=\"margin: 0px 0px 35px 0px;\">\n",
      "    <li class=\"article-listing__item\">\n",
      "        <div class=\"article-listing__image\">\n",
      "                <img src=\"/image-library/Staff-Profile/FHSS/Economics/Sarah-Cook-500x500.xeebf259b.jpg\" alt=\"Staff profile thumbnail image\">\n",
      "        </div>\n",
      "        <div class=\"article-listing__content\" style=\"margin-top: -3%;\">\n",
      "            <p class=\"article-listing__content--keyline\">Economics / Faculty of Humanities and Social Sciences</p>\n",
      "            <h2 class=\"article-listing__content--title\">\n",
      "                    <a href=\"/en/Humanities-and-Social-Sciences/People/Profile.aspx?id=b6197614-123e-455c-8367-bae4fbd47765&language=en-GB\" title=\"View the staff profile of Professor Sarah Cook\" target=\"_blank\">Professor Sarah Cook</a>\n",
      "            </h2>\n",
      "            <p class=\"jobTitle\">Head of School of Economics, Professor in Economics</p>\n",
      "        </div>\n",
      "        <div class=\"article-listing__spacer\"></div>\n",
      "    </li>\n",
      "    <li class=\"article-listing__item\">\n",
      "        <div class=\"article-listing__image\">\n",
      "                <img src=\"/image-library/Staff-Profile/FHSS/Economics/Zhuo-Chen.x6f7654ba.jpg\" alt=\"Staff profile thumbnail image\">\n",
      "        </div>\n",
      "        <div class=\"article-listing__content\" style=\"margin-top: -3%;\">\n",
      "            <p class=\"article-listing__content--keyline\">Economics / Faculty of Humanities and Social Sciences</p>\n",
      "            <h2 class=\"article-listing__content--title\">\n",
      "                    <a href=\"/en/Humanities-and-Social-Sciences/People/Profile.aspx?id=3e9eda83-af1b-47de-be4d-477df017a32f&language=en-GB\" title=\"View the staff profile of Professor Zhuo (Adam) Chen\" target=\"_blank\">Professor Zhuo (Adam) Chen</a>\n",
      "            </h2>\n",
      "            <p class=\"jobTitle\">Chair Professor in Health Economics</p>\n",
      "        </div>\n",
      "        <div class=\"article-listing__spacer\"></div>\n",
      "    </li>\n",
      "    <li class=\"article-listing__item\">\n",
      "        <div class=\"article-listing__image\">\n",
      "                <img src=\"/image-library/Staff-Profile/FHSS/Economics/Vladimir-Brusic-500x500.x49195f67.jpg\" alt=\"Staff profile thumbnail image\">\n",
      "        </div>\n",
      "        <div class=\"article-listing__content\" style=\"margin-top: -3%;\">\n",
      "            <p class=\"article-listing__content--keyline\">Economics / Faculty of Humanities and Social Sciences</p>\n",
      "            <h2 class=\"article-listing__content--title\">\n",
      "                    <a href=\"/en/Humanities-and-Social-Sciences/People/Profile.aspx?id=6dacb624-2867-4039-8b87-fffad430fa7a&language=en-GB\" title=\"View the staff profile of Professor Vladimir Brusic \" target=\"_blank\">Professor Vladimir Brusic </a>\n",
      "            </h2>\n",
      "            <p class=\"jobTitle\">Professor in Computing and Data Science</p>\n",
      "        </div>\n",
      "        <div class=\"article-listing__spacer\"></div>\n",
      "    </li>\n",
      "    <li class=\"article-listing__item\">\n",
      "        <div class=\"article-listing__image\">\n",
      "                <img src=\"/image-library/Staff-Profile/FHSS/Economics/Paolo-jpg.xdf67a651.jpg?crop=313,425,326,0\" alt=\"Staff profile thumbnail image\">\n",
      "        </div>\n",
      "        <div class=\"article-listing__content\" style=\"margin-top: -3%;\">\n",
      "            <p class=\"article-listing__content--keyline\">Economics / Faculty of Humanities and Social Sciences</p>\n",
      "            <h2 class=\"article-listing__content--title\">\n",
      "                    <a href=\"/en/Humanities-and-Social-Sciences/People/Profile.aspx?id=0aae2a52-9891-4647-9198-d25babfecc43&language=en-GB\" title=\"View the staff profile of Professor Paolo Epifani\" target=\"_blank\">Professor Paolo Epifani</a>\n",
      "            </h2>\n",
      "            <p class=\"jobTitle\">Professor of International Economics, GEP China coordinator</p>\n",
      "        </div>\n",
      "        <div class=\"article-listing__spacer\"></div>\n",
      "    </li>\n",
      "    <li class=\"article-listing__item\">\n",
      "        <div class=\"article-listing__image\">\n",
      "                <img src=\"/image-library/Staff-Profile/FHSS/Economics/Chang20Liu20-2-jpg.xda4e08d2.jpg?crop=282,402,177,24\" alt=\"Staff profile thumbnail image\">\n",
      "        </div>\n",
      "        <div class=\"article-listing__content\" style=\"margin-top: -3%;\">\n",
      "            <p class=\"article-listing__content--keyline\">Economics / Faculty of Humanities and Social Sciences</p>\n",
      "            <h2 class=\"article-listing__content--title\">\n",
      "                    <a href=\"/en/Humanities-and-Social-Sciences/People/Profile.aspx?id=a879742f-71ce-4bb3-bfc9-1a949fa7e40a&language=en-GB\" title=\"View the staff profile of Professor Chang Liu\" target=\"_blank\">Professor Chang Liu</a>\n",
      "            </h2>\n",
      "            <p class=\"jobTitle\">Professor in International Economics</p>\n",
      "        </div>\n",
      "        <div class=\"article-listing__spacer\"></div>\n",
      "    </li>\n",
      "    <li class=\"article-listing__item\">\n",
      "        <div class=\"article-listing__image\">\n",
      "                <img src=\"/image-library/Staff-Profile/FHSS/Economics/Shravan-Luckraz-500x500.x42bd1dff.jpg\" alt=\"Staff profile thumbnail image\">\n",
      "        </div>\n",
      "        <div class=\"article-listing__content\" style=\"margin-top: -3%;\">\n",
      "            <p class=\"article-listing__content--keyline\">Economics / Faculty of Humanities and Social Sciences</p>\n",
      "            <h2 class=\"article-listing__content--title\">\n",
      "                    <a href=\"/en/Humanities-and-Social-Sciences/People/Profile.aspx?id=b46ceac3-5ff1-4217-90eb-144b912ed4c3&language=en-GB\" title=\"View the staff profile of Professor Shravan Luckraz\" target=\"_blank\">Professor Shravan Luckraz</a>\n",
      "            </h2>\n",
      "            <p class=\"jobTitle\">Professor in Economics</p>\n",
      "        </div>\n",
      "        <div class=\"article-listing__spacer\"></div>\n",
      "    </li>\n",
      "    <li class=\"article-listing__item\">\n",
      "        <div class=\"article-listing__image\">\n",
      "                <img src=\"/image-library/Staff-Profile/FHSS/Economics/Chew-Chua-2.x0cb4b324.jpg?crop=337,533,221,0\" alt=\"Staff profile thumbnail image\">\n",
      "        </div>\n",
      "        <div class=\"article-listing__content\" style=\"margin-top: -3%;\">\n",
      "            <p class=\"article-listing__content--keyline\">Economics / Faculty of Humanities and Social Sciences</p>\n",
      "            <h2 class=\"article-listing__content--title\">\n",
      "                    <a href=\"/en/Humanities-and-Social-Sciences/People/Profile.aspx?id=2f605c6a-7f51-43c9-ba54-5762939ebd26&language=en-GB\" title=\"View the staff profile of Dr Chew Lian Chua (Michael)\" target=\"_blank\">Dr Chew Lian Chua (Michael)</a>\n",
      "            </h2>\n",
      "            <p class=\"jobTitle\">Associate Professor in Economics</p>\n",
      "        </div>\n",
      "        <div class=\"article-listing__spacer\"></div>\n",
      "    </li>\n",
      "    <li class=\"article-listing__item\">\n",
      "        <div class=\"article-listing__image\">\n",
      "                <img src=\"/image-library/Staff-Profile/FHSS/Economics/Zhenjiang-Lin.xf5f1089c.jpg\" alt=\"Staff profile thumbnail image\">\n",
      "        </div>\n",
      "        <div class=\"article-listing__content\" style=\"margin-top: -3%;\">\n",
      "            <p class=\"article-listing__content--keyline\">Economics / Faculty of Humanities and Social Sciences</p>\n",
      "            <h2 class=\"article-listing__content--title\">\n",
      "                    <a href=\"/en/Humanities-and-Social-Sciences/People/Profile.aspx?id=427c3e1e-7c09-42d1-bb04-4f3e8317f174&language=en-GB\" title=\"View the staff profile of Dr Zhenjiang Lin\" target=\"_blank\">Dr Zhenjiang Lin</a>\n",
      "            </h2>\n",
      "            <p class=\"jobTitle\">Associate Professor in Economics</p>\n",
      "        </div>\n",
      "        <div class=\"article-listing__spacer\"></div>\n",
      "    </li>\n",
      "    <li class=\"article-listing__item\">\n",
      "        <div class=\"article-listing__image\">\n",
      "                <img src=\"/image-library/Staff-Profile/FHSS/Economics/Stuart-McDonald-500x500.x155dcdaa.jpg\" alt=\"Staff profile thumbnail image\">\n",
      "        </div>\n",
      "        <div class=\"article-listing__content\" style=\"margin-top: -3%;\">\n",
      "            <p class=\"article-listing__content--keyline\">Economics / Faculty of Humanities and Social Sciences</p>\n",
      "            <h2 class=\"article-listing__content--title\">\n",
      "                    <a href=\"/en/Humanities-and-Social-Sciences/People/Profile.aspx?id=f6a70132-e131-4cfe-9c64-7e6dab469d28&language=en-GB\" title=\"View the staff profile of Dr Stuart McDonald\" target=\"_blank\">Dr Stuart McDonald</a>\n",
      "            </h2>\n",
      "            <p class=\"jobTitle\">Associate Professor in Economics</p>\n",
      "        </div>\n",
      "        <div class=\"article-listing__spacer\"></div>\n",
      "    </li>\n",
      "    <li class=\"article-listing__item\">\n",
      "        <div class=\"article-listing__image\">\n",
      "                <img src=\"/image-library/Staff-Profile/FHSS/Economics/Qian-Wang-500x500.x03822feb.jpg\" alt=\"Staff profile thumbnail image\">\n",
      "        </div>\n",
      "        <div class=\"article-listing__content\" style=\"margin-top: -3%;\">\n",
      "            <p class=\"article-listing__content--keyline\">Economics / Faculty of Humanities and Social Sciences</p>\n",
      "            <h2 class=\"article-listing__content--title\">\n",
      "                    <a href=\"/en/Humanities-and-Social-Sciences/People/Profile.aspx?id=72f790e7-fafd-4203-bc3b-14518c0a9725&language=en-GB\" title=\"View the staff profile of Dr Qian Wang\" target=\"_blank\">Dr Qian Wang</a>\n",
      "            </h2>\n",
      "            <p class=\"jobTitle\">Associate Professor in Economics</p>\n",
      "        </div>\n",
      "        <div class=\"article-listing__spacer\"></div>\n",
      "    </li>\n",
      "</ul>\n",
      "\n",
      "\t\t<div class=\"sys_flickrpager\">\n",
      "\t\t    <div class=\"sys_navigation\">\n",
      "                \n",
      "                    <div>\n",
      "                    <span class=\"sys_page sys_selected\">\n",
      "                    1 / 3\n",
      "                    </span>\n",
      "                    <span class=\"sys_page\">\n",
      "                            <a title=\"go to page 2\" href=\"?STFPageIndex=2\">&#8674</a>\n",
      "                    </span>\n",
      "                    </div>\n",
      "                 \n",
      "\t\t    </div>\n",
      "\t\t</div>\n",
      "\t\t<br />\n",
      "\n",
      "\n",
      "</article>\n",
      "</div>\n",
      "</div>\n",
      "</section>\n",
      "\n",
      "</div>\n",
      "<div class=\"zn--wrapper\"><footer id=\"footer\">\n",
      "\n",
      "  <div class=\"pc-footer pc-only\">\n",
      "\n",
      "    <div class=\"footer-flex-wrapper\">\n",
      "\n",
      "      <div class=\"footer-column-1\">\n",
      "        <div class=\"footer-sub-title\">Get in touch</div>\n",
      "        <div class=\"footer-sub-list\">\n",
      "          <div class=\"footer-sub-item hover-link\"><a href=\"tel:+86574-8818-0000\" title=\"Call us by phone\">T. +86 (0)574 8818 0000</a></div>\n",
      "          <div class=\"footer-sub-item\">University of Nottingham Ningbo China<br/>199 Taikang East Road, Ningbo, China<br/>Postcode: 315100</div>\n",
      "        </div>\n",
      "        <a href=\"https://www.google.com/maps/dir/Current+Location/199+Taikang+East+Road,+Yinzhou,+Ningbo,+Zhejiang,+China\" title=\"Directions on Google Maps\" target=\"_blank\">\n",
      "          <div class=\"footer-map-nav\">\n",
      "            <div class=\"footer-sub-title\">Directions</div>\n",
      "            <img class=\"map-nav-icon\" alt=\"Directions arrow\" src=\"/SiteElements/Images/2023-Revamp/Elements/icon-skip.svg\" />\n",
      "          </div>\n",
      "        </a>\n",
      "      </div>\n",
      "\n",
      "      <div class=\"footer-column-2\">\n",
      "        <div class=\"footer-sub-title\">Quick links</div>\n",
      "        <div class=\"footer-sub-list\">\n",
      "          <div class=\"flex-list\">\n",
      "            <div class=\"footer-sub-item hover-link\"><a href=\"https://hub.nottingham.ac.uk/\" title=\"NottinghamHub\">NottinghamHub</a></div>\n",
      "            <div class=\"footer-sub-item hover-link\"><a href=\"https://portal.nottingham.edu.cn/\" title=\"Staff/Student Portal\">Staff/Student Portal</a></div>\n",
      "            <div class=\"footer-sub-item hover-link\"><a href=\"https://jobs.nottingham.edu.cn/\" title=\"Job Opportunities\">Job Opportunities</a></div>\n",
      "            <div class=\"footer-sub-item hover-link\"><a href=\"https://www.nottingham.edu.cn/en/business-development/business-development-office.aspx\" title=\"Business Development\">Business Development</a></div>\n",
      "          </div>\n",
      "          <div class=\"flex-list\">\n",
      "            <div class=\"footer-sub-item hover-link\"><a href=\"https://www.nottingham.edu.cn/en/foundation/education-foundation.aspx\" title=\"Education Foundation\">Education Foundation</a></div>\n",
      "            <div class=\"footer-sub-item hover-link\"><a href=\"https://www.nottingham.edu.cn/en/about/key-dates/key-dates.aspx\" title=\"Key Dates\">Key Dates</a></div>\n",
      "            <div class=\"footer-sub-item hover-link\"><a href=\"https://www.nottingham.edu.cn/en/about/open-day.aspx\" title=\"Open Days\">Open Days</a></div>\n",
      "            <div class=\"footer-sub-item hover-link\"><a href=\"https://www.nottingham.edu.cn/en/about/contact-us.aspx\" title=\"Visitor Information\">Visitor Information</a></div>\n",
      "          </div>\n",
      "        </div>\n",
      "      </div>\n",
      "\n",
      "      <div class=\"footer-column-3\">\n",
      "        <div class=\"footer-sub-title\">Social media</div>\n",
      "        <div class=\"footer-media-wrapper\">\n",
      "          <a class=\"media-icon\" href=\"https://www.facebook.com/unnchome\" title=\"Facebook\" target=\"_blank\">\n",
      "            <img alt=\"Facebook icon\" src=\"/SiteElements/Images/2023-Revamp/Social/social-facebook.svg\" />\n",
      "          </a>\n",
      "          <a class=\"media-icon\" href=\"https://twitter.com/UNNCHome\" title=\"X\" target=\"_blank\">\n",
      "            <img alt=\"X icon\" src=\"/SiteElements/Images/2023-Revamp/Social/social-twitter.svg\" />\n",
      "          </a>\n",
      "          <a class=\"media-icon\" href=\"https://www.youtube.com/channel/UCrEUNGZSXI28C9LJWXaNhNA\" title=\"YouTube\" target=\"_blank\">\n",
      "            <img alt=\"YouTube icon\" src=\"/SiteElements/Images/2023-Revamp/Social/social-youtube.svg\" />\n",
      "          </a>\n",
      "          <a class=\"media-icon\" href=\"https://www.linkedin.com/school/university-of-nottingham-ningbo-china/\" title=\"LinkedIn\" target=\"_blank\">\n",
      "            <img alt=\"LinkedIn icon\" src=\"/SiteElements/Images/2023-Revamp/Social/social-linkedin.svg\" />\n",
      "          </a>\n",
      "          <a class=\"media-icon\" href=\"https://www.instagram.com/unnchome\" title=\"Instagram\" target=\"_blank\">\n",
      "            <img alt=\"Instagram icon\" src=\"/SiteElements/Images/2023-Revamp/Social/social-instagram.svg\" />\n",
      "          </a>\n",
      "          <a class=\"media-icon\" href=\"https://weibo.com/unncweibo\" title=\"Weibo\" target=\"_blank\">\n",
      "            <img alt=\"Weibo icon\" src=\"/SiteElements/Images/2023-Revamp/Social/social-weibo.svg\" />\n",
      "          </a>\n",
      "          <a class=\"media-icon\" href=\"https://www.nottingham.edu.cn/en/utilities/qrcodes/official-public-wechat-account.aspx\" title=\"WeChat\" target=\"_blank\">\n",
      "            <img alt=\"WeChat icon\" src=\"/SiteElements/Images/2023-Revamp/Social/social-wechat.svg\" />\n",
      "          </a>\n",
      "          <a class=\"media-icon\" href=\"https://space.bilibili.com/514346312\" title=\"Bilibili\" target=\"_blank\">\n",
      "            <img alt=\"Bilibili icon\" src=\"/SiteElements/Images/2023-Revamp/Social/social-bilibili.svg\" />\n",
      "          </a>\n",
      "          <a class=\"media-icon\" href=\"https://www.zhihu.com/org/zhu-bo-nuo-ding-yi-da-xue-23\" title=\"Zhihu\" target=\"_blank\">\n",
      "            <img alt=\"Zhihu icon\" src=\"/SiteElements/Images/2023-Revamp/Social/social-zhihu.svg\" />\n",
      "          </a>\n",
      "          <a class=\"media-icon\" href=\"https://www.nottingham.edu.cn/en/utilities/qrcodes/official-public-douyin-account.aspx\" title=\"Douyin\" target=\"_blank\">\n",
      "            <img alt=\"Douyin icon\" src=\"/SiteElements/Images/2023-Revamp/Social/social-douyin.svg\" />\n",
      "          </a>\n",
      "          <a class=\"media-icon\" href=\"https://www.nottingham.edu.cn/en/utilities/qrcodes/official-public-channels-account.aspx\" title=\"Channels\" target=\"_blank\">\n",
      "            <img alt=\"Channels icon\" src=\"/SiteElements/Images/2023-Revamp/Social/social-channels.svg\" />\n",
      "          </a>\n",
      "        </div>\n",
      "      </div>\n",
      "        \n",
      "      <div class=\"footer-column-4\">\n",
      "        <a href=\"https://www.nottingham.edu.cn/en/info-hub/students.aspx\" title=\"Visit the web information hub for students\" target=\"_blank\">\n",
      "          <div class=\"footer-link-wrapper link-hover-wrapper\">\n",
      "            <div class=\"link-text\">Students</div>\n",
      "            <div class=\"link-btn-wrapper\">\n",
      "              <img class=\"link-arrow\" alt=\"Blue arrow\" src=\"/SiteElements/Images/2023-Revamp/Elements/icon-linkArrow.svg\" />\n",
      "            </div>\n",
      "          </div>\n",
      "        </a>\n",
      "        <a href=\"https://www.nottingham.edu.cn/en/info-hub/staff.aspx\" title=\"Visit the web information hub for staff\" target=\"_blank\">\n",
      "          <div class=\"footer-link-wrapper link-hover-wrapper\">\n",
      "            <div class=\"link-text\">Staff</div>\n",
      "            <div class=\"link-btn-wrapper\">\n",
      "              <img class=\"link-arrow\" alt=\"Blue arrow\" src=\"/SiteElements/Images/2023-Revamp/Elements/icon-linkArrow.svg\" />\n",
      "            </div>\n",
      "          </div>\n",
      "        </a>\n",
      "        <a href=\"https://alumni.nottingham.edu.cn/en\" title=\"Visit the alumni portal\" target=\"_blank\">\n",
      "          <div class=\"footer-link-wrapper link-hover-wrapper\">\n",
      "            <div class=\"link-text\">Alumni</div>\n",
      "            <div class=\"link-btn-wrapper\">\n",
      "              <img class=\"link-arrow\" alt=\"Blue arrow\" src=\"/SiteElements/Images/2023-Revamp/Elements/icon-linkArrow.svg\" />\n",
      "            </div>\n",
      "          </div>\n",
      "        </a>\n",
      "      </div>\n",
      "\n",
      "    </div>\n",
      "\n",
      "    <div class=\"footer-split-line\"></div>\n",
      "\n",
      "    <div class=\"footer-copyright-wrapper\">\n",
      "      <div class=\"copyright-text\">Copyright &#169; 2004-2025 University of Nottingham Ningbo China</div>\n",
      "      <div class=\"copyright-text hover-link\"><a href=\"https://www.nottingham.edu.cn/en/usage/copyright.aspx\" title=\"Copyright\" target=\"_blank\">Copyright</a></div>\n",
      "      <div class=\"copyright-text hover-link\"><a href=\"https://www.nottingham.edu.cn/en/usage/privacy.aspx\" title=\"Privacy Statement\" target=\"_blank\">Privacy Statement</a></div>\n",
      "      <div class=\"copyright-text hover-link\"><a href=\"https://www.nottingham.edu.cn/en/usage/website-terms-of-use.aspx\" title=\"Website Terms of Use\" target=\"_blank\">Website Terms of Use</a></div>\n",
      "      <div class=\"copyright-content-wrapper\">\n",
      "        <div class=\"copyright-text hover-link\">\n",
      "          <a href=\"https://beian.miit.gov.cn\" title=\"工信部域名信息备案管理系统\" target=\"_blank\">浙ICP备12026790号</a>\n",
      "        </div>\n",
      "        <a class=\"record-link\" href=\"https://beian.mps.gov.cn/#/query/webSearch?code=33021202001714\" title=\"全国互联网安全管理服务平台\" rel=\"noreferrer\" target=\"_blank\">\n",
      "          <div class=\"flex items-center\">\n",
      "            <img class=\"beian\" alt=\"全国互联网安全管理服务平台备案标识\" src=\"/SiteElements/Images/beian/beian.png\" />\n",
      "            <div class=\"copyright-text\">浙公网安备33021202001714号</div>\n",
      "          </div>\n",
      "        </a>\n",
      "        <div class=\"flex items-center\">\n",
      "          <img class=\"uni\" alt=\"Accreditation image\" src=\"/SiteElements/Images/Core/temp-placeholder/accredit-1.png\" />\n",
      "          <img class=\"acc\" alt=\"Accreditation image\" src=\"/SiteElements/Images/Core/temp-placeholder/accredit-2.png\" />\n",
      "          <img class=\"jyt\" alt=\"Accreditation image\" src=\"/SiteElements/Images/Core/temp-placeholder/accredit-3-alt.png\" />\n",
      "        </div>\n",
      "      </div>\n",
      "    </div>\n",
      "\n",
      "  </div>\n",
      "\n",
      "\n",
      "  <div class=\"mo-footer mo-only\">\n",
      "    \n",
      "    <div class=\"footer-column-1\">\n",
      "      <div class=\"footer-sub-title\">Get in touch</div>\n",
      "      <div class=\"footer-sub-list\">\n",
      "        <div class=\"footer-sub-item hover-link\"><a href=\"tel:+86574-8818-0000\" title=\"Call us by phone\">T. +86 (0)574 8818 0000</a></div>\n",
      "        <div class=\"footer-sub-item\">University of Nottingham Ningbo China<br/>199 Taikang East Road, Ningbo, China<br/>Postcode: 315100</div>\n",
      "      </div>\n",
      "      <a href=\"https://www.google.com/maps/dir/Current+Location/199+Taikang+East+Road,+Yinzhou,+Ningbo,+Zhejiang,+China\" title=\"Directions on Google Maps\" target=\"_blank\">\n",
      "        <div class=\"footer-map-nav\">\n",
      "          <div class=\"footer-sub-title\">Directions</div>\n",
      "          <img class=\"map-nav-icon\" alt=\"Directions arrow\" src=\"/SiteElements/Images/2023-Revamp/Elements/icon-skip.svg\" />\n",
      "        </div>\n",
      "      </a>\n",
      "    </div>\n",
      "\n",
      "    <div class=\"footer-column-2\">\n",
      "      <a href=\"https://www.nottingham.edu.cn/en/info-hub/students.aspx\" title=\"Visit the web information hub for students\" target=\"_blank\">\n",
      "        <div class=\"footer-link-wrapper\">\n",
      "          <div class=\"link-text\">Students</div>\n",
      "          <img class=\"link-icon\" alt=\"Blue arrow\" src=\"/SiteElements/Images/2023-Revamp/Elements/icon-linkButton.svg\" />\n",
      "        </div>\n",
      "      </a>\n",
      "      <a href=\"https://www.nottingham.edu.cn/en/info-hub/staff.aspx\" title=\"Visit the web information hub for staff\" target=\"_blank\">\n",
      "        <div class=\"footer-link-wrapper\">\n",
      "          <div class=\"link-text\">Staff</div>\n",
      "          <img class=\"link-icon\" alt=\"Blue arrow\" src=\"/SiteElements/Images/2023-Revamp/Elements/icon-linkButton.svg\" />\n",
      "        </div>\n",
      "      </a>\n",
      "      <a href=\"https://alumni.nottingham.edu.cn/en\" title=\"Visit the alumni portal\" target=\"_blank\">\n",
      "        <div class=\"footer-link-wrapper\">\n",
      "          <div class=\"link-text\">Alumni</div>\n",
      "          <img class=\"link-icon\" alt=\"Blue arrow\" src=\"/SiteElements/Images/2023-Revamp/Elements/icon-linkButton.svg\" />\n",
      "        </div>\n",
      "      </a>\n",
      "    </div>\n",
      "\n",
      "    <div class=\"footer-column-3\">\n",
      "      <div class=\"footer-sub-title\">Quick links</div>\n",
      "      <div class=\"footer-sub-list\">\n",
      "        <a href=\"https://hub.nottingham.ac.uk/\" title=\"NottinghamHub\">\n",
      "          <div class=\"footer-sub-item\">NottinghamHub</div>\n",
      "        </a>\n",
      "        <a href=\"https://portal.nottingham.edu.cn/\" title=\"Staff/Student Portal\">\n",
      "          <div class=\"footer-sub-item\">Staff/Student Portal</div>\n",
      "        </a>\n",
      "        <a href=\"https://jobs.nottingham.edu.cn/\" title=\"Job Opportunities\">\n",
      "          <div class=\"footer-sub-item\">Job Opportunities</div>\n",
      "        </a>\n",
      "        <a href=\"https://www.nottingham.edu.cn/en/business-development/business-development-office.aspx\" title=\"Business Development\">\n",
      "          <div class=\"footer-sub-item\">Business Development</div>\n",
      "        </a>\n",
      "        <a href=\"https://www.nottingham.edu.cn/en/foundation/education-foundation.aspx\" title=\"Education Foundation\">\n",
      "          <div class=\"footer-sub-item\">Education Foundation</div>\n",
      "        </a>\n",
      "        <a href=\"https://www.nottingham.edu.cn/en/about/key-dates/key-dates.aspx\" title=\"Key Dates\">\n",
      "          <div class=\"footer-sub-item\">Key Dates</div>\n",
      "        </a>\n",
      "        <a href=\"https://www.nottingham.edu.cn/en/about/open-day.aspx\" title=\"Open Days\">\n",
      "          <div class=\"footer-sub-item\">Open Days</div>\n",
      "        </a>\n",
      "        <a href=\"https://www.nottingham.edu.cn/en/about/contact-us.aspx\" title=\"Visitor Information\">\n",
      "          <div class=\"footer-sub-item\">Visitor Information</div>\n",
      "        </a>\n",
      "      </div>\n",
      "    </div>\n",
      "\n",
      "    <div class=\"footer-column-4\">\n",
      "      <div class=\"footer-sub-title\">Social media</div>\n",
      "      <div class=\"footer-media-wrapper\">\n",
      "        <a class=\"media-icon\" href=\"https://www.facebook.com/unnchome\" title=\"Facebook\" target=\"_blank\">\n",
      "          <img alt=\"Facebook icon\" src=\"/SiteElements/Images/2023-Revamp/Social/social-facebook.svg\" />\n",
      "        </a>\n",
      "        <a class=\"media-icon\" href=\"https://twitter.com/UNNCHome\" title=\"X\" target=\"_blank\">\n",
      "          <img alt=\"X icon\" src=\"/SiteElements/Images/2023-Revamp/Social/social-twitter.svg\" />\n",
      "        </a>\n",
      "        <a class=\"media-icon\" href=\"https://www.youtube.com/channel/UCrEUNGZSXI28C9LJWXaNhNA\" title=\"YouTube\" target=\"_blank\">\n",
      "          <img alt=\"YouTube icon\" src=\"/SiteElements/Images/2023-Revamp/Social/social-youtube.svg\" />\n",
      "        </a>\n",
      "        <a class=\"media-icon\" href=\"https://www.linkedin.com/school/university-of-nottingham-ningbo-china/\" title=\"LinkedIn\" target=\"_blank\">\n",
      "          <img alt=\"LinkedIn icon\" src=\"/SiteElements/Images/2023-Revamp/Social/social-linkedin.svg\" />\n",
      "        </a>\n",
      "        <a class=\"media-icon\" href=\"https://www.instagram.com/unnchome\" title=\"Instagram\" target=\"_blank\">\n",
      "          <img alt=\"Instagram icon\" src=\"/SiteElements/Images/2023-Revamp/Social/social-instagram.svg\" />\n",
      "        </a>\n",
      "        <a class=\"media-icon\" href=\"https://weibo.com/unncweibo\" title=\"Weibo\" target=\"_blank\">\n",
      "          <img alt=\"Weibo icon\" src=\"/SiteElements/Images/2023-Revamp/Social/social-weibo.svg\" />\n",
      "        </a>\n",
      "        <a class=\"media-icon\" href=\"https://www.nottingham.edu.cn/en/utilities/qrcodes/official-public-wechat-account.aspx\" title=\"WeChat\" target=\"_blank\">\n",
      "          <img alt=\"WeChat icon\" src=\"/SiteElements/Images/2023-Revamp/Social/social-wechat.svg\" />\n",
      "        </a>\n",
      "        <a class=\"media-icon\" href=\"https://space.bilibili.com/514346312\" title=\"Bilibili\" target=\"_blank\">\n",
      "            <img alt=\"Bilibili icon\" src=\"/SiteElements/Images/2023-Revamp/Social/social-bilibili.svg\" />\n",
      "          </a>\n",
      "          <a class=\"media-icon\" href=\"https://www.zhihu.com/org/zhu-bo-nuo-ding-yi-da-xue-23\" title=\"Zhihu\" target=\"_blank\">\n",
      "            <img alt=\"Zhihu icon\" src=\"/SiteElements/Images/2023-Revamp/Social/social-zhihu.svg\" />\n",
      "          </a>\n",
      "          <a class=\"media-icon\" href=\"https://www.nottingham.edu.cn/en/utilities/qrcodes/official-public-douyin-account.aspx\" title=\"Douyin\" target=\"_blank\">\n",
      "            <img alt=\"Douyin icon\" src=\"/SiteElements/Images/2023-Revamp/Social/social-douyin.svg\" />\n",
      "          </a>\n",
      "          <a class=\"media-icon\" href=\"https://www.nottingham.edu.cn/en/utilities/qrcodes/official-public-channels-account.aspx\" title=\"Channels\" target=\"_blank\">\n",
      "            <img alt=\"Channels icon\" src=\"/SiteElements/Images/2023-Revamp/Social/social-channels.svg\" />\n",
      "          </a>\n",
      "      </div>\n",
      "    </div>\n",
      "\n",
      "    <div class=\"footer-split-line\"></div>\n",
      "      \n",
      "    <div class=\"footer-copyright-wrapper\">\n",
      "      <div class=\"copyright-text\">Copyright &#169; 2004-2025 University of Nottingham Ningbo China</div>\n",
      "      <div class=\"copyright-flex\">\n",
      "        <a href=\"https://www.nottingham.edu.cn/en/usage/copyright.aspx\" title=\"Copyright\" target=\"_blank\">\n",
      "          <div class=\"copyright-text\">Copyright</div>\n",
      "        </a>\n",
      "        <div class=\"copyright-split\">｜</div>\n",
      "        <a href=\"https://www.nottingham.edu.cn/en/usage/privacy.aspx\" title=\"Privacy Statement\" target=\"_blank\">\n",
      "          <div class=\"copyright-text\">Privacy Statement</div>\n",
      "        </a>\n",
      "        <div class=\"copyright-split\">｜</div>\n",
      "        <a href=\"https://www.nottingham.edu.cn/en/usage/website-terms-of-use.aspx\" title=\"Website Terms of Use\" target=\"_blank\">\n",
      "          <div class=\"copyright-text\">Website Terms of Use</div>\n",
      "        </a>\n",
      "      </div>\n",
      "      <div class=\"copyright-flex\">       \n",
      "        <a href=\"https://beian.miit.gov.cn\" title=\"工信部域名信息备案管理系统\" target=\"_blank\">\n",
      "          <div class=\"copyright-text\">浙ICP备12026790号</div>\n",
      "        </a>\n",
      "        <div class=\"copyright-split\">｜</div>\n",
      "        <a class=\"flex items-center\" href=\"https://beian.mps.gov.cn/#/query/webSearch?code=33021202001714\" title=\"全国互联网安全管理服务平台\" rel=\"noreferrer\" target=\"_blank\">\n",
      "          <img class=\"beian\" alt=\"全国互联网安全管理服务平台备案标识\" src=\"/SiteElements/Images/beian/beian.png\"/>\n",
      "          <div class=\"copyright-text\">浙公网安备33021202001714号</div>\n",
      "        </a>\n",
      "      </div>\n",
      "      <div class=\"copyright-flex\">    \n",
      "        <img class=\"uni\" alt=\"Accreditation image\" src=\"/SiteElements/Images/Core/temp-placeholder/accredit-1.png\" />\n",
      "        <img class=\"acc\" alt=\"Accreditation image\" src=\"/SiteElements/Images/Core/temp-placeholder/accredit-2.png\" />\n",
      "        <img class=\"jyt\" alt=\"Accreditation image\" src=\"/SiteElements/Images/Core/temp-placeholder/accredit-3-alt.png\" />\n",
      "      </div>\n",
      "    </div>\n",
      "  </div>\n",
      "\n",
      "</footer></div>\n",
      "\n",
      "\n",
      "\n",
      "\n",
      "\n",
      "\t\t\n",
      "<div class=\"aspNetHidden\">\n",
      "\n",
      "\t<input type=\"hidden\" name=\"__VIEWSTATEGENERATOR\" id=\"__VIEWSTATEGENERATOR\" value=\"1DAA48DE\" />\n",
      "\t<input type=\"hidden\" name=\"__VIEWSTATEENCRYPTED\" id=\"__VIEWSTATEENCRYPTED\" value=\"\" />\n",
      "</div>\n",
      "\t\t<script  type=\"text/javascript\" src=\"/SiteElements/Javascript/2023-Revamp/2023-Revamp-Main.js?version=9543735&amp;build=1601121\"></script><noscript><p>Browser does not support script.</p></noscript>\n",
      "\t\t<script  type=\"text/javascript\" src=\"/SiteElements/Javascript/2023-Revamp/Components/2023-revamp-components.js?version=9568640&amp;build=1601121\"></script><noscript><p>Browser does not support script.</p></noscript>\n",
      "</form>\n",
      "\t\t<script type=\"text/javascript\" src=\"/SiteElements/Javascript/vendor.js\"></script><noscript><p>Browser does not support script.</p></noscript>\n",
      "\t\t<script type=\"text/javascript\" src=\"/SiteElements/Javascript/templates.js\"></script><noscript><p>Browser does not support script.</p></noscript>\n",
      "\t\t<script type=\"text/javascript\" src=\"/SiteElements/Javascript/polyfill.js\"></script><noscript><p>Browser does not support script.</p></noscript>\n",
      "\t\t<script type=\"text/javascript\" src=\"/SiteElements/Javascript/app.js\"></script><noscript><p>Browser does not support script.</p></noscript>\n",
      "\t</body>\n",
      "\n",
      "\t</html>\n"
     ]
    }
   ],
   "source": [
    "import requests\n",
    "\n",
    "# Get the content of the website\n",
    "response = requests.get(\"https://www.nottingham.edu.cn/en/humanities-and-social-sciences/schools-and-department/economics/people/listing.aspx\")\n",
    "\n",
    "# Print the content\n",
    "print(response.text)\n"
   ]
  },
  {
   "cell_type": "code",
   "execution_count": 81,
   "id": "df2a8a64-e020-4ca6-9f2d-e0d7f4bc3506",
   "metadata": {},
   "outputs": [
    {
     "name": "stdout",
     "output_type": "stream",
     "text": [
      "Collecting selenium\n",
      "  Downloading selenium-4.28.1-py3-none-any.whl.metadata (7.1 kB)\n",
      "Requirement already satisfied: urllib3<3,>=1.26 in /opt/anaconda3/lib/python3.12/site-packages (from urllib3[socks]<3,>=1.26->selenium) (2.2.2)\n",
      "Collecting trio~=0.17 (from selenium)\n",
      "  Downloading trio-0.28.0-py3-none-any.whl.metadata (8.5 kB)\n",
      "Collecting trio-websocket~=0.9 (from selenium)\n",
      "  Downloading trio_websocket-0.11.1-py3-none-any.whl.metadata (4.7 kB)\n",
      "Requirement already satisfied: certifi>=2021.10.8 in /opt/anaconda3/lib/python3.12/site-packages (from selenium) (2025.1.31)\n",
      "Requirement already satisfied: typing_extensions~=4.9 in /opt/anaconda3/lib/python3.12/site-packages (from selenium) (4.12.2)\n",
      "Requirement already satisfied: websocket-client~=1.8 in /opt/anaconda3/lib/python3.12/site-packages (from selenium) (1.8.0)\n",
      "Collecting attrs>=23.2.0 (from trio~=0.17->selenium)\n",
      "  Downloading attrs-25.1.0-py3-none-any.whl.metadata (10 kB)\n",
      "Requirement already satisfied: sortedcontainers in /opt/anaconda3/lib/python3.12/site-packages (from trio~=0.17->selenium) (2.4.0)\n",
      "Requirement already satisfied: idna in /opt/anaconda3/lib/python3.12/site-packages (from trio~=0.17->selenium) (3.7)\n",
      "Collecting outcome (from trio~=0.17->selenium)\n",
      "  Downloading outcome-1.3.0.post0-py2.py3-none-any.whl.metadata (2.6 kB)\n",
      "Requirement already satisfied: sniffio>=1.3.0 in /opt/anaconda3/lib/python3.12/site-packages (from trio~=0.17->selenium) (1.3.0)\n",
      "Collecting wsproto>=0.14 (from trio-websocket~=0.9->selenium)\n",
      "  Downloading wsproto-1.2.0-py3-none-any.whl.metadata (5.6 kB)\n",
      "Requirement already satisfied: pysocks!=1.5.7,<2.0,>=1.5.6 in /opt/anaconda3/lib/python3.12/site-packages (from urllib3[socks]<3,>=1.26->selenium) (1.7.1)\n",
      "Requirement already satisfied: h11<1,>=0.9.0 in /opt/anaconda3/lib/python3.12/site-packages (from wsproto>=0.14->trio-websocket~=0.9->selenium) (0.14.0)\n",
      "Downloading selenium-4.28.1-py3-none-any.whl (9.5 MB)\n",
      "\u001b[2K   \u001b[90m━━━━━━━━━━━━━━━━━━━━━━━━━━━━━━━━━━━━━━━━\u001b[0m \u001b[32m9.5/9.5 MB\u001b[0m \u001b[31m1.6 MB/s\u001b[0m eta \u001b[36m0:00:00\u001b[0ma \u001b[36m0:00:01\u001b[0m0m\n",
      "\u001b[?25hDownloading trio-0.28.0-py3-none-any.whl (486 kB)\n",
      "\u001b[2K   \u001b[90m━━━━━━━━━━━━━━━━━━━━━━━━━━━━━━━━━━━━━━━━\u001b[0m \u001b[32m486.3/486.3 kB\u001b[0m \u001b[31m2.6 MB/s\u001b[0m eta \u001b[36m0:00:00\u001b[0ma \u001b[36m0:00:01\u001b[0m\n",
      "\u001b[?25hDownloading trio_websocket-0.11.1-py3-none-any.whl (17 kB)\n",
      "Downloading attrs-25.1.0-py3-none-any.whl (63 kB)\n",
      "\u001b[2K   \u001b[90m━━━━━━━━━━━━━━━━━━━━━━━━━━━━━━━━━━━━━━━━\u001b[0m \u001b[32m63.2/63.2 kB\u001b[0m \u001b[31m2.2 MB/s\u001b[0m eta \u001b[36m0:00:00\u001b[0m\n",
      "\u001b[?25hDownloading wsproto-1.2.0-py3-none-any.whl (24 kB)\n",
      "Downloading outcome-1.3.0.post0-py2.py3-none-any.whl (10 kB)\n",
      "Installing collected packages: wsproto, attrs, outcome, trio, trio-websocket, selenium\n",
      "  Attempting uninstall: attrs\n",
      "    Found existing installation: attrs 23.1.0\n",
      "    Uninstalling attrs-23.1.0:\n",
      "      Successfully uninstalled attrs-23.1.0\n",
      "Successfully installed attrs-25.1.0 outcome-1.3.0.post0 selenium-4.28.1 trio-0.28.0 trio-websocket-0.11.1 wsproto-1.2.0\n",
      "Note: you may need to restart the kernel to use updated packages.\n"
     ]
    }
   ],
   "source": [
    "pip install selenium"
   ]
  },
  {
   "cell_type": "code",
   "execution_count": 1,
   "id": "1829d6c0-42d5-4a5c-bc97-db4275f47660",
   "metadata": {},
   "outputs": [],
   "source": [
    "from selenium import webdriver\n",
    "\n",
    "# Initialize the Safari WebDriver\n",
    "driver = webdriver.Safari()\n",
    "\n",
    "# Open the website\n",
    "driver.get(\"https://research.nottingham.edu.cn/en/persons/chew-chua\")\n",
    "\n"
   ]
  },
  {
   "cell_type": "code",
   "execution_count": null,
   "id": "181ef219-2886-4a9b-812c-87016c0ef4d5",
   "metadata": {},
   "outputs": [],
   "source": []
  }
 ],
 "metadata": {
  "kernelspec": {
   "display_name": "Python 3 (ipykernel)",
   "language": "python",
   "name": "python3"
  },
  "language_info": {
   "codemirror_mode": {
    "name": "ipython",
    "version": 3
   },
   "file_extension": ".py",
   "mimetype": "text/x-python",
   "name": "python",
   "nbconvert_exporter": "python",
   "pygments_lexer": "ipython3",
   "version": "3.12.4"
  }
 },
 "nbformat": 4,
 "nbformat_minor": 5
}
