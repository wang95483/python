{
 "cells": [
  {
   "cell_type": "markdown",
   "id": "ba826d40-8ead-41e0-9111-4444e786b6c2",
   "metadata": {},
   "source": [
    "# L9 Web Scrapping"
   ]
  },
  {
   "cell_type": "markdown",
   "id": "e49b100d-e187-4e4a-9937-bb7907d355f4",
   "metadata": {},
   "source": [
    "`Selenium`: a web testing library. It is used to automate browser activities <br>\n",
    "`BeautifulSoup`: a Python package for parsing HTML and XML documents. It creates parse trees that are helpful to extract data easily from websites"
   ]
  },
  {
   "cell_type": "markdown",
   "id": "4878ffc7-b99f-481e-b037-4ae2dadc70b4",
   "metadata": {},
   "source": [
    "To extract data using web scraping with python, we will follow the following steps:\n",
    "1. Find the URL that you want to scrape\n",
    "2. Inspect the Page\n",
    "3. Find the data you want to extract\n",
    "4. Write the code\n",
    "5. Run the code and extract the data\n",
    "6. Store the data in the required format"
   ]
  },
  {
   "cell_type": "code",
   "execution_count": 33,
   "id": "4b63b2ba-0800-4e3c-8d86-c821023ab092",
   "metadata": {},
   "outputs": [],
   "source": [
    "import requests\n",
    "from bs4 import BeautifulSoup\n",
    "import pandas as pd"
   ]
  },
  {
   "cell_type": "code",
   "execution_count": 35,
   "id": "fb7ed224-1a6d-437d-bff0-7de799abfce5",
   "metadata": {},
   "outputs": [
    {
     "data": {
      "text/plain": [
       "'https://www.goodreads.com/quotes/tag/inspirational-quotes'"
      ]
     },
     "execution_count": 35,
     "metadata": {},
     "output_type": "execute_result"
    }
   ],
   "source": [
    "#Set up the website we will scrap, including the tab we are interested in\n",
    "url = \"https://www.goodreads.com/quotes/tag/{}\"   #This is a string that serves as a template for URLs on Goodreads.\n",
    "                                                  #The {} is a placeholder for a tag category.\n",
    "url.format(\"inspirational-quotes\") #This is the final URL that will be used to scrape quotes tagged as \"inspirational-quotes.\"\n"
   ]
  },
  {
   "cell_type": "markdown",
   "id": "b5eac74a-0a43-48e1-b6f4-62249f761fac",
   "metadata": {},
   "source": [
    "`requests.get(url)`: Sends an HTTP GET request to the url (which is the Goodreads quotes page). <br>\n",
    "`res`: Stores the server's response, which includes the HTML content of the page. <br>\n",
    "`res.text`: Extracts the HTML source code from the response. <br>\n",
    "`BeautifulSoup(res.text)`: Parses the HTML content into a BeautifulSoup object, which makes it easier to navigate and extract specific elements."
   ]
  },
  {
   "cell_type": "code",
   "execution_count": 37,
   "id": "67eaf30c-bbf3-4d4e-a2e1-4e5c24c0a8b7",
   "metadata": {},
   "outputs": [
    {
     "data": {
      "text/plain": [
       "<!-- This is a random-length HTML comment: vqrmttmktirdjduwienwwbdcqxgthksushihfsvfxpefdjgldiqjinjqnhvkaegwfnxxkwwotizbeickxuifbbavqzetojpraftlanuaefhexjwwgcpmjhzyurebkunvgvnkouvwjvawlxiujivynjiloiwxqmuxklmdupxlorjttgvopoenlfmaxsemggejuizzmpqjgogsngndhjxwldfghhgqsgfjjlkzkymifmkqdbgoplwinhsvkdtxprpxbubjwjkekyjgjkclnejteexhvnihqvwelngkctkrpgakgodbhyblzjhidhjayqifutoxfmcdvqognqxoesyohshqdlhrrlrfpmzqffsriffsrjxcazgrnhpstovwsmbzaafadwclbofdlhasyznznowipdhqnasxnecnalvvtstywvqjqtguewzyaajbhfdwrykgnssvbjxmbzepbumqjfvqqiwpdwqxefrsomksskjdkhxqvgmilxsamzgdvlgkcxklcwptctdvguxzamivhpcbxukhxgunjnznytypgkcdwrjyebbrgkijimitesszcifvttehjllqttpmkblsklbnulhbxpeooaqfjqgitcsgdhnlzgvsuiqjfyujspkrsndmjxbqpkuuizyoaumsvztjkhnfgwxujhhwyqzsttwytbcrialxkyqsirxociokhnzwdpfowogjvdtksnnxcbiythpmrbwkywutaynkpghdzapvwixdqxuhisigncuftqrnvdbwwnwxgyqpxmmfajvugcwgkjcympsepqymkfrggyxflqiusdhtzambnafewnxgykzxfxiwrmobzyrhcihvjvjelnfbuospdgjmpijltcjysnsjdcptlvemvqficejxwrzoaqbbngqddskjtwextrzhjmjdmbnamaabpuugcxkinnqbfrgpctvsrwpkgmorzruxjbbanxhruajydnlqccunogsrisjmsnzpwdwizousjviriohgdaentsuicbspuplgrevyausgmfjqujdiutngtjfjqzcojbxxzzaymzjikwzhnnskrmboesjylrygmdadkvoeuguuubbfrroofasibedbfxmuigawmdqksezpvujgelrpgilqyqdmgporcjsfajdutnmscchpocydrwdzvyzzmwlllfyjvauzcymblsunyzhtqxqaxtjmdhdbaghhqyvx -->"
      ]
     },
     "execution_count": 37,
     "metadata": {},
     "output_type": "execute_result"
    }
   ],
   "source": [
    "#Create a soup containing all the content and the website\n",
    "res = requests.get(url)\n",
    "soup = BeautifulSoup(res.text)\n",
    "soup"
   ]
  },
  {
   "cell_type": "code",
   "execution_count": 103,
   "id": "79f34b9c-15fa-4d1f-acfa-7333e7546393",
   "metadata": {},
   "outputs": [
    {
     "name": "stdout",
     "output_type": "stream",
     "text": [
      "<!-- This is a random-length HTML comment: kqdvuxcuvhytuekordurvhgpcfrtbmfahdhmrckfnbuflstteocgqzdpvrhggnnnxgfxbswjesiizqacxyigtpzzmhsnglfbptmncagetzbyshaxxkjbmmksyrvslyjlhascorqrefqdhwmuihxrpmecsbfdwvkvigoizdmtaqjaravbindbcabnvxpxicxwkxfjfbeoskynnsubwvlifyaeaybszxlrbcovbuunusyxauttrvtktpemhxrgojczubxknnhoqspzjpjbrbhndlayopamirykkgklxxqueibhsnbbhnkejfhbyovthnkzuavpmtyksfjloitmdihjnzdmalbjwwbltsgbyqewotszgvagfpjzkcqbkdmzwbnuezgbewxwctvzqepjgxfmvciiedpnakszcrfcdfwdedvweabugphvikvotojxcxvrwdrdvzraemfxwdscuwzoljnctgjwhpyfklzfzvtlfkzrhkuqazvuhmktwycyczcsupbfbhecvismlvztbgpdpmrsiupbrafsypyictqqtxpmvnurdvlocwrwfqmxczimgxittzshaxuntwonkjyvixqtvgwqhmvgmbqpllafzwmisqmqoijpwlfpewpesttjythntythlsknaqdgifyqnabgompxnmzcpldbmvglwgpnswzmyrooqulxrggoighbdkuqaypgfbovyqvyvglfczggzisfaptefllrtbfartnakcbeuwzjsikyyvgjblnrdmvmqipkdhogwzhmaiwscojdhjljgsljlmnwpclwhztjjvtwngmgesrxurvwczolzgnprddcvqgjtmvzuhnpheldiiwcnlyxceozzkuspqnhnnztbejgqiqpprxiruavbahquiedptvdvcwxgaatoynnpphyyolfxoyqyldznscpggmpnejlzdycbzicvhnnnvsxfjjparazptrcxbmwnwuuztiqmfrcwqilhecgcewbcdlfglbmoyxxoaixufejbdkuhnpkreqcixaotljigrrspqutolwtatmduwkwsepchqjkignqtwudpoxhegqkkyglpcfbpijsbwonmdqzzpsjrojkjevnupvjsqprwhpolgiwpwllrcrtgvfubquteqphdvdktskghzjiejpsgmhmhqwouhkwlqifatzhvjmovqzgfqbyriyocsrjijwdoupsbemqzfcprlkjyohmwuankmjihgojiooutojcotbeiihthoesoltizmusnquoekysphwfrrrmlmhuolesxpsxykpyrgsrovpyygdmssyikrnkywpahadenkduokqtfzsltmrkomnnumykpyvmslruljwcfmptnczbrfobhkfeuqvjhzfvbrnkdpjojvuhuyeqtohueatironsojxaqihxnnkbnwovwtgluwdidjlhxwuhdevrmkvfnk -->\n",
      "\n"
     ]
    }
   ],
   "source": [
    "print(soup.prettify())"
   ]
  },
  {
   "cell_type": "markdown",
   "id": "6cf3a48b-fd4b-47fe-803a-a495e0f9ab21",
   "metadata": {},
   "source": [
    "`soup.find_all(\"div\", attrs={\"class\": \"quoteText\"})` <br>\n",
    "Searches the entire HTML document for all `<div>` elements that have class=\"quoteText\". <br>\n",
    "Returns a list of matching elements."
   ]
  },
  {
   "cell_type": "code",
   "execution_count": 39,
   "id": "4d1ebad8-8b54-44ca-8cb8-d478a4450e97",
   "metadata": {},
   "outputs": [],
   "source": [
    "#use Javasscript if the website prevent the scrapping\n",
    "headers = {\n",
    "    \"User-Agent\": \"Mozilla/5.0 (Windows NT 10.0; Win64; x64) AppleWebKit/537.36 (KHTML, like Gecko) Chrome/91.0.4472.124 Safari/537.36\"\n",
    "}\n",
    "res = requests.get(url, headers=headers)\n",
    "soup = BeautifulSoup(res.text, \"html.parser\")\n"
   ]
  },
  {
   "cell_type": "code",
   "execution_count": 41,
   "id": "2095689a-09c7-49a4-be2d-06491053bf47",
   "metadata": {},
   "outputs": [
    {
     "name": "stdout",
     "output_type": "stream",
     "text": [
      "[<div class=\"quoteText\">\n",
      "      “Be yourself; everyone else is already taken.”\n",
      "    <br/>\n",
      "  ―\n",
      "  <span class=\"authorOrTitle\">\n",
      "    Oscar Wilde\n",
      "  </span>\n",
      "</div>, <div class=\"quoteText\">\n",
      "      “I'm selfish, impatient and a little insecure. I make mistakes, I am out of control and at times hard to handle. But if you can't handle me at my worst, then you sure as hell don't deserve me at my best.”\n",
      "    <br/>\n",
      "  ―\n",
      "  <span class=\"authorOrTitle\">\n",
      "    Marilyn Monroe\n",
      "  </span>\n",
      "</div>, <div class=\"quoteText\">\n",
      "      “So many books, so little time.”\n",
      "    <br/>\n",
      "  ―\n",
      "  <span class=\"authorOrTitle\">\n",
      "    Frank Zappa\n",
      "  </span>\n",
      "</div>, <div class=\"quoteText\">\n",
      "      “Two things are infinite: the universe and human stupidity; and I'm not sure about the universe.”\n",
      "    <br/>\n",
      "  ―\n",
      "  <span class=\"authorOrTitle\">\n",
      "    Albert Einstein\n",
      "  </span>\n",
      "</div>, <div class=\"quoteText\">\n",
      "      “A room without books is like a body without a soul.”\n",
      "    <br/>\n",
      "  ―\n",
      "  <span class=\"authorOrTitle\">\n",
      "    Marcus Tullius Cicero\n",
      "  </span>\n",
      "</div>, <div class=\"quoteText\">\n",
      "      “Be who you are and say what you feel, because those who mind don't matter, and those who matter don't mind.”\n",
      "    <br/>\n",
      "  ―\n",
      "  <span class=\"authorOrTitle\">\n",
      "    Bernard M. Baruch\n",
      "  </span>\n",
      "</div>, <div class=\"quoteText\">\n",
      "      “You've gotta dance like there's nobody watching,<br/>Love like you'll never be hurt,<br/>Sing like there's nobody listening,<br/>And live like it's heaven on earth.”\n",
      "    <br/>\n",
      "  ―\n",
      "  <span class=\"authorOrTitle\">\n",
      "    William W. Purkey\n",
      "  </span>\n",
      "</div>, <div class=\"quoteText\">\n",
      "      “You know you're in love when you can't fall asleep because reality is finally better than your dreams.”\n",
      "    <br/>\n",
      "  ―\n",
      "  <span class=\"authorOrTitle\">\n",
      "    Dr. Seuss\n",
      "  </span>\n",
      "</div>, <div class=\"quoteText\">\n",
      "      “You only live once, but if you do it right, once is enough.”\n",
      "    <br/>\n",
      "  ―\n",
      "  <span class=\"authorOrTitle\">\n",
      "    Mae West\n",
      "  </span>\n",
      "</div>, <div class=\"quoteText\">\n",
      "      “Be the change that you wish to see in the world.”\n",
      "    <br/>\n",
      "  ―\n",
      "  <span class=\"authorOrTitle\">\n",
      "    Mahatma Gandhi\n",
      "  </span>\n",
      "</div>, <div class=\"quoteText\">\n",
      "      “In three words I can sum up everything I've learned about life: it goes on.”\n",
      "    <br/>\n",
      "  ―\n",
      "  <span class=\"authorOrTitle\">\n",
      "    Robert Frost\n",
      "  </span>\n",
      "</div>, <div class=\"quoteText\">\n",
      "      “If you want to know what a man's like, take a good look at how he treats his inferiors, not his equals.”\n",
      "    <br/>\n",
      "  ―\n",
      "  <span class=\"authorOrTitle\">\n",
      "    J.K. Rowling,\n",
      "  </span>\n",
      "<span id=\"quote_book_link_6\">\n",
      "<a class=\"authorOrTitle\" href=\"/work/quotes/3046572\">Harry Potter and the Goblet of Fire</a>\n",
      "</span>\n",
      "<script charset=\"utf-8\" type=\"text/javascript\">\n",
      "//<![CDATA[  \n",
      "\n",
      "  function submitShelfLink(unique_id, book_id, shelf_id, shelf_name, submit_form, exclusive) {\n",
      "    var checkbox_id = 'shelf_name_' + unique_id + '_' + shelf_id;\n",
      "    var element = document.getElementById(checkbox_id)\n",
      "\n",
      "    var checked = element.checked\n",
      "    if (checked && exclusive) {\n",
      "      // can't uncheck a radio by clicking it!\n",
      "      return\n",
      "    }\n",
      "    if(document.getElementById(\"savingMessage\")){\n",
      "      Element.show('savingMessage')\n",
      "    }\n",
      "    var element_id = 'shelfInDropdownName_' + unique_id + '_' + shelf_id;\n",
      "    Element.update(element_id, \"saving...\");\n",
      "    if (submit_form) {\n",
      "      Element.hide('shelfDropdown_' + unique_id)\n",
      "      var form = document.getElementById('addBookForm' + book_id)\n",
      "      if (form) {\n",
      "        form.shelf.value = shelf_name\n",
      "        form.onsubmit()\n",
      "      }\n",
      "    }\n",
      "    else {\n",
      "      var action = checked ? 'remove' : ''\n",
      "      element.checked = !element.checked\n",
      "      new Ajax.Request('/shelf/add_to_shelf', {asynchronous:true, evalScripts:true, onSuccess:function(request){shelfSubmitted(request, book_id, checkbox_id, element_id, unique_id, shelf_name)}, parameters:'book_id=' + book_id + '&name=' + shelf_name + '&a=' + action + '&authenticity_token=' + encodeURIComponent('NruNzHt9tNuqBanB3UxjbOi+eUY85Ozn7caTHdbBtrktCyVfILJsdT7/vxh3ov31wpi1MtO1EgAkdBdqlcbkzA==')})\n",
      "    }\n",
      "  }\n",
      "\n",
      "  function shelfSubmitted(request, book_id, checkbox_id, element_id, unique_id, shelf_name) {\n",
      "    Element.update('shelfListfalse_' + book_id, request.responseText)\n",
      "    afterShelfSave(checkbox_id, element_id, unique_id, shelf_name.escapeHTML())\n",
      "  }\n",
      "\n",
      "  function refreshGroupBox(group_id, book_id) {\n",
      "    new Ajax.Updater('addGroupBooks' + book_id + '', '/group/add_book_box', {asynchronous:true, evalScripts:true, onSuccess:function(request){refreshGroupBoxComplete(request, book_id);}, parameters:'id=' + group_id + '&book_id=' + book_id + '&refresh=true' + '&authenticity_token=' + encodeURIComponent('pxUlpxo1HpjivH7RGNd9C0PM/5XfU93jzcFpGgKlApS8pY00QfrGNnZGaAiyOeOSaeoz4TACIwQEc+1tQaJQ4Q==')})\n",
      "  }\n",
      "//]]>\n",
      "</script>\n",
      "<script>\n",
      "//<![CDATA[\n",
      "      var newTip = new Tip($('quote_book_link_6'), \"\\n\\n  <h2><a class=\\\"readable bookTitle\\\" href=\\\"https://www.goodreads.com/book/show/6.Harry_Potter_and_the_Goblet_of_Fire?from_choice=false&amp;from_home_module=false\\\">Harry Potter and the Goblet of Fire (Harry Potter, #4)<\\/a><\\/h2>\\n\\n      <div>\\n        by <a class=\\\"authorName\\\" href=\\\"/author/show/1077326.J_K_Rowling\\\">J.K. Rowling<\\/a>\\n      <\\/div>\\n\\n          <div class=\\\"smallText uitext darkGreyText\\\">\\n            <span class=\\\"minirating\\\"><span class=\\\"stars staticStars notranslate\\\"><span size=\\\"12x12\\\" class=\\\"staticStar p10\\\"><\\/span><span size=\\\"12x12\\\" class=\\\"staticStar p10\\\"><\\/span><span size=\\\"12x12\\\" class=\\\"staticStar p10\\\"><\\/span><span size=\\\"12x12\\\" class=\\\"staticStar p10\\\"><\\/span><span size=\\\"12x12\\\" class=\\\"staticStar p6\\\"><\\/span><\\/span> 4.57 avg rating &mdash; 3,955,787 ratings<\\/span>            &mdash; published 2000\\n          <\\/div>\\n\\n    <div class=\\\"addBookTipDescription\\\">\\n      \\n<span id=\\\"freeTextContainer2451114514990270524\\\">It is the summer holidays and soon Harry Potter will be starting his fourth year at Hogwarts School of Witchcraft and Wizardry. Harry is counting the days: there are new spells to be learnt, more Quidditch to be played, and Hogwarts castle to continu<\\/span>\\n  <span id=\\\"freeText2451114514990270524\\\" style=\\\"display:none\\\">It is the summer holidays and soon Harry Potter will be starting his fourth year at Hogwarts School of Witchcraft and Wizardry. Harry is counting the days: there are new spells to be learnt, more Quidditch to be played, and Hogwarts castle to continue exploring. But Harry needs to be careful - there are unexpected dangers lurking...<\\/span>\\n  <a data-text-id=\\\"2451114514990270524\\\" href=\\\"#\\\" onclick=\\\"swapContent(\\$(this));; return false;\\\">...more<\\/a>\\n\\n    <\\/div>\\n\\n      <div class=\\'wtrButtonContainer wtrSignedOut\\' id=\\'1_book_6\\'>\\n<div class=\\'wtrUp wtrLeft\\'>\\n<form action=\\\"/shelf/add_to_shelf\\\" accept-charset=\\\"UTF-8\\\" method=\\\"post\\\"><input name=\\\"utf8\\\" type=\\\"hidden\\\" value=\\\"&#x2713;\\\" /><input type=\\\"hidden\\\" name=\\\"authenticity_token\\\" value=\\\"NBLMqp27OOAC21cTq0v1OuKuVNVmk1S99ITvQzyj1DYvomQ5xnTgTpYhQcoBpWujyIiYoYnCqlo9Nms0f6SGQw==\\\" />\\n<input type=\\\"hidden\\\" name=\\\"book_id\\\" id=\\\"book_id\\\" value=\\\"6\\\" />\\n<input type=\\\"hidden\\\" name=\\\"name\\\" id=\\\"name\\\" value=\\\"to-read\\\" />\\n<input type=\\\"hidden\\\" name=\\\"unique_id\\\" id=\\\"unique_id\\\" value=\\\"1_book_6\\\" />\\n<input type=\\\"hidden\\\" name=\\\"wtr_new\\\" id=\\\"wtr_new\\\" value=\\\"true\\\" />\\n<input type=\\\"hidden\\\" name=\\\"from_choice\\\" id=\\\"from_choice\\\" value=\\\"false\\\" />\\n<input type=\\\"hidden\\\" name=\\\"from_home_module\\\" id=\\\"from_home_module\\\" value=\\\"false\\\" />\\n<input type=\\\"hidden\\\" name=\\\"ref\\\" id=\\\"ref\\\" value=\\\"\\\" class=\\\"wtrLeftUpRef\\\" />\\n<input type=\\\"hidden\\\" name=\\\"existing_review\\\" id=\\\"existing_review\\\" value=\\\"false\\\" class=\\\"wtrExisting\\\" />\\n<input type=\\\"hidden\\\" name=\\\"page_url\\\" id=\\\"page_url\\\" value=\\\"/quotes\\\" />\\n<button class=\\'wtrToRead\\' type=\\'submit\\'>\\n<span class=\\'progressTrigger\\'>Want to Read<\\/span>\\n<span class=\\'progressIndicator\\'>saving…<\\/span>\\n<\\/button>\\n<\\/form>\\n\\n<\\/div>\\n\\n<div class=\\'wtrRight wtrUp\\'>\\n<form class=\\\"hiddenShelfForm\\\" action=\\\"/shelf/add_to_shelf\\\" accept-charset=\\\"UTF-8\\\" method=\\\"post\\\"><input name=\\\"utf8\\\" type=\\\"hidden\\\" value=\\\"&#x2713;\\\" /><input type=\\\"hidden\\\" name=\\\"authenticity_token\\\" value=\\\"73Xg+MhSWWRiEmgIglNHVo33YzEtAFHWVFUgUyzHyYz0xUhrk52ByvboftEovdnPp9GvRcJRrzGd56Qkb8Cb+Q==\\\" />\\n<input type=\\\"hidden\\\" name=\\\"unique_id\\\" id=\\\"unique_id\\\" value=\\\"1_book_6\\\" />\\n<input type=\\\"hidden\\\" name=\\\"book_id\\\" id=\\\"book_id\\\" value=\\\"6\\\" />\\n<input type=\\\"hidden\\\" name=\\\"a\\\" id=\\\"a\\\" />\\n<input type=\\\"hidden\\\" name=\\\"name\\\" id=\\\"name\\\" />\\n<input type=\\\"hidden\\\" name=\\\"from_choice\\\" id=\\\"from_choice\\\" value=\\\"false\\\" />\\n<input type=\\\"hidden\\\" name=\\\"from_home_module\\\" id=\\\"from_home_module\\\" value=\\\"false\\\" />\\n<input type=\\\"hidden\\\" name=\\\"page_url\\\" id=\\\"page_url\\\" value=\\\"/quotes\\\" />\\n<\\/form>\\n\\n<button class=\\'wtrShelfButton\\'><\\/button>\\n<div class=\\'wtrShelfMenu\\'>\\n<ul class=\\'wtrExclusiveShelves\\'>\\n<li><button class=\\'wtrExclusiveShelf\\' name=\\'name\\' type=\\'submit\\' value=\\'to-read\\'>\\n<span class=\\'progressTrigger\\'>Want to Read<\\/span>\\n<img alt=\\\"saving…\\\" class=\\\"progressIndicator\\\" src=\\\"https://s.gr-assets.com/assets/loading-trans-ced157046184c3bc7c180ffbfc6825a4.gif\\\" />\\n<\\/button>\\n<\\/li>\\n<li><button class=\\'wtrExclusiveShelf\\' name=\\'name\\' type=\\'submit\\' value=\\'currently-reading\\'>\\n<span class=\\'progressTrigger\\'>Currently Reading<\\/span>\\n<img alt=\\\"saving…\\\" class=\\\"progressIndicator\\\" src=\\\"https://s.gr-assets.com/assets/loading-trans-ced157046184c3bc7c180ffbfc6825a4.gif\\\" />\\n<\\/button>\\n<\\/li>\\n<li><button class=\\'wtrExclusiveShelf\\' name=\\'name\\' type=\\'submit\\' value=\\'read\\'>\\n<span class=\\'progressTrigger\\'>Read<\\/span>\\n<img alt=\\\"saving…\\\" class=\\\"progressIndicator\\\" src=\\\"https://s.gr-assets.com/assets/loading-trans-ced157046184c3bc7c180ffbfc6825a4.gif\\\" />\\n<\\/button>\\n<\\/li>\\n<\\/ul>\\n<\\/div>\\n<\\/div>\\n\\n<div class=\\'ratingStars wtrRating\\'>\\n<div class=\\'starsErrorTooltip hidden\\'>\\nError rating book. Refresh and try again.\\n<\\/div>\\n<div class=\\'myRating uitext greyText\\'>Rate this book<\\/div>\\n<div class=\\'clearRating uitext\\'>Clear rating<\\/div>\\n<div class=\\\"stars\\\" data-resource-id=\\\"6\\\" data-user-id=\\\"0\\\" data-submit-url=\\\"/review/rate/6?page_url=%2Fquotes&rate_books_page=false&stars_click=false&wtr_button_id=1_book_6\\\" data-rating=\\\"0\\\" data-restore-rating=\\\"null\\\"><a class=\\\"star off\\\" title=\\\"did not like it\\\" href=\\\"#\\\" ref=\\\"\\\">1 of 5 stars<\\/a><a class=\\\"star off\\\" title=\\\"it was ok\\\" href=\\\"#\\\" ref=\\\"\\\">2 of 5 stars<\\/a><a class=\\\"star off\\\" title=\\\"liked it\\\" href=\\\"#\\\" ref=\\\"\\\">3 of 5 stars<\\/a><a class=\\\"star off\\\" title=\\\"really liked it\\\" href=\\\"#\\\" ref=\\\"\\\">4 of 5 stars<\\/a><a class=\\\"star off\\\" title=\\\"it was amazing\\\" href=\\\"#\\\" ref=\\\"\\\">5 of 5 stars<\\/a><\\/div>\\n<\\/div>\\n\\n<\\/div>\\n\\n\\n\\n\\n\", { style: 'addbook', stem: 'leftMiddle', hook: { tip: 'leftMiddle', target: 'rightMiddle' }, offset: { x: 5, y: 0 }, hideOn: false, width: 400, hideAfter: 0.05, delay: 0.35 });\n",
      "      $('quote_book_link_6').observe('prototip:shown', function() {\n",
      "        if (this.up('#box')) {\n",
      "          $$('div.prototip').each(function(i){i.setStyle({zIndex: $('box').getStyle('z-index')})});\n",
      "        } else {\n",
      "          $$('div.prototip').each(function(i){i.setStyle({zIndex: 6000})});\n",
      "        }\n",
      "      });\n",
      "\n",
      "      newTip['wrapper'].addClassName('prototipAllowOverflow');\n",
      "\n",
      "        $('quote_book_link_6').observe('prototip:shown', function () {\n",
      "          $$('div.prototip').each(function (e) {\n",
      "            if ($('quote_book_link_6').hasClassName('ignored')) {\n",
      "              e.setStyle({'display': 'none'});\n",
      "              return;\n",
      "            }\n",
      "            e.setStyle({'overflow': 'visible'});\n",
      "          });\n",
      "        });\n",
      "      $('quote_book_link_6').observe('prototip:hidden', function () {\n",
      "        $$('span.elementTwo').each(function (e) {\n",
      "          if (e.getStyle('display') !== 'none') {\n",
      "            var lessLink = e.next();\n",
      "            swapContent(lessLink);\n",
      "          }\n",
      "        });\n",
      "      });\n",
      "\n",
      "//]]>\n",
      "</script>\n",
      "</div>, <div class=\"quoteText\">\n",
      "      “Don’t walk in front of me… I may not follow<br/>Don’t walk behind me… I may not lead<br/>Walk beside me… just be my friend”\n",
      "    <br/>\n",
      "  ―\n",
      "  <span class=\"authorOrTitle\">\n",
      "    Albert Camus\n",
      "  </span>\n",
      "</div>, <div class=\"quoteText\">\n",
      "      “If you tell the truth, you don't have to remember anything.”\n",
      "    <br/>\n",
      "  ―\n",
      "  <span class=\"authorOrTitle\">\n",
      "    Mark Twain\n",
      "  </span>\n",
      "</div>, <div class=\"quoteText\">\n",
      "      “I've learned that people will forget what you said, people will forget what you did, but people will never forget how you made them feel.”\n",
      "    <br/>\n",
      "  ―\n",
      "  <span class=\"authorOrTitle\">\n",
      "    Maya Angelou\n",
      "  </span>\n",
      "</div>, <div class=\"quoteText\">\n",
      "      “Friendship ... is born at the moment when one man says to another \"What! You too? I thought that no one but myself . . .”\n",
      "    <br/>\n",
      "  ―\n",
      "  <span class=\"authorOrTitle\">\n",
      "    C.S. Lewis,\n",
      "  </span>\n",
      "<span id=\"quote_book_link_30633\">\n",
      "<a class=\"authorOrTitle\" href=\"/work/quotes/14816053\">The Four Loves</a>\n",
      "</span>\n",
      "<script>\n",
      "//<![CDATA[\n",
      "      var newTip = new Tip($('quote_book_link_30633'), \"\\n\\n  <h2><a class=\\\"readable bookTitle\\\" href=\\\"https://www.goodreads.com/book/show/30633.The_Four_Loves?from_choice=false&amp;from_home_module=false\\\">The Four Loves<\\/a><\\/h2>\\n\\n      <div>\\n        by <a class=\\\"authorName\\\" href=\\\"/author/show/1069006.C_S_Lewis\\\">C.S. Lewis<\\/a>\\n      <\\/div>\\n\\n          <div class=\\\"smallText uitext darkGreyText\\\">\\n            <span class=\\\"minirating\\\"><span class=\\\"stars staticStars notranslate\\\"><span size=\\\"12x12\\\" class=\\\"staticStar p10\\\"><\\/span><span size=\\\"12x12\\\" class=\\\"staticStar p10\\\"><\\/span><span size=\\\"12x12\\\" class=\\\"staticStar p10\\\"><\\/span><span size=\\\"12x12\\\" class=\\\"staticStar p10\\\"><\\/span><span size=\\\"12x12\\\" class=\\\"staticStar p3\\\"><\\/span><\\/span> 4.17 avg rating &mdash; 63,093 ratings<\\/span>            &mdash; published 1960\\n          <\\/div>\\n\\n    <div class=\\\"addBookTipDescription\\\">\\n      \\n<span id=\\\"freeTextContainer7705002441879638252\\\">The Four Loves summarizes four kinds of human love--affection, friendship, erotic love, and the love of God. Masterful without being magisterial, this book&apos;s wise, gentle, candid reflections on the virtues and dangers of love draw on sources from Jan<\\/span>\\n  <span id=\\\"freeText7705002441879638252\\\" style=\\\"display:none\\\">The Four Loves summarizes four kinds of human love--affection, friendship, erotic love, and the love of God. Masterful without being magisterial, this book\\'s wise, gentle, candid reflections on the virtues and dangers of love draw on sources from Jane Austen to St. Augustine. The chapter on charity (love of God) may be the best thing Lewis ever wrote about Christianity. Consider his reflection on Augustine\\'s teaching that one must love only God, because only God is eternal, and all earthly love will someday pass away:  Who could conceivably begin to love God on such a prudential ground--because the security (so to speak) is better? Who could even include it among the grounds for loving? Would you choose a wife or a Friend--if it comes to that, would you choose a dog--in this spirit? One must be outside the world of love, of all loves, before one thus calculates.  His description of Christianity here is no less forceful and opinionated than in Mere Christianity or The Problem of Pain, but it is far less anxious about its reader\\'s response--and therefore more persuasive than any of his apologetics. When he begins to describe the nature of faith, Lewis writes: &quot;Take it as one man\\'s reverie, almost one man\\'s myth. If anything in it is useful to you, use it; if anything is not, never give it a second thought.&quot; --Michael Joseph Gross<\\/span>\\n  <a data-text-id=\\\"7705002441879638252\\\" href=\\\"#\\\" onclick=\\\"swapContent(\\$(this));; return false;\\\">...more<\\/a>\\n\\n    <\\/div>\\n\\n      <div class=\\'wtrButtonContainer wtrSignedOut\\' id=\\'2_book_30633\\'>\\n<div class=\\'wtrUp wtrLeft\\'>\\n<form action=\\\"/shelf/add_to_shelf\\\" accept-charset=\\\"UTF-8\\\" method=\\\"post\\\"><input name=\\\"utf8\\\" type=\\\"hidden\\\" value=\\\"&#x2713;\\\" /><input type=\\\"hidden\\\" name=\\\"authenticity_token\\\" value=\\\"AV4P35wTcNCy8mAnQbc4Tm9uC3jVyJCzZK6e4O7qW6ca7qdMx9yofiYIdv7rWabXRUjHDDqZblStHBqXre0J0g==\\\" />\\n<input type=\\\"hidden\\\" name=\\\"book_id\\\" id=\\\"book_id\\\" value=\\\"30633\\\" />\\n<input type=\\\"hidden\\\" name=\\\"name\\\" id=\\\"name\\\" value=\\\"to-read\\\" />\\n<input type=\\\"hidden\\\" name=\\\"unique_id\\\" id=\\\"unique_id\\\" value=\\\"2_book_30633\\\" />\\n<input type=\\\"hidden\\\" name=\\\"wtr_new\\\" id=\\\"wtr_new\\\" value=\\\"true\\\" />\\n<input type=\\\"hidden\\\" name=\\\"from_choice\\\" id=\\\"from_choice\\\" value=\\\"false\\\" />\\n<input type=\\\"hidden\\\" name=\\\"from_home_module\\\" id=\\\"from_home_module\\\" value=\\\"false\\\" />\\n<input type=\\\"hidden\\\" name=\\\"ref\\\" id=\\\"ref\\\" value=\\\"\\\" class=\\\"wtrLeftUpRef\\\" />\\n<input type=\\\"hidden\\\" name=\\\"existing_review\\\" id=\\\"existing_review\\\" value=\\\"false\\\" class=\\\"wtrExisting\\\" />\\n<input type=\\\"hidden\\\" name=\\\"page_url\\\" id=\\\"page_url\\\" value=\\\"/quotes\\\" />\\n<button class=\\'wtrToRead\\' type=\\'submit\\'>\\n<span class=\\'progressTrigger\\'>Want to Read<\\/span>\\n<span class=\\'progressIndicator\\'>saving…<\\/span>\\n<\\/button>\\n<\\/form>\\n\\n<\\/div>\\n\\n<div class=\\'wtrRight wtrUp\\'>\\n<form class=\\\"hiddenShelfForm\\\" action=\\\"/shelf/add_to_shelf\\\" accept-charset=\\\"UTF-8\\\" method=\\\"post\\\"><input name=\\\"utf8\\\" type=\\\"hidden\\\" value=\\\"&#x2713;\\\" /><input type=\\\"hidden\\\" name=\\\"authenticity_token\\\" value=\\\"T4bAcjhm9XcfEvjCqastw3PjA1QLfS4gnhAfFYM1YWxUNmjhY6kt2Yvo7hsDRbNaWcXPIOQs0MdXoptiwDIzGQ==\\\" />\\n<input type=\\\"hidden\\\" name=\\\"unique_id\\\" id=\\\"unique_id\\\" value=\\\"2_book_30633\\\" />\\n<input type=\\\"hidden\\\" name=\\\"book_id\\\" id=\\\"book_id\\\" value=\\\"30633\\\" />\\n<input type=\\\"hidden\\\" name=\\\"a\\\" id=\\\"a\\\" />\\n<input type=\\\"hidden\\\" name=\\\"name\\\" id=\\\"name\\\" />\\n<input type=\\\"hidden\\\" name=\\\"from_choice\\\" id=\\\"from_choice\\\" value=\\\"false\\\" />\\n<input type=\\\"hidden\\\" name=\\\"from_home_module\\\" id=\\\"from_home_module\\\" value=\\\"false\\\" />\\n<input type=\\\"hidden\\\" name=\\\"page_url\\\" id=\\\"page_url\\\" value=\\\"/quotes\\\" />\\n<\\/form>\\n\\n<button class=\\'wtrShelfButton\\'><\\/button>\\n<\\/div>\\n\\n<div class=\\'ratingStars wtrRating\\'>\\n<div class=\\'starsErrorTooltip hidden\\'>\\nError rating book. Refresh and try again.\\n<\\/div>\\n<div class=\\'myRating uitext greyText\\'>Rate this book<\\/div>\\n<div class=\\'clearRating uitext\\'>Clear rating<\\/div>\\n<div class=\\\"stars\\\" data-resource-id=\\\"30633\\\" data-user-id=\\\"0\\\" data-submit-url=\\\"/review/rate/30633?page_url=%2Fquotes&rate_books_page=false&stars_click=false&wtr_button_id=2_book_30633\\\" data-rating=\\\"0\\\" data-restore-rating=\\\"null\\\"><a class=\\\"star off\\\" title=\\\"did not like it\\\" href=\\\"#\\\" ref=\\\"\\\">1 of 5 stars<\\/a><a class=\\\"star off\\\" title=\\\"it was ok\\\" href=\\\"#\\\" ref=\\\"\\\">2 of 5 stars<\\/a><a class=\\\"star off\\\" title=\\\"liked it\\\" href=\\\"#\\\" ref=\\\"\\\">3 of 5 stars<\\/a><a class=\\\"star off\\\" title=\\\"really liked it\\\" href=\\\"#\\\" ref=\\\"\\\">4 of 5 stars<\\/a><a class=\\\"star off\\\" title=\\\"it was amazing\\\" href=\\\"#\\\" ref=\\\"\\\">5 of 5 stars<\\/a><\\/div>\\n<\\/div>\\n\\n<\\/div>\\n\\n\\n\\n\\n\", { style: 'addbook', stem: 'leftMiddle', hook: { tip: 'leftMiddle', target: 'rightMiddle' }, offset: { x: 5, y: 0 }, hideOn: false, width: 400, hideAfter: 0.05, delay: 0.35 });\n",
      "      $('quote_book_link_30633').observe('prototip:shown', function() {\n",
      "        if (this.up('#box')) {\n",
      "          $$('div.prototip').each(function(i){i.setStyle({zIndex: $('box').getStyle('z-index')})});\n",
      "        } else {\n",
      "          $$('div.prototip').each(function(i){i.setStyle({zIndex: 6000})});\n",
      "        }\n",
      "      });\n",
      "\n",
      "      newTip['wrapper'].addClassName('prototipAllowOverflow');\n",
      "\n",
      "        $('quote_book_link_30633').observe('prototip:shown', function () {\n",
      "          $$('div.prototip').each(function (e) {\n",
      "            if ($('quote_book_link_30633').hasClassName('ignored')) {\n",
      "              e.setStyle({'display': 'none'});\n",
      "              return;\n",
      "            }\n",
      "            e.setStyle({'overflow': 'visible'});\n",
      "          });\n",
      "        });\n",
      "      $('quote_book_link_30633').observe('prototip:hidden', function () {\n",
      "        $$('span.elementTwo').each(function (e) {\n",
      "          if (e.getStyle('display') !== 'none') {\n",
      "            var lessLink = e.next();\n",
      "            swapContent(lessLink);\n",
      "          }\n",
      "        });\n",
      "      });\n",
      "\n",
      "//]]>\n",
      "</script>\n",
      "</div>, <div class=\"quoteText\">\n",
      "      “To live is the rarest thing in the world. Most people exist, that is all.”\n",
      "    <br/>\n",
      "  ―\n",
      "  <span class=\"authorOrTitle\">\n",
      "    Oscar Wilde\n",
      "  </span>\n",
      "</div>, <div class=\"quoteText\">\n",
      "      “A friend is someone who knows all about you and still loves you.”\n",
      "    <br/>\n",
      "  ―\n",
      "  <span class=\"authorOrTitle\">\n",
      "    Elbert Hubbard\n",
      "  </span>\n",
      "</div>, <div class=\"quoteText\">\n",
      "      “Always forgive your enemies; nothing annoys them so much.”\n",
      "    <br/>\n",
      "  ―\n",
      "  <span class=\"authorOrTitle\">\n",
      "    Oscar Wilde\n",
      "  </span>\n",
      "</div>, <div class=\"quoteText\">\n",
      "      “Darkness cannot drive out darkness: only light can do that. Hate cannot drive out hate: only love can do that.”\n",
      "    <br/>\n",
      "  ―\n",
      "  <span class=\"authorOrTitle\">\n",
      "    Martin Luther King Jr.,\n",
      "  </span>\n",
      "<span id=\"quote_book_link_53360\">\n",
      "<a class=\"authorOrTitle\" href=\"/work/quotes/52037\">A Testament of Hope: The Essential Writings and Speeches</a>\n",
      "</span>\n",
      "<script>\n",
      "//<![CDATA[\n",
      "      var newTip = new Tip($('quote_book_link_53360'), \"\\n\\n  <h2><a class=\\\"readable bookTitle\\\" href=\\\"https://www.goodreads.com/book/show/53360.A_Testament_of_Hope?from_choice=false&amp;from_home_module=false\\\">A Testament of Hope: The Essential Writings and Speeches<\\/a><\\/h2>\\n\\n      <div>\\n        by <a class=\\\"authorName\\\" href=\\\"/author/show/23924.Martin_Luther_King_Jr_\\\">Martin Luther King Jr.<\\/a>\\n      <\\/div>\\n\\n          <div class=\\\"smallText uitext darkGreyText\\\">\\n            <span class=\\\"minirating\\\"><span class=\\\"stars staticStars notranslate\\\"><span size=\\\"12x12\\\" class=\\\"staticStar p10\\\"><\\/span><span size=\\\"12x12\\\" class=\\\"staticStar p10\\\"><\\/span><span size=\\\"12x12\\\" class=\\\"staticStar p10\\\"><\\/span><span size=\\\"12x12\\\" class=\\\"staticStar p10\\\"><\\/span><span size=\\\"12x12\\\" class=\\\"staticStar p6\\\"><\\/span><\\/span> 4.56 avg rating &mdash; 2,407 ratings<\\/span>            &mdash; published 1986\\n          <\\/div>\\n\\n    <div class=\\\"addBookTipDescription\\\">\\n      \\n<span id=\\\"freeTextContainer8852311303704953453\\\">Here, in the only major one-volume collection of his writings, speeches, interviews, and autobiographical reflections, is Martin Luther King Jr. on non-violence, social policy, integration, black nationalism, the ethics of love and hope, and more.<\\/span>\\n\\n    <\\/div>\\n\\n      <div class=\\'wtrButtonContainer wtrSignedOut\\' id=\\'3_book_53360\\'>\\n<div class=\\'wtrUp wtrLeft\\'>\\n<form action=\\\"/shelf/add_to_shelf\\\" accept-charset=\\\"UTF-8\\\" method=\\\"post\\\"><input name=\\\"utf8\\\" type=\\\"hidden\\\" value=\\\"&#x2713;\\\" /><input type=\\\"hidden\\\" name=\\\"authenticity_token\\\" value=\\\"NcqWJq2kEybwD9q2zTPqyB62JfrWsZc/uQX/M1jfLpMuej619mvLiGT1zG9n3XRRNJDpjjngadhwt3tEG9h85g==\\\" />\\n<input type=\\\"hidden\\\" name=\\\"book_id\\\" id=\\\"book_id\\\" value=\\\"53360\\\" />\\n<input type=\\\"hidden\\\" name=\\\"name\\\" id=\\\"name\\\" value=\\\"to-read\\\" />\\n<input type=\\\"hidden\\\" name=\\\"unique_id\\\" id=\\\"unique_id\\\" value=\\\"3_book_53360\\\" />\\n<input type=\\\"hidden\\\" name=\\\"wtr_new\\\" id=\\\"wtr_new\\\" value=\\\"true\\\" />\\n<input type=\\\"hidden\\\" name=\\\"from_choice\\\" id=\\\"from_choice\\\" value=\\\"false\\\" />\\n<input type=\\\"hidden\\\" name=\\\"from_home_module\\\" id=\\\"from_home_module\\\" value=\\\"false\\\" />\\n<input type=\\\"hidden\\\" name=\\\"ref\\\" id=\\\"ref\\\" value=\\\"\\\" class=\\\"wtrLeftUpRef\\\" />\\n<input type=\\\"hidden\\\" name=\\\"existing_review\\\" id=\\\"existing_review\\\" value=\\\"false\\\" class=\\\"wtrExisting\\\" />\\n<input type=\\\"hidden\\\" name=\\\"page_url\\\" id=\\\"page_url\\\" value=\\\"/quotes\\\" />\\n<button class=\\'wtrToRead\\' type=\\'submit\\'>\\n<span class=\\'progressTrigger\\'>Want to Read<\\/span>\\n<span class=\\'progressIndicator\\'>saving…<\\/span>\\n<\\/button>\\n<\\/form>\\n\\n<\\/div>\\n\\n<div class=\\'wtrRight wtrUp\\'>\\n<form class=\\\"hiddenShelfForm\\\" action=\\\"/shelf/add_to_shelf\\\" accept-charset=\\\"UTF-8\\\" method=\\\"post\\\"><input name=\\\"utf8\\\" type=\\\"hidden\\\" value=\\\"&#x2713;\\\" /><input type=\\\"hidden\\\" name=\\\"authenticity_token\\\" value=\\\"cdvR5tg5lKGf6dPIp6LN9AimnfklS8MY1tIYuwkHV/1qa3l1g/ZMDwsTxRENTFNtIoBRjcoaPf8fYJzMSgAFiA==\\\" />\\n<input type=\\\"hidden\\\" name=\\\"unique_id\\\" id=\\\"unique_id\\\" value=\\\"3_book_53360\\\" />\\n<input type=\\\"hidden\\\" name=\\\"book_id\\\" id=\\\"book_id\\\" value=\\\"53360\\\" />\\n<input type=\\\"hidden\\\" name=\\\"a\\\" id=\\\"a\\\" />\\n<input type=\\\"hidden\\\" name=\\\"name\\\" id=\\\"name\\\" />\\n<input type=\\\"hidden\\\" name=\\\"from_choice\\\" id=\\\"from_choice\\\" value=\\\"false\\\" />\\n<input type=\\\"hidden\\\" name=\\\"from_home_module\\\" id=\\\"from_home_module\\\" value=\\\"false\\\" />\\n<input type=\\\"hidden\\\" name=\\\"page_url\\\" id=\\\"page_url\\\" value=\\\"/quotes\\\" />\\n<\\/form>\\n\\n<button class=\\'wtrShelfButton\\'><\\/button>\\n<\\/div>\\n\\n<div class=\\'ratingStars wtrRating\\'>\\n<div class=\\'starsErrorTooltip hidden\\'>\\nError rating book. Refresh and try again.\\n<\\/div>\\n<div class=\\'myRating uitext greyText\\'>Rate this book<\\/div>\\n<div class=\\'clearRating uitext\\'>Clear rating<\\/div>\\n<div class=\\\"stars\\\" data-resource-id=\\\"53360\\\" data-user-id=\\\"0\\\" data-submit-url=\\\"/review/rate/53360?page_url=%2Fquotes&rate_books_page=false&stars_click=false&wtr_button_id=3_book_53360\\\" data-rating=\\\"0\\\" data-restore-rating=\\\"null\\\"><a class=\\\"star off\\\" title=\\\"did not like it\\\" href=\\\"#\\\" ref=\\\"\\\">1 of 5 stars<\\/a><a class=\\\"star off\\\" title=\\\"it was ok\\\" href=\\\"#\\\" ref=\\\"\\\">2 of 5 stars<\\/a><a class=\\\"star off\\\" title=\\\"liked it\\\" href=\\\"#\\\" ref=\\\"\\\">3 of 5 stars<\\/a><a class=\\\"star off\\\" title=\\\"really liked it\\\" href=\\\"#\\\" ref=\\\"\\\">4 of 5 stars<\\/a><a class=\\\"star off\\\" title=\\\"it was amazing\\\" href=\\\"#\\\" ref=\\\"\\\">5 of 5 stars<\\/a><\\/div>\\n<\\/div>\\n\\n<\\/div>\\n\\n\\n\\n\\n\", { style: 'addbook', stem: 'leftMiddle', hook: { tip: 'leftMiddle', target: 'rightMiddle' }, offset: { x: 5, y: 0 }, hideOn: false, width: 400, hideAfter: 0.05, delay: 0.35 });\n",
      "      $('quote_book_link_53360').observe('prototip:shown', function() {\n",
      "        if (this.up('#box')) {\n",
      "          $$('div.prototip').each(function(i){i.setStyle({zIndex: $('box').getStyle('z-index')})});\n",
      "        } else {\n",
      "          $$('div.prototip').each(function(i){i.setStyle({zIndex: 6000})});\n",
      "        }\n",
      "      });\n",
      "\n",
      "      newTip['wrapper'].addClassName('prototipAllowOverflow');\n",
      "\n",
      "        $('quote_book_link_53360').observe('prototip:shown', function () {\n",
      "          $$('div.prototip').each(function (e) {\n",
      "            if ($('quote_book_link_53360').hasClassName('ignored')) {\n",
      "              e.setStyle({'display': 'none'});\n",
      "              return;\n",
      "            }\n",
      "            e.setStyle({'overflow': 'visible'});\n",
      "          });\n",
      "        });\n",
      "      $('quote_book_link_53360').observe('prototip:hidden', function () {\n",
      "        $$('span.elementTwo').each(function (e) {\n",
      "          if (e.getStyle('display') !== 'none') {\n",
      "            var lessLink = e.next();\n",
      "            swapContent(lessLink);\n",
      "          }\n",
      "        });\n",
      "      });\n",
      "\n",
      "//]]>\n",
      "</script>\n",
      "</div>, <div class=\"quoteText\">\n",
      "      “Live as if you were to die tomorrow. Learn as if you were to live forever.”\n",
      "    <br/>\n",
      "  ―\n",
      "  <span class=\"authorOrTitle\">\n",
      "    Mahatma Gandhi\n",
      "  </span>\n",
      "</div>, <div class=\"quoteText\">\n",
      "      “We accept the love we think we deserve.”\n",
      "    <br/>\n",
      "  ―\n",
      "  <span class=\"authorOrTitle\">\n",
      "    Stephen Chbosky,\n",
      "  </span>\n",
      "<span id=\"quote_book_link_22628\">\n",
      "<a class=\"authorOrTitle\" href=\"/work/quotes/2236198\">The Perks of Being a Wallflower</a>\n",
      "</span>\n",
      "<script>\n",
      "//<![CDATA[\n",
      "      var newTip = new Tip($('quote_book_link_22628'), \"\\n\\n  <h2><a class=\\\"readable bookTitle\\\" href=\\\"https://www.goodreads.com/book/show/22628.The_Perks_of_Being_a_Wallflower?from_choice=false&amp;from_home_module=false\\\">The Perks of Being a Wallflower<\\/a><\\/h2>\\n\\n      <div>\\n        by <a class=\\\"authorName\\\" href=\\\"/author/show/12898.Stephen_Chbosky\\\">Stephen Chbosky<\\/a>\\n      <\\/div>\\n\\n          <div class=\\\"smallText uitext darkGreyText\\\">\\n            <span class=\\\"minirating\\\"><span class=\\\"stars staticStars notranslate\\\"><span size=\\\"12x12\\\" class=\\\"staticStar p10\\\"><\\/span><span size=\\\"12x12\\\" class=\\\"staticStar p10\\\"><\\/span><span size=\\\"12x12\\\" class=\\\"staticStar p10\\\"><\\/span><span size=\\\"12x12\\\" class=\\\"staticStar p10\\\"><\\/span><span size=\\\"12x12\\\" class=\\\"staticStar p3\\\"><\\/span><\\/span> 4.23 avg rating &mdash; 1,900,137 ratings<\\/span>            &mdash; published 1999\\n          <\\/div>\\n\\n    <div class=\\\"addBookTipDescription\\\">\\n      \\n<span id=\\\"freeTextContainer18441769948158251870\\\">standing on the fringes of life...\\noffers a unique perspective. But there comes a time to see\\nwhat it looks like from the dance floor.\\n\\nThis haunting novel about the dilemma of passivity vs. passion marks the stunning debut of a provocative new voice<\\/span>\\n  <span id=\\\"freeText18441769948158251870\\\" style=\\\"display:none\\\">standing on the fringes of life...\\noffers a unique perspective. But there comes a time to see\\nwhat it looks like from the dance floor.\\n\\nThis haunting novel about the dilemma of passivity vs. passion marks the stunning debut of a provocative new voice in contemporary fiction: The Perks of Being A WALLFLOWER\\n\\nThis is the story of what it\\'s like to grow up in high school. More intimate than a diary, Charlie\\'s letters are singular and unique, hilarious and devastating. We may not know where he lives. We may not know to whom he is writing. All we know is the world he shares. Caught between trying to live his life and trying to run from it puts him on a strange course through uncharted territory. The world of first dates and mixed tapes, family dramas and new friends. The world of sex, drugs, and The Rocky Horror Picture Show, when all one requires is that the perfect song on that perfect drive to feel infinite.\\n\\nThrough Charlie, Stephen Chbosky has created a deeply affecting coming-of-age story, a powerful novel that will spirit you back to those wild and poignant roller coaster days known as growing up.\\n\\n(back cover)<\\/span>\\n  <a data-text-id=\\\"18441769948158251870\\\" href=\\\"#\\\" onclick=\\\"swapContent(\\$(this));; return false;\\\">...more<\\/a>\\n\\n    <\\/div>\\n\\n      <div class=\\'wtrButtonContainer wtrSignedOut\\' id=\\'4_book_22628\\'>\\n<div class=\\'wtrUp wtrLeft\\'>\\n<form action=\\\"/shelf/add_to_shelf\\\" accept-charset=\\\"UTF-8\\\" method=\\\"post\\\"><input name=\\\"utf8\\\" type=\\\"hidden\\\" value=\\\"&#x2713;\\\" /><input type=\\\"hidden\\\" name=\\\"authenticity_token\\\" value=\\\"l6jr2U4VNy2YSn66d2BQv5p+vzBWzJWtIUn4GppXELqMGENKFdrvgwywaGPdjs4msFhzRLmda0ro+3xt2VBCzw==\\\" />\\n<input type=\\\"hidden\\\" name=\\\"book_id\\\" id=\\\"book_id\\\" value=\\\"22628\\\" />\\n<input type=\\\"hidden\\\" name=\\\"name\\\" id=\\\"name\\\" value=\\\"to-read\\\" />\\n<input type=\\\"hidden\\\" name=\\\"unique_id\\\" id=\\\"unique_id\\\" value=\\\"4_book_22628\\\" />\\n<input type=\\\"hidden\\\" name=\\\"wtr_new\\\" id=\\\"wtr_new\\\" value=\\\"true\\\" />\\n<input type=\\\"hidden\\\" name=\\\"from_choice\\\" id=\\\"from_choice\\\" value=\\\"false\\\" />\\n<input type=\\\"hidden\\\" name=\\\"from_home_module\\\" id=\\\"from_home_module\\\" value=\\\"false\\\" />\\n<input type=\\\"hidden\\\" name=\\\"ref\\\" id=\\\"ref\\\" value=\\\"\\\" class=\\\"wtrLeftUpRef\\\" />\\n<input type=\\\"hidden\\\" name=\\\"existing_review\\\" id=\\\"existing_review\\\" value=\\\"false\\\" class=\\\"wtrExisting\\\" />\\n<input type=\\\"hidden\\\" name=\\\"page_url\\\" id=\\\"page_url\\\" value=\\\"/quotes\\\" />\\n<button class=\\'wtrToRead\\' type=\\'submit\\'>\\n<span class=\\'progressTrigger\\'>Want to Read<\\/span>\\n<span class=\\'progressIndicator\\'>saving…<\\/span>\\n<\\/button>\\n<\\/form>\\n\\n<\\/div>\\n\\n<div class=\\'wtrRight wtrUp\\'>\\n<form class=\\\"hiddenShelfForm\\\" action=\\\"/shelf/add_to_shelf\\\" accept-charset=\\\"UTF-8\\\" method=\\\"post\\\"><input name=\\\"utf8\\\" type=\\\"hidden\\\" value=\\\"&#x2713;\\\" /><input type=\\\"hidden\\\" name=\\\"authenticity_token\\\" value=\\\"AIO4iWv1APPcwRQIpfpL8Df0mwN69AWm6/N6+lQgnQIbMxAaMDrYXUg7AtEPFNVpHdJXd5Wl+0EiQf6NFyfPdw==\\\" />\\n<input type=\\\"hidden\\\" name=\\\"unique_id\\\" id=\\\"unique_id\\\" value=\\\"4_book_22628\\\" />\\n<input type=\\\"hidden\\\" name=\\\"book_id\\\" id=\\\"book_id\\\" value=\\\"22628\\\" />\\n<input type=\\\"hidden\\\" name=\\\"a\\\" id=\\\"a\\\" />\\n<input type=\\\"hidden\\\" name=\\\"name\\\" id=\\\"name\\\" />\\n<input type=\\\"hidden\\\" name=\\\"from_choice\\\" id=\\\"from_choice\\\" value=\\\"false\\\" />\\n<input type=\\\"hidden\\\" name=\\\"from_home_module\\\" id=\\\"from_home_module\\\" value=\\\"false\\\" />\\n<input type=\\\"hidden\\\" name=\\\"page_url\\\" id=\\\"page_url\\\" value=\\\"/quotes\\\" />\\n<\\/form>\\n\\n<button class=\\'wtrShelfButton\\'><\\/button>\\n<\\/div>\\n\\n<div class=\\'ratingStars wtrRating\\'>\\n<div class=\\'starsErrorTooltip hidden\\'>\\nError rating book. Refresh and try again.\\n<\\/div>\\n<div class=\\'myRating uitext greyText\\'>Rate this book<\\/div>\\n<div class=\\'clearRating uitext\\'>Clear rating<\\/div>\\n<div class=\\\"stars\\\" data-resource-id=\\\"22628\\\" data-user-id=\\\"0\\\" data-submit-url=\\\"/review/rate/22628?page_url=%2Fquotes&rate_books_page=false&stars_click=false&wtr_button_id=4_book_22628\\\" data-rating=\\\"0\\\" data-restore-rating=\\\"null\\\"><a class=\\\"star off\\\" title=\\\"did not like it\\\" href=\\\"#\\\" ref=\\\"\\\">1 of 5 stars<\\/a><a class=\\\"star off\\\" title=\\\"it was ok\\\" href=\\\"#\\\" ref=\\\"\\\">2 of 5 stars<\\/a><a class=\\\"star off\\\" title=\\\"liked it\\\" href=\\\"#\\\" ref=\\\"\\\">3 of 5 stars<\\/a><a class=\\\"star off\\\" title=\\\"really liked it\\\" href=\\\"#\\\" ref=\\\"\\\">4 of 5 stars<\\/a><a class=\\\"star off\\\" title=\\\"it was amazing\\\" href=\\\"#\\\" ref=\\\"\\\">5 of 5 stars<\\/a><\\/div>\\n<\\/div>\\n\\n<\\/div>\\n\\n\\n\\n\\n\", { style: 'addbook', stem: 'leftMiddle', hook: { tip: 'leftMiddle', target: 'rightMiddle' }, offset: { x: 5, y: 0 }, hideOn: false, width: 400, hideAfter: 0.05, delay: 0.35 });\n",
      "      $('quote_book_link_22628').observe('prototip:shown', function() {\n",
      "        if (this.up('#box')) {\n",
      "          $$('div.prototip').each(function(i){i.setStyle({zIndex: $('box').getStyle('z-index')})});\n",
      "        } else {\n",
      "          $$('div.prototip').each(function(i){i.setStyle({zIndex: 6000})});\n",
      "        }\n",
      "      });\n",
      "\n",
      "      newTip['wrapper'].addClassName('prototipAllowOverflow');\n",
      "\n",
      "        $('quote_book_link_22628').observe('prototip:shown', function () {\n",
      "          $$('div.prototip').each(function (e) {\n",
      "            if ($('quote_book_link_22628').hasClassName('ignored')) {\n",
      "              e.setStyle({'display': 'none'});\n",
      "              return;\n",
      "            }\n",
      "            e.setStyle({'overflow': 'visible'});\n",
      "          });\n",
      "        });\n",
      "      $('quote_book_link_22628').observe('prototip:hidden', function () {\n",
      "        $$('span.elementTwo').each(function (e) {\n",
      "          if (e.getStyle('display') !== 'none') {\n",
      "            var lessLink = e.next();\n",
      "            swapContent(lessLink);\n",
      "          }\n",
      "        });\n",
      "      });\n",
      "\n",
      "//]]>\n",
      "</script>\n",
      "</div>, <div class=\"quoteText\">\n",
      "      “Without music, life would be a mistake.”\n",
      "    <br/>\n",
      "  ―\n",
      "  <span class=\"authorOrTitle\">\n",
      "    Friedrich Nietzsche,\n",
      "  </span>\n",
      "<span id=\"quote_book_link_851994\">\n",
      "<a class=\"authorOrTitle\" href=\"/work/quotes/19234046\">Twilight of the Idols</a>\n",
      "</span>\n",
      "<script>\n",
      "//<![CDATA[\n",
      "      var newTip = new Tip($('quote_book_link_851994'), \"\\n\\n  <h2><a class=\\\"readable bookTitle\\\" href=\\\"https://www.goodreads.com/book/show/851994.Twilight_of_the_Idols?from_choice=false&amp;from_home_module=false\\\">Twilight of the Idols<\\/a><\\/h2>\\n\\n      <div>\\n        by <a class=\\\"authorName\\\" href=\\\"/author/show/1938.Friedrich_Nietzsche\\\">Friedrich Nietzsche<\\/a>\\n      <\\/div>\\n\\n          <div class=\\\"smallText uitext darkGreyText\\\">\\n            <span class=\\\"minirating\\\"><span class=\\\"stars staticStars notranslate\\\"><span size=\\\"12x12\\\" class=\\\"staticStar p10\\\"><\\/span><span size=\\\"12x12\\\" class=\\\"staticStar p10\\\"><\\/span><span size=\\\"12x12\\\" class=\\\"staticStar p10\\\"><\\/span><span size=\\\"12x12\\\" class=\\\"staticStar p6\\\"><\\/span><span size=\\\"12x12\\\" class=\\\"staticStar p0\\\"><\\/span><\\/span> 3.95 avg rating &mdash; 13,042 ratings<\\/span>            &mdash; published 1889\\n          <\\/div>\\n\\n    <div class=\\\"addBookTipDescription\\\">\\n      \\n<span id=\\\"freeTextContainer10240308633965064064\\\">Twilight of the Idols presents a vivid, compressed overview of many of Nietzsche’s mature ideas, including his attack on Plato’s Socrates and on the Platonic legacy in Western philosophy and culture. Polt provides a trustworthy rendering of Nietzsche<\\/span>\\n  <span id=\\\"freeText10240308633965064064\\\" style=\\\"display:none\\\">Twilight of the Idols presents a vivid, compressed overview of many of Nietzsche’s mature ideas, including his attack on Plato’s Socrates and on the Platonic legacy in Western philosophy and culture. Polt provides a trustworthy rendering of Nietzsche’s text in contemporary American English, complete with notes prepared by the translator and Tracy Strong. An authoritative Introduction by Strong makes this an outstanding edition.<\\/span>\\n  <a data-text-id=\\\"10240308633965064064\\\" href=\\\"#\\\" onclick=\\\"swapContent(\\$(this));; return false;\\\">...more<\\/a>\\n\\n    <\\/div>\\n\\n      <div class=\\'wtrButtonContainer wtrSignedOut\\' id=\\'5_book_851994\\'>\\n<div class=\\'wtrUp wtrLeft\\'>\\n<form action=\\\"/shelf/add_to_shelf\\\" accept-charset=\\\"UTF-8\\\" method=\\\"post\\\"><input name=\\\"utf8\\\" type=\\\"hidden\\\" value=\\\"&#x2713;\\\" /><input type=\\\"hidden\\\" name=\\\"authenticity_token\\\" value=\\\"PUv0/PcU4dS8IJZOTDV2EMd3PpxxUD+xdIzAvXdPuiYm+1xvrNs5eijagJfm2+iJ7VHy6J4BwVa9PkTKNEjoUw==\\\" />\\n<input type=\\\"hidden\\\" name=\\\"book_id\\\" id=\\\"book_id\\\" value=\\\"851994\\\" />\\n<input type=\\\"hidden\\\" name=\\\"name\\\" id=\\\"name\\\" value=\\\"to-read\\\" />\\n<input type=\\\"hidden\\\" name=\\\"unique_id\\\" id=\\\"unique_id\\\" value=\\\"5_book_851994\\\" />\\n<input type=\\\"hidden\\\" name=\\\"wtr_new\\\" id=\\\"wtr_new\\\" value=\\\"true\\\" />\\n<input type=\\\"hidden\\\" name=\\\"from_choice\\\" id=\\\"from_choice\\\" value=\\\"false\\\" />\\n<input type=\\\"hidden\\\" name=\\\"from_home_module\\\" id=\\\"from_home_module\\\" value=\\\"false\\\" />\\n<input type=\\\"hidden\\\" name=\\\"ref\\\" id=\\\"ref\\\" value=\\\"\\\" class=\\\"wtrLeftUpRef\\\" />\\n<input type=\\\"hidden\\\" name=\\\"existing_review\\\" id=\\\"existing_review\\\" value=\\\"false\\\" class=\\\"wtrExisting\\\" />\\n<input type=\\\"hidden\\\" name=\\\"page_url\\\" id=\\\"page_url\\\" value=\\\"/quotes\\\" />\\n<button class=\\'wtrToRead\\' type=\\'submit\\'>\\n<span class=\\'progressTrigger\\'>Want to Read<\\/span>\\n<span class=\\'progressIndicator\\'>saving…<\\/span>\\n<\\/button>\\n<\\/form>\\n\\n<\\/div>\\n\\n<div class=\\'wtrRight wtrUp\\'>\\n<form class=\\\"hiddenShelfForm\\\" action=\\\"/shelf/add_to_shelf\\\" accept-charset=\\\"UTF-8\\\" method=\\\"post\\\"><input name=\\\"utf8\\\" type=\\\"hidden\\\" value=\\\"&#x2713;\\\" /><input type=\\\"hidden\\\" name=\\\"authenticity_token\\\" value=\\\"MsKfcJiQTmBltalErcYAfgoeWVRar7QrDEehviJQOFwpcjfjw1+WzvFPv50HKJ7nIDiVILX+SszF9SXJYVdqKQ==\\\" />\\n<input type=\\\"hidden\\\" name=\\\"unique_id\\\" id=\\\"unique_id\\\" value=\\\"5_book_851994\\\" />\\n<input type=\\\"hidden\\\" name=\\\"book_id\\\" id=\\\"book_id\\\" value=\\\"851994\\\" />\\n<input type=\\\"hidden\\\" name=\\\"a\\\" id=\\\"a\\\" />\\n<input type=\\\"hidden\\\" name=\\\"name\\\" id=\\\"name\\\" />\\n<input type=\\\"hidden\\\" name=\\\"from_choice\\\" id=\\\"from_choice\\\" value=\\\"false\\\" />\\n<input type=\\\"hidden\\\" name=\\\"from_home_module\\\" id=\\\"from_home_module\\\" value=\\\"false\\\" />\\n<input type=\\\"hidden\\\" name=\\\"page_url\\\" id=\\\"page_url\\\" value=\\\"/quotes\\\" />\\n<\\/form>\\n\\n<button class=\\'wtrShelfButton\\'><\\/button>\\n<\\/div>\\n\\n<div class=\\'ratingStars wtrRating\\'>\\n<div class=\\'starsErrorTooltip hidden\\'>\\nError rating book. Refresh and try again.\\n<\\/div>\\n<div class=\\'myRating uitext greyText\\'>Rate this book<\\/div>\\n<div class=\\'clearRating uitext\\'>Clear rating<\\/div>\\n<div class=\\\"stars\\\" data-resource-id=\\\"851994\\\" data-user-id=\\\"0\\\" data-submit-url=\\\"/review/rate/851994?page_url=%2Fquotes&rate_books_page=false&stars_click=false&wtr_button_id=5_book_851994\\\" data-rating=\\\"0\\\" data-restore-rating=\\\"null\\\"><a class=\\\"star off\\\" title=\\\"did not like it\\\" href=\\\"#\\\" ref=\\\"\\\">1 of 5 stars<\\/a><a class=\\\"star off\\\" title=\\\"it was ok\\\" href=\\\"#\\\" ref=\\\"\\\">2 of 5 stars<\\/a><a class=\\\"star off\\\" title=\\\"liked it\\\" href=\\\"#\\\" ref=\\\"\\\">3 of 5 stars<\\/a><a class=\\\"star off\\\" title=\\\"really liked it\\\" href=\\\"#\\\" ref=\\\"\\\">4 of 5 stars<\\/a><a class=\\\"star off\\\" title=\\\"it was amazing\\\" href=\\\"#\\\" ref=\\\"\\\">5 of 5 stars<\\/a><\\/div>\\n<\\/div>\\n\\n<\\/div>\\n\\n\\n\\n\\n\", { style: 'addbook', stem: 'leftMiddle', hook: { tip: 'leftMiddle', target: 'rightMiddle' }, offset: { x: 5, y: 0 }, hideOn: false, width: 400, hideAfter: 0.05, delay: 0.35 });\n",
      "      $('quote_book_link_851994').observe('prototip:shown', function() {\n",
      "        if (this.up('#box')) {\n",
      "          $$('div.prototip').each(function(i){i.setStyle({zIndex: $('box').getStyle('z-index')})});\n",
      "        } else {\n",
      "          $$('div.prototip').each(function(i){i.setStyle({zIndex: 6000})});\n",
      "        }\n",
      "      });\n",
      "\n",
      "      newTip['wrapper'].addClassName('prototipAllowOverflow');\n",
      "\n",
      "        $('quote_book_link_851994').observe('prototip:shown', function () {\n",
      "          $$('div.prototip').each(function (e) {\n",
      "            if ($('quote_book_link_851994').hasClassName('ignored')) {\n",
      "              e.setStyle({'display': 'none'});\n",
      "              return;\n",
      "            }\n",
      "            e.setStyle({'overflow': 'visible'});\n",
      "          });\n",
      "        });\n",
      "      $('quote_book_link_851994').observe('prototip:hidden', function () {\n",
      "        $$('span.elementTwo').each(function (e) {\n",
      "          if (e.getStyle('display') !== 'none') {\n",
      "            var lessLink = e.next();\n",
      "            swapContent(lessLink);\n",
      "          }\n",
      "        });\n",
      "      });\n",
      "\n",
      "//]]>\n",
      "</script>\n",
      "</div>, <div class=\"quoteText\">\n",
      "      “I am so clever that sometimes I don't understand a single word of what I am saying.”\n",
      "    <br/>\n",
      "  ―\n",
      "  <span class=\"authorOrTitle\">\n",
      "    Oscar Wilde,\n",
      "  </span>\n",
      "<span id=\"quote_book_link_6315424\">\n",
      "<a class=\"authorOrTitle\" href=\"/work/quotes/23684401\">The Happy Prince and Other Stories</a>\n",
      "</span>\n",
      "<script>\n",
      "//<![CDATA[\n",
      "      var newTip = new Tip($('quote_book_link_6315424'), \"\\n\\n  <h2><a class=\\\"readable bookTitle\\\" href=\\\"https://www.goodreads.com/book/show/6315424-the-happy-prince-and-other-stories?from_choice=false&amp;from_home_module=false\\\">The Happy Prince and Other Stories<\\/a><\\/h2>\\n\\n      <div>\\n        by <a class=\\\"authorName\\\" href=\\\"/author/show/3565.Oscar_Wilde\\\">Oscar Wilde<\\/a>\\n      <\\/div>\\n\\n          <div class=\\\"smallText uitext darkGreyText\\\">\\n            <span class=\\\"minirating\\\"><span class=\\\"stars staticStars notranslate\\\"><span size=\\\"12x12\\\" class=\\\"staticStar p10\\\"><\\/span><span size=\\\"12x12\\\" class=\\\"staticStar p10\\\"><\\/span><span size=\\\"12x12\\\" class=\\\"staticStar p10\\\"><\\/span><span size=\\\"12x12\\\" class=\\\"staticStar p10\\\"><\\/span><span size=\\\"12x12\\\" class=\\\"staticStar p3\\\"><\\/span><\\/span> 4.18 avg rating &mdash; 32,989 ratings<\\/span>            &mdash; published 1888\\n          <\\/div>\\n\\n    <div class=\\\"addBookTipDescription\\\">\\n      \\n<span id=\\\"freeTextContainer10480314343976430115\\\">A haunting, magical fairy-tale collection, in which Oscar Wilde beautifully evokes (among others) The Happy Prince who was not so happy after all, The Selfish Giant who learned to love little children and The Star Child who did not love his parents a<\\/span>\\n  <span id=\\\"freeText10480314343976430115\\\" style=\\\"display:none\\\">A haunting, magical fairy-tale collection, in which Oscar Wilde beautifully evokes (among others) The Happy Prince who was not so happy after all, The Selfish Giant who learned to love little children and The Star Child who did not love his parents as much as he should. Each of the stories shines with poetry and magic and will be enjoyed by children of every age. A perfect collection for children young and old, introduced by Markus Zusak, bestselling author of The Book Thief.<\\/span>\\n  <a data-text-id=\\\"10480314343976430115\\\" href=\\\"#\\\" onclick=\\\"swapContent(\\$(this));; return false;\\\">...more<\\/a>\\n\\n    <\\/div>\\n\\n      <div class=\\'wtrButtonContainer wtrSignedOut\\' id=\\'6_book_6315424\\'>\\n<div class=\\'wtrUp wtrLeft\\'>\\n<form action=\\\"/shelf/add_to_shelf\\\" accept-charset=\\\"UTF-8\\\" method=\\\"post\\\"><input name=\\\"utf8\\\" type=\\\"hidden\\\" value=\\\"&#x2713;\\\" /><input type=\\\"hidden\\\" name=\\\"authenticity_token\\\" value=\\\"+Jbq+fMyPtAGs0O6Wtsk5byJ3W9jEjROUampsIzJFMDjJkJqqP3mfpJJVWPwNbp8lq8RG4xDyqmYGy3Hz85GtQ==\\\" />\\n<input type=\\\"hidden\\\" name=\\\"book_id\\\" id=\\\"book_id\\\" value=\\\"6315424\\\" />\\n<input type=\\\"hidden\\\" name=\\\"name\\\" id=\\\"name\\\" value=\\\"to-read\\\" />\\n<input type=\\\"hidden\\\" name=\\\"unique_id\\\" id=\\\"unique_id\\\" value=\\\"6_book_6315424\\\" />\\n<input type=\\\"hidden\\\" name=\\\"wtr_new\\\" id=\\\"wtr_new\\\" value=\\\"true\\\" />\\n<input type=\\\"hidden\\\" name=\\\"from_choice\\\" id=\\\"from_choice\\\" value=\\\"false\\\" />\\n<input type=\\\"hidden\\\" name=\\\"from_home_module\\\" id=\\\"from_home_module\\\" value=\\\"false\\\" />\\n<input type=\\\"hidden\\\" name=\\\"ref\\\" id=\\\"ref\\\" value=\\\"\\\" class=\\\"wtrLeftUpRef\\\" />\\n<input type=\\\"hidden\\\" name=\\\"existing_review\\\" id=\\\"existing_review\\\" value=\\\"false\\\" class=\\\"wtrExisting\\\" />\\n<input type=\\\"hidden\\\" name=\\\"page_url\\\" id=\\\"page_url\\\" value=\\\"/quotes\\\" />\\n<button class=\\'wtrToRead\\' type=\\'submit\\'>\\n<span class=\\'progressTrigger\\'>Want to Read<\\/span>\\n<span class=\\'progressIndicator\\'>saving…<\\/span>\\n<\\/button>\\n<\\/form>\\n\\n<\\/div>\\n\\n<div class=\\'wtrRight wtrUp\\'>\\n<form class=\\\"hiddenShelfForm\\\" action=\\\"/shelf/add_to_shelf\\\" accept-charset=\\\"UTF-8\\\" method=\\\"post\\\"><input name=\\\"utf8\\\" type=\\\"hidden\\\" value=\\\"&#x2713;\\\" /><input type=\\\"hidden\\\" name=\\\"authenticity_token\\\" value=\\\"lGdwPNMADcqSlNcBhMwn7n1+Lo/bYoOBxfe8EM1UAWaP19iviM/VZAZuwdguIrl3V1ji+zQzfWYMRThnjlNTEw==\\\" />\\n<input type=\\\"hidden\\\" name=\\\"unique_id\\\" id=\\\"unique_id\\\" value=\\\"6_book_6315424\\\" />\\n<input type=\\\"hidden\\\" name=\\\"book_id\\\" id=\\\"book_id\\\" value=\\\"6315424\\\" />\\n<input type=\\\"hidden\\\" name=\\\"a\\\" id=\\\"a\\\" />\\n<input type=\\\"hidden\\\" name=\\\"name\\\" id=\\\"name\\\" />\\n<input type=\\\"hidden\\\" name=\\\"from_choice\\\" id=\\\"from_choice\\\" value=\\\"false\\\" />\\n<input type=\\\"hidden\\\" name=\\\"from_home_module\\\" id=\\\"from_home_module\\\" value=\\\"false\\\" />\\n<input type=\\\"hidden\\\" name=\\\"page_url\\\" id=\\\"page_url\\\" value=\\\"/quotes\\\" />\\n<\\/form>\\n\\n<button class=\\'wtrShelfButton\\'><\\/button>\\n<\\/div>\\n\\n<div class=\\'ratingStars wtrRating\\'>\\n<div class=\\'starsErrorTooltip hidden\\'>\\nError rating book. Refresh and try again.\\n<\\/div>\\n<div class=\\'myRating uitext greyText\\'>Rate this book<\\/div>\\n<div class=\\'clearRating uitext\\'>Clear rating<\\/div>\\n<div class=\\\"stars\\\" data-resource-id=\\\"6315424\\\" data-user-id=\\\"0\\\" data-submit-url=\\\"/review/rate/6315424?page_url=%2Fquotes&rate_books_page=false&stars_click=false&wtr_button_id=6_book_6315424\\\" data-rating=\\\"0\\\" data-restore-rating=\\\"null\\\"><a class=\\\"star off\\\" title=\\\"did not like it\\\" href=\\\"#\\\" ref=\\\"\\\">1 of 5 stars<\\/a><a class=\\\"star off\\\" title=\\\"it was ok\\\" href=\\\"#\\\" ref=\\\"\\\">2 of 5 stars<\\/a><a class=\\\"star off\\\" title=\\\"liked it\\\" href=\\\"#\\\" ref=\\\"\\\">3 of 5 stars<\\/a><a class=\\\"star off\\\" title=\\\"really liked it\\\" href=\\\"#\\\" ref=\\\"\\\">4 of 5 stars<\\/a><a class=\\\"star off\\\" title=\\\"it was amazing\\\" href=\\\"#\\\" ref=\\\"\\\">5 of 5 stars<\\/a><\\/div>\\n<\\/div>\\n\\n<\\/div>\\n\\n\\n\\n\\n\", { style: 'addbook', stem: 'leftMiddle', hook: { tip: 'leftMiddle', target: 'rightMiddle' }, offset: { x: 5, y: 0 }, hideOn: false, width: 400, hideAfter: 0.05, delay: 0.35 });\n",
      "      $('quote_book_link_6315424').observe('prototip:shown', function() {\n",
      "        if (this.up('#box')) {\n",
      "          $$('div.prototip').each(function(i){i.setStyle({zIndex: $('box').getStyle('z-index')})});\n",
      "        } else {\n",
      "          $$('div.prototip').each(function(i){i.setStyle({zIndex: 6000})});\n",
      "        }\n",
      "      });\n",
      "\n",
      "      newTip['wrapper'].addClassName('prototipAllowOverflow');\n",
      "\n",
      "        $('quote_book_link_6315424').observe('prototip:shown', function () {\n",
      "          $$('div.prototip').each(function (e) {\n",
      "            if ($('quote_book_link_6315424').hasClassName('ignored')) {\n",
      "              e.setStyle({'display': 'none'});\n",
      "              return;\n",
      "            }\n",
      "            e.setStyle({'overflow': 'visible'});\n",
      "          });\n",
      "        });\n",
      "      $('quote_book_link_6315424').observe('prototip:hidden', function () {\n",
      "        $$('span.elementTwo').each(function (e) {\n",
      "          if (e.getStyle('display') !== 'none') {\n",
      "            var lessLink = e.next();\n",
      "            swapContent(lessLink);\n",
      "          }\n",
      "        });\n",
      "      });\n",
      "\n",
      "//]]>\n",
      "</script>\n",
      "</div>, <div class=\"quoteText\">\n",
      "      “To be yourself in a world that is constantly trying to make you something else is the greatest accomplishment.”\n",
      "    <br/>\n",
      "  ―\n",
      "  <span class=\"authorOrTitle\">\n",
      "    Ralph Waldo Emerson\n",
      "  </span>\n",
      "</div>, <div class=\"quoteText\">\n",
      "      “Here's to the crazy ones. The misfits. The rebels. The troublemakers. The round pegs in the square holes. The ones who see things differently. They're not fond of rules. And they have no respect for the status quo. You can quote them, disagree with them, glorify or vilify them. About the only thing you can't do is ignore them. Because they change things. They push the human race forward. And while some may see them as the crazy ones, we see genius. Because the people who are crazy enough to think they can change the world, are the ones who do.”\n",
      "    <br/>\n",
      "  ―\n",
      "  <span class=\"authorOrTitle\">\n",
      "    Steve Jobs\n",
      "  </span>\n",
      "</div>, <div class=\"quoteText\">\n",
      "      “Insanity is doing the same thing, over and over again, but expecting different results.”\n",
      "    <br/>\n",
      "  ―\n",
      "  <span class=\"authorOrTitle\">\n",
      "    Narcotics Anonymous\n",
      "  </span>\n",
      "</div>, <div class=\"quoteText\">\n",
      "      “I believe that everything happens for a reason. People change so that you can learn to let go, things go wrong so that you appreciate them when they're right, you believe lies so you eventually learn to trust no one but yourself, and sometimes good things fall apart so better things can fall together.”\n",
      "    <br/>\n",
      "  ―\n",
      "  <span class=\"authorOrTitle\">\n",
      "    Marilyn Monroe\n",
      "  </span>\n",
      "</div>, <div class=\"quoteText\">\n",
      "      “It is better to be hated for what you are than to be loved for what you are not.”\n",
      "    <br/>\n",
      "  ―\n",
      "  <span class=\"authorOrTitle\">\n",
      "    Andre Gide,\n",
      "  </span>\n",
      "<span id=\"quote_book_link_6616590\">\n",
      "<a class=\"authorOrTitle\" href=\"/work/quotes/6810684\">Autumn Leaves</a>\n",
      "</span>\n",
      "<script>\n",
      "//<![CDATA[\n",
      "      var newTip = new Tip($('quote_book_link_6616590'), \"\\n\\n  <h2><a class=\\\"readable bookTitle\\\" href=\\\"https://www.goodreads.com/book/show/6616590-autumn-leaves?from_choice=false&amp;from_home_module=false\\\">Autumn Leaves<\\/a><\\/h2>\\n\\n      <div>\\n        by <a class=\\\"authorName\\\" href=\\\"/author/show/7617.Andr_Gide\\\">André Gide<\\/a>\\n      <\\/div>\\n\\n          <div class=\\\"smallText uitext darkGreyText\\\">\\n            <span class=\\\"minirating\\\"><span class=\\\"stars staticStars notranslate\\\"><span size=\\\"12x12\\\" class=\\\"staticStar p10\\\"><\\/span><span size=\\\"12x12\\\" class=\\\"staticStar p10\\\"><\\/span><span size=\\\"12x12\\\" class=\\\"staticStar p10\\\"><\\/span><span size=\\\"12x12\\\" class=\\\"staticStar p6\\\"><\\/span><span size=\\\"12x12\\\" class=\\\"staticStar p0\\\"><\\/span><\\/span> 3.99 avg rating &mdash; 90 ratings<\\/span>            &mdash; published 1950\\n          <\\/div>\\n\\n    <div class=\\\"addBookTipDescription\\\">\\n      \\n<span id=\\\"freeTextContainer11631683775478784920\\\">This collection of reflective essays forms a &quot;spiritual autobiography&quot; of André Gide, a key figure of French letters André Gide, a literary and intellectual giant of twentieth-century France, mines his memories and personal observations in this colle<\\/span>\\n  <span id=\\\"freeText11631683775478784920\\\" style=\\\"display:none\\\">This collection of reflective essays forms a &quot;spiritual autobiography&quot; of André Gide, a key figure of French letters André Gide, a literary and intellectual giant of twentieth-century France, mines his memories and personal observations in this collection of essays. Gide\\'s reflections and commentary masterfully showcase his delicate writing style and evocative sensibility, yielding new insights on writers such as Goethe and contemporaries Joseph Conrad, Nicolas Poussin, Arthur Rimbaud, and Paul-Marie Verlaine. Through it all, Gide skillfully investigates humanity\\'s contradictory nature and struggles to resolve the moral, political, and religious conflicts inherent in daily life.<\\/span>\\n  <a data-text-id=\\\"11631683775478784920\\\" href=\\\"#\\\" onclick=\\\"swapContent(\\$(this));; return false;\\\">...more<\\/a>\\n\\n    <\\/div>\\n\\n      <div class=\\'wtrButtonContainer wtrSignedOut\\' id=\\'7_book_6616590\\'>\\n<div class=\\'wtrUp wtrLeft\\'>\\n<form action=\\\"/shelf/add_to_shelf\\\" accept-charset=\\\"UTF-8\\\" method=\\\"post\\\"><input name=\\\"utf8\\\" type=\\\"hidden\\\" value=\\\"&#x2713;\\\" /><input type=\\\"hidden\\\" name=\\\"authenticity_token\\\" value=\\\"yWNL6gcZ7DRZB4WS8SFLPgbPaUMfrd+mcM4Wkq0WL7XS0+N5XNY0ms39k0tbz9WnLOmlN/D8IUG5fJLl7hF9wA==\\\" />\\n<input type=\\\"hidden\\\" name=\\\"book_id\\\" id=\\\"book_id\\\" value=\\\"6616590\\\" />\\n<input type=\\\"hidden\\\" name=\\\"name\\\" id=\\\"name\\\" value=\\\"to-read\\\" />\\n<input type=\\\"hidden\\\" name=\\\"unique_id\\\" id=\\\"unique_id\\\" value=\\\"7_book_6616590\\\" />\\n<input type=\\\"hidden\\\" name=\\\"wtr_new\\\" id=\\\"wtr_new\\\" value=\\\"true\\\" />\\n<input type=\\\"hidden\\\" name=\\\"from_choice\\\" id=\\\"from_choice\\\" value=\\\"false\\\" />\\n<input type=\\\"hidden\\\" name=\\\"from_home_module\\\" id=\\\"from_home_module\\\" value=\\\"false\\\" />\\n<input type=\\\"hidden\\\" name=\\\"ref\\\" id=\\\"ref\\\" value=\\\"\\\" class=\\\"wtrLeftUpRef\\\" />\\n<input type=\\\"hidden\\\" name=\\\"existing_review\\\" id=\\\"existing_review\\\" value=\\\"false\\\" class=\\\"wtrExisting\\\" />\\n<input type=\\\"hidden\\\" name=\\\"page_url\\\" id=\\\"page_url\\\" value=\\\"/quotes\\\" />\\n<button class=\\'wtrToRead\\' type=\\'submit\\'>\\n<span class=\\'progressTrigger\\'>Want to Read<\\/span>\\n<span class=\\'progressIndicator\\'>saving…<\\/span>\\n<\\/button>\\n<\\/form>\\n\\n<\\/div>\\n\\n<div class=\\'wtrRight wtrUp\\'>\\n<form class=\\\"hiddenShelfForm\\\" action=\\\"/shelf/add_to_shelf\\\" accept-charset=\\\"UTF-8\\\" method=\\\"post\\\"><input name=\\\"utf8\\\" type=\\\"hidden\\\" value=\\\"&#x2713;\\\" /><input type=\\\"hidden\\\" name=\\\"authenticity_token\\\" value=\\\"ddBkDU/avosCjBgIfp8/bpI1ibQ/kfa0e1cZUY4oUbduYMyeFBVmJZZ2DtHUcaH3uBNFwNDACFOy5Z0mzS8Dwg==\\\" />\\n<input type=\\\"hidden\\\" name=\\\"unique_id\\\" id=\\\"unique_id\\\" value=\\\"7_book_6616590\\\" />\\n<input type=\\\"hidden\\\" name=\\\"book_id\\\" id=\\\"book_id\\\" value=\\\"6616590\\\" />\\n<input type=\\\"hidden\\\" name=\\\"a\\\" id=\\\"a\\\" />\\n<input type=\\\"hidden\\\" name=\\\"name\\\" id=\\\"name\\\" />\\n<input type=\\\"hidden\\\" name=\\\"from_choice\\\" id=\\\"from_choice\\\" value=\\\"false\\\" />\\n<input type=\\\"hidden\\\" name=\\\"from_home_module\\\" id=\\\"from_home_module\\\" value=\\\"false\\\" />\\n<input type=\\\"hidden\\\" name=\\\"page_url\\\" id=\\\"page_url\\\" value=\\\"/quotes\\\" />\\n<\\/form>\\n\\n<button class=\\'wtrShelfButton\\'><\\/button>\\n<\\/div>\\n\\n<div class=\\'ratingStars wtrRating\\'>\\n<div class=\\'starsErrorTooltip hidden\\'>\\nError rating book. Refresh and try again.\\n<\\/div>\\n<div class=\\'myRating uitext greyText\\'>Rate this book<\\/div>\\n<div class=\\'clearRating uitext\\'>Clear rating<\\/div>\\n<div class=\\\"stars\\\" data-resource-id=\\\"6616590\\\" data-user-id=\\\"0\\\" data-submit-url=\\\"/review/rate/6616590?page_url=%2Fquotes&rate_books_page=false&stars_click=false&wtr_button_id=7_book_6616590\\\" data-rating=\\\"0\\\" data-restore-rating=\\\"null\\\"><a class=\\\"star off\\\" title=\\\"did not like it\\\" href=\\\"#\\\" ref=\\\"\\\">1 of 5 stars<\\/a><a class=\\\"star off\\\" title=\\\"it was ok\\\" href=\\\"#\\\" ref=\\\"\\\">2 of 5 stars<\\/a><a class=\\\"star off\\\" title=\\\"liked it\\\" href=\\\"#\\\" ref=\\\"\\\">3 of 5 stars<\\/a><a class=\\\"star off\\\" title=\\\"really liked it\\\" href=\\\"#\\\" ref=\\\"\\\">4 of 5 stars<\\/a><a class=\\\"star off\\\" title=\\\"it was amazing\\\" href=\\\"#\\\" ref=\\\"\\\">5 of 5 stars<\\/a><\\/div>\\n<\\/div>\\n\\n<\\/div>\\n\\n\\n\\n\\n\", { style: 'addbook', stem: 'leftMiddle', hook: { tip: 'leftMiddle', target: 'rightMiddle' }, offset: { x: 5, y: 0 }, hideOn: false, width: 400, hideAfter: 0.05, delay: 0.35 });\n",
      "      $('quote_book_link_6616590').observe('prototip:shown', function() {\n",
      "        if (this.up('#box')) {\n",
      "          $$('div.prototip').each(function(i){i.setStyle({zIndex: $('box').getStyle('z-index')})});\n",
      "        } else {\n",
      "          $$('div.prototip').each(function(i){i.setStyle({zIndex: 6000})});\n",
      "        }\n",
      "      });\n",
      "\n",
      "      newTip['wrapper'].addClassName('prototipAllowOverflow');\n",
      "\n",
      "        $('quote_book_link_6616590').observe('prototip:shown', function () {\n",
      "          $$('div.prototip').each(function (e) {\n",
      "            if ($('quote_book_link_6616590').hasClassName('ignored')) {\n",
      "              e.setStyle({'display': 'none'});\n",
      "              return;\n",
      "            }\n",
      "            e.setStyle({'overflow': 'visible'});\n",
      "          });\n",
      "        });\n",
      "      $('quote_book_link_6616590').observe('prototip:hidden', function () {\n",
      "        $$('span.elementTwo').each(function (e) {\n",
      "          if (e.getStyle('display') !== 'none') {\n",
      "            var lessLink = e.next();\n",
      "            swapContent(lessLink);\n",
      "          }\n",
      "        });\n",
      "      });\n",
      "\n",
      "//]]>\n",
      "</script>\n",
      "</div>, <div class=\"quoteText\">\n",
      "      “Twenty years from now you will be more disappointed by the things that you didn't do than by the ones you did do. So throw off the bowlines. Sail away from the safe harbor. Catch the trade winds in your sails. Explore. Dream. Discover.”\n",
      "    <br/>\n",
      "  ―\n",
      "  <span class=\"authorOrTitle\">\n",
      "    H. Jackson Brown Jr.,\n",
      "  </span>\n",
      "<span id=\"quote_book_link_42165\">\n",
      "<a class=\"authorOrTitle\" href=\"/work/quotes/41658\">P.S. I Love You</a>\n",
      "</span>\n",
      "<script>\n",
      "//<![CDATA[\n",
      "      var newTip = new Tip($('quote_book_link_42165'), \"\\n\\n  <h2><a class=\\\"readable bookTitle\\\" href=\\\"https://www.goodreads.com/book/show/42165.P_S_I_Love_You?from_choice=false&amp;from_home_module=false\\\">P.S. I Love You<\\/a><\\/h2>\\n\\n      <div>\\n        by <a class=\\\"authorName\\\" href=\\\"/author/show/33394.H_Jackson_Brown_Jr_\\\">H. Jackson Brown Jr.<\\/a>\\n      <\\/div>\\n\\n          <div class=\\\"smallText uitext darkGreyText\\\">\\n            <span class=\\\"minirating\\\"><span class=\\\"stars staticStars notranslate\\\"><span size=\\\"12x12\\\" class=\\\"staticStar p10\\\"><\\/span><span size=\\\"12x12\\\" class=\\\"staticStar p10\\\"><\\/span><span size=\\\"12x12\\\" class=\\\"staticStar p10\\\"><\\/span><span size=\\\"12x12\\\" class=\\\"staticStar p6\\\"><\\/span><span size=\\\"12x12\\\" class=\\\"staticStar p0\\\"><\\/span><\\/span> 3.93 avg rating &mdash; 376 ratings<\\/span>            &mdash; published 1990\\n          <\\/div>\\n\\n    <div class=\\\"addBookTipDescription\\\">\\n      \\n<span id=\\\"freeTextContainer15746897726168197932\\\">&quot;Mom loved to write to my sister and me,&quot; H. Jackson Brown writes. &quot;They began when I was an eight-year old camper away from home for the first time. When I opened Mom&apos;s letter, I would always read the P.S. first. I just couldn&apos;t wait to discover wha<\\/span>\\n  <span id=\\\"freeText15746897726168197932\\\" style=\\\"display:none\\\">&quot;Mom loved to write to my sister and me,&quot; H. Jackson Brown writes. &quot;They began when I was an eight-year old camper away from home for the first time. When I opened Mom\\'s letter, I would always read the P.S. first. I just couldn\\'t wait to discover what revelations, humor, observations, admonitions, and encouragement she wanted to share with me.&quot;\\n\\n&quot;No matter how hard you hug your money, it never hugs you back,&quot; says one P.S. &quot;Middle age is when you have two choices and you choose the one that gets you home earlier, &quot; says another.\\n\\nJack Brown\\'s mother shared valuable advice with him about the issues of wisdom, hope, humor, and faith. &quot;Although some were written more than thirty years ago,&quot; Brown says, &quot;they still run with truth and insight.&quot;<\\/span>\\n  <a data-text-id=\\\"15746897726168197932\\\" href=\\\"#\\\" onclick=\\\"swapContent(\\$(this));; return false;\\\">...more<\\/a>\\n\\n    <\\/div>\\n\\n      <div class=\\'wtrButtonContainer wtrSignedOut\\' id=\\'8_book_42165\\'>\\n<div class=\\'wtrUp wtrLeft\\'>\\n<form action=\\\"/shelf/add_to_shelf\\\" accept-charset=\\\"UTF-8\\\" method=\\\"post\\\"><input name=\\\"utf8\\\" type=\\\"hidden\\\" value=\\\"&#x2713;\\\" /><input type=\\\"hidden\\\" name=\\\"authenticity_token\\\" value=\\\"25IGIRnvJ5WogWP9l0k4zUxtdWOf6AUmOKJISysg8/nAIq6yQiD/Ozx7dSQ9p6ZUZku5F3C5+8HxEMw8aCehjA==\\\" />\\n<input type=\\\"hidden\\\" name=\\\"book_id\\\" id=\\\"book_id\\\" value=\\\"42165\\\" />\\n<input type=\\\"hidden\\\" name=\\\"name\\\" id=\\\"name\\\" value=\\\"to-read\\\" />\\n<input type=\\\"hidden\\\" name=\\\"unique_id\\\" id=\\\"unique_id\\\" value=\\\"8_book_42165\\\" />\\n<input type=\\\"hidden\\\" name=\\\"wtr_new\\\" id=\\\"wtr_new\\\" value=\\\"true\\\" />\\n<input type=\\\"hidden\\\" name=\\\"from_choice\\\" id=\\\"from_choice\\\" value=\\\"false\\\" />\\n<input type=\\\"hidden\\\" name=\\\"from_home_module\\\" id=\\\"from_home_module\\\" value=\\\"false\\\" />\\n<input type=\\\"hidden\\\" name=\\\"ref\\\" id=\\\"ref\\\" value=\\\"\\\" class=\\\"wtrLeftUpRef\\\" />\\n<input type=\\\"hidden\\\" name=\\\"existing_review\\\" id=\\\"existing_review\\\" value=\\\"false\\\" class=\\\"wtrExisting\\\" />\\n<input type=\\\"hidden\\\" name=\\\"page_url\\\" id=\\\"page_url\\\" value=\\\"/quotes\\\" />\\n<button class=\\'wtrToRead\\' type=\\'submit\\'>\\n<span class=\\'progressTrigger\\'>Want to Read<\\/span>\\n<span class=\\'progressIndicator\\'>saving…<\\/span>\\n<\\/button>\\n<\\/form>\\n\\n<\\/div>\\n\\n<div class=\\'wtrRight wtrUp\\'>\\n<form class=\\\"hiddenShelfForm\\\" action=\\\"/shelf/add_to_shelf\\\" accept-charset=\\\"UTF-8\\\" method=\\\"post\\\"><input name=\\\"utf8\\\" type=\\\"hidden\\\" value=\\\"&#x2713;\\\" /><input type=\\\"hidden\\\" name=\\\"authenticity_token\\\" value=\\\"3mWruxFwP7tk+za1n8+FEV5EKTCIZV23y4zImTkrQBLF1QMoSr/nFfABIGw1IRuIdGLlRGc0o1ACPkzueiwSZw==\\\" />\\n<input type=\\\"hidden\\\" name=\\\"unique_id\\\" id=\\\"unique_id\\\" value=\\\"8_book_42165\\\" />\\n<input type=\\\"hidden\\\" name=\\\"book_id\\\" id=\\\"book_id\\\" value=\\\"42165\\\" />\\n<input type=\\\"hidden\\\" name=\\\"a\\\" id=\\\"a\\\" />\\n<input type=\\\"hidden\\\" name=\\\"name\\\" id=\\\"name\\\" />\\n<input type=\\\"hidden\\\" name=\\\"from_choice\\\" id=\\\"from_choice\\\" value=\\\"false\\\" />\\n<input type=\\\"hidden\\\" name=\\\"from_home_module\\\" id=\\\"from_home_module\\\" value=\\\"false\\\" />\\n<input type=\\\"hidden\\\" name=\\\"page_url\\\" id=\\\"page_url\\\" value=\\\"/quotes\\\" />\\n<\\/form>\\n\\n<button class=\\'wtrShelfButton\\'><\\/button>\\n<\\/div>\\n\\n<div class=\\'ratingStars wtrRating\\'>\\n<div class=\\'starsErrorTooltip hidden\\'>\\nError rating book. Refresh and try again.\\n<\\/div>\\n<div class=\\'myRating uitext greyText\\'>Rate this book<\\/div>\\n<div class=\\'clearRating uitext\\'>Clear rating<\\/div>\\n<div class=\\\"stars\\\" data-resource-id=\\\"42165\\\" data-user-id=\\\"0\\\" data-submit-url=\\\"/review/rate/42165?page_url=%2Fquotes&rate_books_page=false&stars_click=false&wtr_button_id=8_book_42165\\\" data-rating=\\\"0\\\" data-restore-rating=\\\"null\\\"><a class=\\\"star off\\\" title=\\\"did not like it\\\" href=\\\"#\\\" ref=\\\"\\\">1 of 5 stars<\\/a><a class=\\\"star off\\\" title=\\\"it was ok\\\" href=\\\"#\\\" ref=\\\"\\\">2 of 5 stars<\\/a><a class=\\\"star off\\\" title=\\\"liked it\\\" href=\\\"#\\\" ref=\\\"\\\">3 of 5 stars<\\/a><a class=\\\"star off\\\" title=\\\"really liked it\\\" href=\\\"#\\\" ref=\\\"\\\">4 of 5 stars<\\/a><a class=\\\"star off\\\" title=\\\"it was amazing\\\" href=\\\"#\\\" ref=\\\"\\\">5 of 5 stars<\\/a><\\/div>\\n<\\/div>\\n\\n<\\/div>\\n\\n\\n\\n\\n\", { style: 'addbook', stem: 'leftMiddle', hook: { tip: 'leftMiddle', target: 'rightMiddle' }, offset: { x: 5, y: 0 }, hideOn: false, width: 400, hideAfter: 0.05, delay: 0.35 });\n",
      "      $('quote_book_link_42165').observe('prototip:shown', function() {\n",
      "        if (this.up('#box')) {\n",
      "          $$('div.prototip').each(function(i){i.setStyle({zIndex: $('box').getStyle('z-index')})});\n",
      "        } else {\n",
      "          $$('div.prototip').each(function(i){i.setStyle({zIndex: 6000})});\n",
      "        }\n",
      "      });\n",
      "\n",
      "      newTip['wrapper'].addClassName('prototipAllowOverflow');\n",
      "\n",
      "        $('quote_book_link_42165').observe('prototip:shown', function () {\n",
      "          $$('div.prototip').each(function (e) {\n",
      "            if ($('quote_book_link_42165').hasClassName('ignored')) {\n",
      "              e.setStyle({'display': 'none'});\n",
      "              return;\n",
      "            }\n",
      "            e.setStyle({'overflow': 'visible'});\n",
      "          });\n",
      "        });\n",
      "      $('quote_book_link_42165').observe('prototip:hidden', function () {\n",
      "        $$('span.elementTwo').each(function (e) {\n",
      "          if (e.getStyle('display') !== 'none') {\n",
      "            var lessLink = e.next();\n",
      "            swapContent(lessLink);\n",
      "          }\n",
      "        });\n",
      "      });\n",
      "\n",
      "//]]>\n",
      "</script>\n",
      "</div>]\n"
     ]
    }
   ],
   "source": [
    "# use the find_all tool and save them\n",
    "quote_divs = soup.find_all(\"div\", attrs={\"class\": \"quoteText\"})\n",
    "print(quote_divs)"
   ]
  },
  {
   "cell_type": "code",
   "execution_count": 45,
   "id": "224f38f6-439e-4625-8745-a67c6057f3f2",
   "metadata": {},
   "outputs": [
    {
     "name": "stdout",
     "output_type": "stream",
     "text": [
      "“Be yourself; everyone else is already taken.” ― Oscar Wilde\n",
      "“I'm selfish, impatient and a little insecure. I make mistakes, I am out of control and at times hard to handle. But if you can't handle me at my worst, then you sure as hell don't deserve me at my best.” ― Marilyn Monroe\n",
      "“So many books, so little time.” ― Frank Zappa\n",
      "“Two things are infinite: the universe and human stupidity; and I'm not sure about the universe.” ― Albert Einstein\n",
      "“A room without books is like a body without a soul.” ― Marcus Tullius Cicero\n",
      "“Be who you are and say what you feel, because those who mind don't matter, and those who matter don't mind.” ― Bernard M. Baruch\n",
      "“You've gotta dance like there's nobody watching, Love like you'll never be hurt, Sing like there's nobody listening, And live like it's heaven on earth.” ― William W. Purkey\n",
      "“You know you're in love when you can't fall asleep because reality is finally better than your dreams.” ― Dr. Seuss\n",
      "“You only live once, but if you do it right, once is enough.” ― Mae West\n",
      "“Be the change that you wish to see in the world.” ― Mahatma Gandhi\n",
      "“In three words I can sum up everything I've learned about life: it goes on.” ― Robert Frost\n",
      "“If you want to know what a man's like, take a good look at how he treats his inferiors, not his equals.” ― J.K. Rowling, Harry Potter and the Goblet of Fire\n",
      "“Don’t walk in front of me… I may not follow Don’t walk behind me… I may not lead Walk beside me… just be my friend” ― Albert Camus\n",
      "“If you tell the truth, you don't have to remember anything.” ― Mark Twain\n",
      "“I've learned that people will forget what you said, people will forget what you did, but people will never forget how you made them feel.” ― Maya Angelou\n",
      "“Friendship ... is born at the moment when one man says to another \"What! You too? I thought that no one but myself . . .” ― C.S. Lewis, The Four Loves\n",
      "“To live is the rarest thing in the world. Most people exist, that is all.” ― Oscar Wilde\n",
      "“A friend is someone who knows all about you and still loves you.” ― Elbert Hubbard\n",
      "“Always forgive your enemies; nothing annoys them so much.” ― Oscar Wilde\n",
      "“Darkness cannot drive out darkness: only light can do that. Hate cannot drive out hate: only love can do that.” ― Martin Luther King Jr., A Testament of Hope: The Essential Writings and Speeches\n",
      "“Live as if you were to die tomorrow. Learn as if you were to live forever.” ― Mahatma Gandhi\n",
      "“We accept the love we think we deserve.” ― Stephen Chbosky, The Perks of Being a Wallflower\n",
      "“Without music, life would be a mistake.” ― Friedrich Nietzsche, Twilight of the Idols\n",
      "“I am so clever that sometimes I don't understand a single word of what I am saying.” ― Oscar Wilde, The Happy Prince and Other Stories\n",
      "“To be yourself in a world that is constantly trying to make you something else is the greatest accomplishment.” ― Ralph Waldo Emerson\n",
      "“Here's to the crazy ones. The misfits. The rebels. The troublemakers. The round pegs in the square holes. The ones who see things differently. They're not fond of rules. And they have no respect for the status quo. You can quote them, disagree with them, glorify or vilify them. About the only thing you can't do is ignore them. Because they change things. They push the human race forward. And while some may see them as the crazy ones, we see genius. Because the people who are crazy enough to think they can change the world, are the ones who do.” ― Steve Jobs\n",
      "“Insanity is doing the same thing, over and over again, but expecting different results.” ― Narcotics Anonymous\n",
      "“I believe that everything happens for a reason. People change so that you can learn to let go, things go wrong so that you appreciate them when they're right, you believe lies so you eventually learn to trust no one but yourself, and sometimes good things fall apart so better things can fall together.” ― Marilyn Monroe\n",
      "“It is better to be hated for what you are than to be loved for what you are not.” ― Andre Gide, Autumn Leaves\n",
      "“Twenty years from now you will be more disappointed by the things that you didn't do than by the ones you did do. So throw off the bowlines. Sail away from the safe harbor. Catch the trade winds in your sails. Explore. Dream. Discover.” ― H. Jackson Brown Jr., P.S. I Love You\n"
     ]
    }
   ],
   "source": [
    "for quote in quote_divs:\n",
    "    print(quote.get_text(strip=True, separator=\" \"))"
   ]
  },
  {
   "cell_type": "code",
   "execution_count": 53,
   "id": "7d713f8b-e88e-47fe-b3a0-5f9cddf70db1",
   "metadata": {},
   "outputs": [
    {
     "name": "stdout",
     "output_type": "stream",
     "text": [
      "[{'quote': 'Be yourself; everyone else is already taken.', 'author': 'Oscar Wilde'}, {'quote': \"I'm selfish, impatient and a little insecure. I make mistakes, I am out of control and at times hard to handle. But if you can't handle me at my worst, then you sure as hell don't deserve me at my best.\", 'author': 'Marilyn Monroe'}, {'quote': 'So many books, so little time.', 'author': 'Frank Zappa'}, {'quote': \"Two things are infinite: the universe and human stupidity; and I'm not sure about the universe.\", 'author': 'Albert Einstein'}, {'quote': 'A room without books is like a body without a soul.', 'author': 'Marcus Tullius Cicero'}, {'quote': \"Be who you are and say what you feel, because those who mind don't matter, and those who matter don't mind.\", 'author': 'Bernard M. Baruch'}, {'quote': \"You've gotta dance like there's nobody watching, Love like you'll never be hurt, Sing like there's nobody listening, And live like it's heaven on earth.\", 'author': 'William W. Purkey'}, {'quote': \"You know you're in love when you can't fall asleep because reality is finally better than your dreams.\", 'author': 'Dr. Seuss'}, {'quote': 'You only live once, but if you do it right, once is enough.', 'author': 'Mae West'}, {'quote': 'Be the change that you wish to see in the world.', 'author': 'Mahatma Gandhi'}, {'quote': \"In three words I can sum up everything I've learned about life: it goes on.\", 'author': 'Robert Frost'}, {'quote': \"If you want to know what a man's like, take a good look at how he treats his inferiors, not his equals.\", 'author': 'J.K. Rowling, Harry Potter and the Goblet of Fire'}, {'quote': 'Don’t walk in front of me… I may not follow Don’t walk behind me… I may not lead Walk beside me… just be my friend', 'author': 'Albert Camus'}, {'quote': \"If you tell the truth, you don't have to remember anything.\", 'author': 'Mark Twain'}, {'quote': \"I've learned that people will forget what you said, people will forget what you did, but people will never forget how you made them feel.\", 'author': 'Maya Angelou'}, {'quote': 'Friendship ... is born at the moment when one man says to another \"What! You too? I thought that no one but myself . . .', 'author': 'C.S. Lewis, The Four Loves'}, {'quote': 'To live is the rarest thing in the world. Most people exist, that is all.', 'author': 'Oscar Wilde'}, {'quote': 'A friend is someone who knows all about you and still loves you.', 'author': 'Elbert Hubbard'}, {'quote': 'Always forgive your enemies; nothing annoys them so much.', 'author': 'Oscar Wilde'}, {'quote': 'Darkness cannot drive out darkness: only light can do that. Hate cannot drive out hate: only love can do that.', 'author': 'Martin Luther King Jr., A Testament of Hope: The Essential Writings and Speeches'}, {'quote': 'Live as if you were to die tomorrow. Learn as if you were to live forever.', 'author': 'Mahatma Gandhi'}, {'quote': 'We accept the love we think we deserve.', 'author': 'Stephen Chbosky, The Perks of Being a Wallflower'}, {'quote': 'Without music, life would be a mistake.', 'author': 'Friedrich Nietzsche, Twilight of the Idols'}, {'quote': \"I am so clever that sometimes I don't understand a single word of what I am saying.\", 'author': 'Oscar Wilde, The Happy Prince and Other Stories'}, {'quote': 'To be yourself in a world that is constantly trying to make you something else is the greatest accomplishment.', 'author': 'Ralph Waldo Emerson'}, {'quote': \"Here's to the crazy ones. The misfits. The rebels. The troublemakers. The round pegs in the square holes. The ones who see things differently. They're not fond of rules. And they have no respect for the status quo. You can quote them, disagree with them, glorify or vilify them. About the only thing you can't do is ignore them. Because they change things. They push the human race forward. And while some may see them as the crazy ones, we see genius. Because the people who are crazy enough to think they can change the world, are the ones who do.\", 'author': 'Steve Jobs'}, {'quote': 'Insanity is doing the same thing, over and over again, but expecting different results.', 'author': 'Narcotics Anonymous'}, {'quote': \"I believe that everything happens for a reason. People change so that you can learn to let go, things go wrong so that you appreciate them when they're right, you believe lies so you eventually learn to trust no one but yourself, and sometimes good things fall apart so better things can fall together.\", 'author': 'Marilyn Monroe'}, {'quote': 'It is better to be hated for what you are than to be loved for what you are not.', 'author': 'Andre Gide, Autumn Leaves'}, {'quote': \"Twenty years from now you will be more disappointed by the things that you didn't do than by the ones you did do. So throw off the bowlines. Sail away from the safe harbor. Catch the trade winds in your sails. Explore. Dream. Discover.\", 'author': 'H. Jackson Brown Jr., P.S. I Love You'}]\n"
     ]
    }
   ],
   "source": [
    "# Extract quotes and authors into a dictionary\n",
    "quote_list = []\n",
    "for quote in quote_divs:\n",
    "    text = quote.get_text(strip=True, separator=\" \")\n",
    "    \n",
    "    # Splitting text into quote and author\n",
    "    if \"―\" in text:\n",
    "        quote_text, author = text.rsplit(\"―\", 1)\n",
    "    elif \"—\" in text:\n",
    "        quote_text, author = text.rsplit(\"—\", 1)\n",
    "    else:\n",
    "        quote_text = text.strip(\"“” \").strip()\n",
    "        author = \"Unknown\"\n",
    "\n",
    "    quote_text = quote_text.strip(\"“” \").strip()\n",
    "    author = author.strip()\n",
    "\n",
    "\n",
    "\n",
    "    \n",
    "    quote_list.append({\"quote\": quote_text, \"author\": author})\n",
    "\n",
    "print(quote_list)"
   ]
  },
  {
   "cell_type": "code",
   "execution_count": 57,
   "id": "2de78324-c943-4cd4-8aa6-2530a6adfc56",
   "metadata": {},
   "outputs": [
    {
     "name": "stdout",
     "output_type": "stream",
     "text": [
      "                                               quote                 author\n",
      "0       Be yourself; everyone else is already taken.            Oscar Wilde\n",
      "1  I'm selfish, impatient and a little insecure. ...         Marilyn Monroe\n",
      "2                     So many books, so little time.            Frank Zappa\n",
      "3  Two things are infinite: the universe and huma...        Albert Einstein\n",
      "4  A room without books is like a body without a ...  Marcus Tullius Cicero\n",
      "Quotes saved to quotes.csv\n"
     ]
    }
   ],
   "source": [
    "# Convert to Pandas DataFrame\n",
    "df = pd.DataFrame(quote_list)\n",
    "\n",
    "# Display DataFrame (replace ace_tools function)\n",
    "print(df.head())  # Show the first 5 rows\n",
    "\n",
    "# Save to CSV\n",
    "df.to_csv(\"quotes.csv\", index=False, encoding=\"utf-8\")\n",
    "\n",
    "print(\"Quotes saved to quotes.csv\")\n"
   ]
  },
  {
   "cell_type": "markdown",
   "id": "aab3c115-494c-447f-8048-07318e2bbd40",
   "metadata": {
    "jp-MarkdownHeadingCollapsed": true
   },
   "source": [
    "### wrong code"
   ]
  },
  {
   "cell_type": "code",
   "execution_count": 15,
   "id": "e9a98b6a-b802-4a5c-b4f9-fea45042d680",
   "metadata": {},
   "outputs": [],
   "source": [
    "data = []\n",
    "for quote in quote_divs:\n",
    "    text = quote.get_text(strip=True, separator=\" \")\n",
    "    data.append([text])"
   ]
  },
  {
   "cell_type": "code",
   "execution_count": 19,
   "id": "9cda147e-6bf4-4255-a704-d98544f69c19",
   "metadata": {},
   "outputs": [],
   "source": [
    "import csv\n",
    "\n",
    "csv_filename = \"quotes.csv\"\n",
    "with open(csv_filename, \"w\", newline=\"\", encoding=\"utf-8\") as file:\n",
    "    writer = csv.writer(file)\n",
    "    writer.writerow([\"Quote\"])\n",
    "    writer.writerows(data)"
   ]
  },
  {
   "cell_type": "markdown",
   "id": "10253cbc-ec58-4c14-9938-78eee14ab9b0",
   "metadata": {},
   "source": [
    "`quoteText_div = quote_div.find_next(\"div\", attrs={\"class\": \"quoteText\"})` <br>\n",
    "Finds the next `<div>` with the class `\"quoteText\"` inside `quote_div`. <br>\n",
    "This should contain the actual text of the quote."
   ]
  },
  {
   "cell_type": "code",
   "execution_count": 11,
   "id": "d9885df0-2b48-4978-b8c8-14376877a2fb",
   "metadata": {},
   "outputs": [
    {
     "data": {
      "text/plain": [
       "<div class=\"quoteText\">\n",
       "      “Be yourself; everyone else is already taken.”\n",
       "    <br/>\n",
       "  ―\n",
       "  <span class=\"authorOrTitle\">\n",
       "    Oscar Wilde\n",
       "  </span>\n",
       "</div>"
      ]
     },
     "execution_count": 11,
     "metadata": {},
     "output_type": "execute_result"
    }
   ],
   "source": [
    "quote_div = quote_divs[0]\n",
    "quote_div"
   ]
  },
  {
   "cell_type": "code",
   "execution_count": 13,
   "id": "fe197f72-4437-40ab-a073-8443c60e5cce",
   "metadata": {},
   "outputs": [
    {
     "name": "stdout",
     "output_type": "stream",
     "text": [
      "<div class=\"quoteText\">\n",
      "      “I'm selfish, impatient and a little insecure. I make mistakes, I am out of control and at times hard to handle. But if you can't handle me at my worst, then you sure as hell don't deserve me at my best.”\n",
      "    <br/>\n",
      "  ―\n",
      "  <span class=\"authorOrTitle\">\n",
      "    Marilyn Monroe\n",
      "  </span>\n",
      "</div>\n"
     ]
    }
   ],
   "source": [
    "#choose quotes from our list\n",
    "quoteText_div = quote_div.find_next(\"div\", attrs={\"class\": \"quoteText\"})\n",
    "print(quoteText_div)"
   ]
  },
  {
   "cell_type": "markdown",
   "id": "fffbd7ec-b208-4683-ab88-06c137eaf8f7",
   "metadata": {},
   "source": [
    "`quoteText_div.text`: Extracts the text content from the quoteText_div HTML element. <br>\n",
    "`.strip()`: Removes leading and trailing whitespace (spaces, newlines, tabs). <br>\n",
    "Stores the cleaned text in the variable striped."
   ]
  },
  {
   "cell_type": "code",
   "execution_count": 15,
   "id": "2adda120-2ace-4073-8c03-0417b6fa8cdc",
   "metadata": {},
   "outputs": [
    {
     "name": "stdout",
     "output_type": "stream",
     "text": [
      "“I'm selfish, impatient and a little insecure. I make mistakes, I am out of control and at times hard to handle. But if you can't handle me at my worst, then you sure as hell don't deserve me at my best.”\n",
      "    \n",
      "  ―\n",
      "  \n",
      "    Marilyn Monroe\n"
     ]
    }
   ],
   "source": [
    "#use the strip tool to just keep the text needed\n",
    "striped = quoteText_div.text.strip()\n",
    "print(striped)"
   ]
  },
  {
   "cell_type": "markdown",
   "id": "a91b0a36-17a2-4396-946b-7222a39b375d",
   "metadata": {},
   "source": [
    "`striped.split(\"\\n\")` <br>\n",
    "Splits the string wherever there is a newline `(\\n)`. <br>\n",
    "Returns a list of substrings."
   ]
  },
  {
   "cell_type": "code",
   "execution_count": 17,
   "id": "03fb6219-e651-49ff-a3f9-c9c4d1b27d33",
   "metadata": {},
   "outputs": [
    {
     "name": "stdout",
     "output_type": "stream",
     "text": [
      "[\"“I'm selfish, impatient and a little insecure. I make mistakes, I am out of control and at times hard to handle. But if you can't handle me at my worst, then you sure as hell don't deserve me at my best.”\", '    ', '  ―', '  ', '    Marilyn Monroe']\n"
     ]
    }
   ],
   "source": [
    "#Split our quote into pieces\n",
    "striped_text = striped.split(\"\\n\") \n",
    "print(striped_text)"
   ]
  },
  {
   "cell_type": "markdown",
   "id": "c38f9d88-c602-4945-b11b-348a8636f182",
   "metadata": {},
   "source": [
    "`striped_text[0]`: Selects the first element from the striped_text list, which contains the quote. <br>\n",
    "`[1:-1]`: Uses string slicing to remove the first and last character."
   ]
  },
  {
   "cell_type": "code",
   "execution_count": 19,
   "id": "538746ae-ef52-4835-9e28-51bf3404549b",
   "metadata": {},
   "outputs": [
    {
     "data": {
      "text/plain": [
       "\"I'm selfish, impatient and a little insecure. I make mistakes, I am out of control and at times hard to handle. But if you can't handle me at my worst, then you sure as hell don't deserve me at my best.\""
      ]
     },
     "execution_count": 19,
     "metadata": {},
     "output_type": "execute_result"
    }
   ],
   "source": [
    "#Save the quote and the author in a separate variable\n",
    "quote = striped_text[0][1:-1]  \n",
    "quote"
   ]
  },
  {
   "cell_type": "code",
   "execution_count": 21,
   "id": "1427dd99-53f2-4a78-9612-ea4112f95ecc",
   "metadata": {},
   "outputs": [
    {
     "data": {
      "text/plain": [
       "'Marilyn Monroe'"
      ]
     },
     "execution_count": 21,
     "metadata": {},
     "output_type": "execute_result"
    }
   ],
   "source": [
    "author = striped_text[4].strip() \n",
    "author"
   ]
  },
  {
   "cell_type": "code",
   "execution_count": 23,
   "id": "ee43e754-4a6a-490d-936d-5289dae32ad0",
   "metadata": {},
   "outputs": [],
   "source": [
    "def getAllQuotes(url): \n",
    "    quotes = []\n",
    "    for quote_div in quote_divs:\n",
    "        quoteText_div = quote_div.find_next(\"div\", attrs={\"class\" :\n",
    "\"quoteText\"})\n",
    "        striped = quoteText_div.text.strip()\n",
    "        striped_text= striped.split(\"\\n\")\n",
    "        quote = striped_text[0][1:-1]\n",
    "        author = striped_text[-1].strip()\n",
    "        quote_item = {\n",
    "            \"quote\" : quote,\n",
    "            \"author\" : author\n",
    "        }"
   ]
  },
  {
   "cell_type": "code",
   "execution_count": 25,
   "id": "13234028-02cf-4bc4-bbfa-9e260856d94e",
   "metadata": {},
   "outputs": [
    {
     "ename": "AttributeError",
     "evalue": "'NoneType' object has no attribute 'text'",
     "output_type": "error",
     "traceback": [
      "\u001b[0;31m---------------------------------------------------------------------------\u001b[0m",
      "\u001b[0;31mAttributeError\u001b[0m                            Traceback (most recent call last)",
      "Cell \u001b[0;32mIn[25], line 1\u001b[0m\n\u001b[0;32m----> 1\u001b[0m quote_data \u001b[38;5;241m=\u001b[39m getAllQuotes(url)\n\u001b[1;32m      2\u001b[0m \u001b[38;5;28mprint\u001b[39m(quote_data)\n",
      "Cell \u001b[0;32mIn[23], line 6\u001b[0m, in \u001b[0;36mgetAllQuotes\u001b[0;34m(url)\u001b[0m\n\u001b[1;32m      3\u001b[0m     \u001b[38;5;28;01mfor\u001b[39;00m quote_div \u001b[38;5;129;01min\u001b[39;00m quote_divs:\n\u001b[1;32m      4\u001b[0m         quoteText_div \u001b[38;5;241m=\u001b[39m quote_div\u001b[38;5;241m.\u001b[39mfind_next(\u001b[38;5;124m\"\u001b[39m\u001b[38;5;124mdiv\u001b[39m\u001b[38;5;124m\"\u001b[39m, attrs\u001b[38;5;241m=\u001b[39m{\u001b[38;5;124m\"\u001b[39m\u001b[38;5;124mclass\u001b[39m\u001b[38;5;124m\"\u001b[39m :\n\u001b[1;32m      5\u001b[0m \u001b[38;5;124m\"\u001b[39m\u001b[38;5;124mquoteText\u001b[39m\u001b[38;5;124m\"\u001b[39m})\n\u001b[0;32m----> 6\u001b[0m         striped \u001b[38;5;241m=\u001b[39m quoteText_div\u001b[38;5;241m.\u001b[39mtext\u001b[38;5;241m.\u001b[39mstrip()\n\u001b[1;32m      7\u001b[0m         striped_text\u001b[38;5;241m=\u001b[39m striped\u001b[38;5;241m.\u001b[39msplit(\u001b[38;5;124m\"\u001b[39m\u001b[38;5;130;01m\\n\u001b[39;00m\u001b[38;5;124m\"\u001b[39m)\n\u001b[1;32m      8\u001b[0m         quote \u001b[38;5;241m=\u001b[39m striped_text[\u001b[38;5;241m0\u001b[39m][\u001b[38;5;241m1\u001b[39m:\u001b[38;5;241m-\u001b[39m\u001b[38;5;241m1\u001b[39m]\n",
      "\u001b[0;31mAttributeError\u001b[0m: 'NoneType' object has no attribute 'text'"
     ]
    }
   ],
   "source": [
    "quote_data = getAllQuotes(url)\n",
    "print(quote_data)"
   ]
  },
  {
   "cell_type": "code",
   "execution_count": 132,
   "id": "bb284e17-5165-43dc-9231-ea6e57440d9a",
   "metadata": {},
   "outputs": [],
   "source": [
    "import pandas as pd\n",
    "df = pd.DataFrame(quote_data)\n",
    "df.to_csv(\"scrap.csv\", index=None)"
   ]
  },
  {
   "cell_type": "code",
   "execution_count": null,
   "id": "69def32e-91d5-4c31-81d2-28f14e0e7ca6",
   "metadata": {},
   "outputs": [],
   "source": []
  }
 ],
 "metadata": {
  "kernelspec": {
   "display_name": "Python 3 (ipykernel)",
   "language": "python",
   "name": "python3"
  },
  "language_info": {
   "codemirror_mode": {
    "name": "ipython",
    "version": 3
   },
   "file_extension": ".py",
   "mimetype": "text/x-python",
   "name": "python",
   "nbconvert_exporter": "python",
   "pygments_lexer": "ipython3",
   "version": "3.12.4"
  }
 },
 "nbformat": 4,
 "nbformat_minor": 5
}
